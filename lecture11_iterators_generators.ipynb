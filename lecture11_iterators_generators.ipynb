{
 "cells": [
  {
   "attachments": {},
   "cell_type": "markdown",
   "metadata": {},
   "source": [
    "# Lecture 11: Iterators and generators\n",
    "\n",
    "- Implement iterator behavior in custom classes so they can be looped through using the same convenient syntax as built-in containers\n",
    "- Use generators to create simple, custom iterators\n",
    "\n",
    "- 在自定义类中实现迭代器行为，以便它们可以使用与内置容器相同的方便语法进行循环\n",
    "- 使用生成器创建简单的自定义迭代器\n",
    "\n",
    "__Reading material__: \n",
    "- [Python tutorial](https://docs.python.org/3.9/tutorial/) 9.8 - 9.10\n",
    "- Optional: http://anandology.com/python-practice-book/iterators.html"
   ]
  },
  {
   "attachments": {},
   "cell_type": "markdown",
   "metadata": {},
   "source": [
    "We’re learning to write the blueprint for our own container objects, that is, objects that contain multiple elements that we can access individually and iterate over in a for loop. Python lists, tuples, sets, and dictionaries are all built-in container objects. \n",
    "\n",
    "我们正在学习为我们自己的容器对象编写蓝图，即包含多个元素的对象，我们可以单独访问这些元素并在 for 循环中迭代。 Python 列表、元组、集合和字典都是内置的容器对象。"
   ]
  },
  {
   "cell_type": "code",
   "execution_count": 1,
   "metadata": {},
   "outputs": [
    {
     "name": "stdout",
     "output_type": "stream",
     "text": [
      "1\n",
      "2\n",
      "3\n",
      "1\n",
      "2\n",
      "3\n",
      "one\n",
      "two\n",
      "1\n",
      "2\n",
      "3\n"
     ]
    }
   ],
   "source": [
    "for element in [1, 2, 3]:  # List\n",
    "    print(element) \n",
    "for element in (1, 2, 3):  # tuple\n",
    "    print(element)\n",
    "for key in {'one':1, 'two':2}:  # dict\n",
    "    print(key)\n",
    "for char in \"123\":  # char\n",
    "    print(char)"
   ]
  },
  {
   "cell_type": "code",
   "execution_count": 2,
   "metadata": {},
   "outputs": [],
   "source": [
    "myList = [1, 2, 3]"
   ]
  },
  {
   "cell_type": "code",
   "execution_count": 5,
   "metadata": {},
   "outputs": [],
   "source": [
    "# dir(myList)\n",
    "myIterator = iter(myList)"
   ]
  },
  {
   "cell_type": "code",
   "execution_count": 6,
   "metadata": {},
   "outputs": [
    {
     "data": {
      "text/plain": [
       "list_iterator"
      ]
     },
     "execution_count": 6,
     "metadata": {},
     "output_type": "execute_result"
    }
   ],
   "source": [
    "type(myIterator)"
   ]
  },
  {
   "cell_type": "code",
   "execution_count": 7,
   "metadata": {},
   "outputs": [
    {
     "name": "stdout",
     "output_type": "stream",
     "text": [
      "1\n"
     ]
    }
   ],
   "source": [
    "# dir(myIterator)\n",
    "print(next(myIterator))"
   ]
  },
  {
   "cell_type": "code",
   "execution_count": 5,
   "metadata": {},
   "outputs": [
    {
     "name": "stdout",
     "output_type": "stream",
     "text": [
      "2\n"
     ]
    }
   ],
   "source": [
    "print(next(myIterator))"
   ]
  },
  {
   "cell_type": "code",
   "execution_count": 6,
   "metadata": {},
   "outputs": [
    {
     "name": "stdout",
     "output_type": "stream",
     "text": [
      "3\n"
     ]
    }
   ],
   "source": [
    "print(next(myIterator))"
   ]
  },
  {
   "cell_type": "code",
   "execution_count": 8,
   "metadata": {},
   "outputs": [
    {
     "ename": "StopIteration",
     "evalue": "",
     "output_type": "error",
     "traceback": [
      "\u001b[0;31m---------------------------------------------------------------------------\u001b[0m",
      "\u001b[0;31mStopIteration\u001b[0m                             Traceback (most recent call last)",
      "Cell \u001b[0;32mIn[8], line 1\u001b[0m\n\u001b[0;32m----> 1\u001b[0m \u001b[39mprint\u001b[39m(\u001b[39mnext\u001b[39;49m(myIterator))\n",
      "\u001b[0;31mStopIteration\u001b[0m: "
     ]
    }
   ],
   "source": [
    "print(next(myIterator))"
   ]
  },
  {
   "cell_type": "code",
   "execution_count": 7,
   "metadata": {},
   "outputs": [
    {
     "name": "stdout",
     "output_type": "stream",
     "text": [
      "1\n",
      "2\n",
      "3\n"
     ]
    }
   ],
   "source": [
    "# first creates an iterator by calling iter(myList)\n",
    "# repeatedly calls the next method on this iterator until it raises StopIteration\n",
    "# 首先通过调用 iter(myList) 创建一个迭代器\n",
    "# 重复调用此迭代器的下一个方法，直到引发 StopIteration\n",
    "for elem in myList:\n",
    "    print(elem)"
   ]
  },
  {
   "attachments": {},
   "cell_type": "markdown",
   "metadata": {},
   "source": [
    "## Iterators\n",
    "Now we’re trying to create our own.\n",
    "Our custom container might have a built-in container object as an instance variable. For instance, the following __Reverse__ class has an instance variable data that is already a container. In this case, we just need to write some code that tells a for loop how to iterate over that instance variable.\n",
    "\n",
    "现在我们正在尝试创建我们自己的。\n",
    "我们的自定义容器可能有一个内置容器对象作为实例变量。 例如，下面的 __Reverse__ 类有一个已经是容器的实例变量数据。 在这种情况下，我们只需要编写一些代码来告诉 for 循环如何迭代该实例变量。"
   ]
  },
  {
   "cell_type": "code",
   "execution_count": 8,
   "metadata": {},
   "outputs": [],
   "source": [
    "class Reverse:\n",
    "    \"\"\"Iterator for looping over a sequence backwards.\"\"\"\n",
    "    def __init__(self, data):\n",
    "        self.data = data\n",
    "\n",
    "    def __iter__(self):\n",
    "        return ReverseIterator(self)\n",
    "    \n",
    "class ReverseIterator:\n",
    "    def __init__(self, reverseObject):\n",
    "        self.index = len(reverseObject.data)\n",
    "        self.r = reverseObject\n",
    "        \n",
    "    def __next__(self):\n",
    "        if self.index == 0:   # self.index = 4 bc self.index = len(reverseObject.data) --> 4\n",
    "            raise StopIteration\n",
    "        self.index = self.index - 1\n",
    "        return self.r.data[self.index]"
   ]
  },
  {
   "cell_type": "code",
   "execution_count": 9,
   "metadata": {},
   "outputs": [],
   "source": [
    "rev = Reverse('spam')"
   ]
  },
  {
   "cell_type": "code",
   "execution_count": 10,
   "metadata": {},
   "outputs": [
    {
     "name": "stdout",
     "output_type": "stream",
     "text": [
      "spam\n"
     ]
    }
   ],
   "source": [
    "print(rev.data)"
   ]
  },
  {
   "cell_type": "code",
   "execution_count": 11,
   "metadata": {},
   "outputs": [],
   "source": [
    "revIter = iter(rev)"
   ]
  },
  {
   "cell_type": "code",
   "execution_count": 12,
   "metadata": {},
   "outputs": [
    {
     "name": "stdout",
     "output_type": "stream",
     "text": [
      "m\n"
     ]
    }
   ],
   "source": [
    "print(next(revIter))"
   ]
  },
  {
   "cell_type": "code",
   "execution_count": 13,
   "metadata": {},
   "outputs": [
    {
     "name": "stdout",
     "output_type": "stream",
     "text": [
      "a\n"
     ]
    }
   ],
   "source": [
    "print(next(revIter))"
   ]
  },
  {
   "cell_type": "code",
   "execution_count": 14,
   "metadata": {
    "scrolled": true
   },
   "outputs": [
    {
     "name": "stdout",
     "output_type": "stream",
     "text": [
      "<__main__.Reverse object at 0x103f6c880> 2\n"
     ]
    }
   ],
   "source": [
    "print(revIter.r, revIter.index)"
   ]
  },
  {
   "cell_type": "code",
   "execution_count": 15,
   "metadata": {},
   "outputs": [
    {
     "name": "stdout",
     "output_type": "stream",
     "text": [
      "p\n",
      "<__main__.Reverse object at 0x103f6c880> 1\n"
     ]
    }
   ],
   "source": [
    "print(next(revIter))\n",
    "print(revIter.r, revIter.index)"
   ]
  },
  {
   "cell_type": "code",
   "execution_count": 16,
   "metadata": {},
   "outputs": [
    {
     "name": "stdout",
     "output_type": "stream",
     "text": [
      "s\n",
      "<__main__.Reverse object at 0x103f6c880> 0\n"
     ]
    }
   ],
   "source": [
    "print(next(revIter))\n",
    "print(revIter.r, revIter.index)"
   ]
  },
  {
   "cell_type": "code",
   "execution_count": 21,
   "metadata": {},
   "outputs": [
    {
     "ename": "StopIteration",
     "evalue": "",
     "output_type": "error",
     "traceback": [
      "\u001b[0;31m---------------------------------------------------------------------------\u001b[0m",
      "\u001b[0;31mStopIteration\u001b[0m                             Traceback (most recent call last)",
      "Cell \u001b[0;32mIn[21], line 1\u001b[0m\n\u001b[0;32m----> 1\u001b[0m \u001b[39mprint\u001b[39m(\u001b[39mnext\u001b[39;49m(revIter))\n\u001b[1;32m      2\u001b[0m \u001b[39mprint\u001b[39m(revIter\u001b[39m.\u001b[39mr, revIter\u001b[39m.\u001b[39mindex)\n",
      "Cell \u001b[0;32mIn[12], line 16\u001b[0m, in \u001b[0;36mReverseIterator.__next__\u001b[0;34m(self)\u001b[0m\n\u001b[1;32m     14\u001b[0m \u001b[39mdef\u001b[39;00m \u001b[39m__next__\u001b[39m(\u001b[39mself\u001b[39m):\n\u001b[1;32m     15\u001b[0m     \u001b[39mif\u001b[39;00m \u001b[39mself\u001b[39m\u001b[39m.\u001b[39mindex \u001b[39m==\u001b[39m \u001b[39m0\u001b[39m:   \u001b[39m# self.index = 4 bc self.index = len(reverseObject.data) --> 4\u001b[39;00m\n\u001b[0;32m---> 16\u001b[0m         \u001b[39mraise\u001b[39;00m \u001b[39mStopIteration\u001b[39;00m\n\u001b[1;32m     17\u001b[0m     \u001b[39mself\u001b[39m\u001b[39m.\u001b[39mindex \u001b[39m=\u001b[39m \u001b[39mself\u001b[39m\u001b[39m.\u001b[39mindex \u001b[39m-\u001b[39m \u001b[39m1\u001b[39m\n\u001b[1;32m     18\u001b[0m     \u001b[39mreturn\u001b[39;00m \u001b[39mself\u001b[39m\u001b[39m.\u001b[39mr\u001b[39m.\u001b[39mdata[\u001b[39mself\u001b[39m\u001b[39m.\u001b[39mindex]\n",
      "\u001b[0;31mStopIteration\u001b[0m: "
     ]
    }
   ],
   "source": [
    "print(next(revIter))\n",
    "print(revIter.r, revIter.index)"
   ]
  },
  {
   "cell_type": "code",
   "execution_count": 18,
   "metadata": {},
   "outputs": [
    {
     "ename": "StopIteration",
     "evalue": "",
     "output_type": "error",
     "traceback": [
      "\u001b[0;31m---------------------------------------------------------------------------\u001b[0m",
      "\u001b[0;31mStopIteration\u001b[0m                             Traceback (most recent call last)",
      "Cell \u001b[0;32mIn[18], line 1\u001b[0m\n\u001b[0;32m----> 1\u001b[0m \u001b[39mprint\u001b[39m(\u001b[39mnext\u001b[39;49m(revIter))\n",
      "Cell \u001b[0;32mIn[9], line 16\u001b[0m, in \u001b[0;36mReverseIterator.__next__\u001b[0;34m(self)\u001b[0m\n\u001b[1;32m     14\u001b[0m \u001b[39mdef\u001b[39;00m \u001b[39m__next__\u001b[39m(\u001b[39mself\u001b[39m):\n\u001b[1;32m     15\u001b[0m     \u001b[39mif\u001b[39;00m \u001b[39mself\u001b[39m\u001b[39m.\u001b[39mindex \u001b[39m==\u001b[39m \u001b[39m0\u001b[39m:\n\u001b[0;32m---> 16\u001b[0m         \u001b[39mraise\u001b[39;00m \u001b[39mStopIteration\u001b[39;00m\n\u001b[1;32m     17\u001b[0m     \u001b[39mself\u001b[39m\u001b[39m.\u001b[39mindex \u001b[39m=\u001b[39m \u001b[39mself\u001b[39m\u001b[39m.\u001b[39mindex \u001b[39m-\u001b[39m \u001b[39m1\u001b[39m\n\u001b[1;32m     18\u001b[0m     \u001b[39mreturn\u001b[39;00m \u001b[39mself\u001b[39m\u001b[39m.\u001b[39mr\u001b[39m.\u001b[39mdata[\u001b[39mself\u001b[39m\u001b[39m.\u001b[39mindex]\n",
      "\u001b[0;31mStopIteration\u001b[0m: "
     ]
    }
   ],
   "source": [
    "print(next(revIter))"
   ]
  },
  {
   "cell_type": "code",
   "execution_count": 22,
   "metadata": {},
   "outputs": [
    {
     "name": "stdout",
     "output_type": "stream",
     "text": [
      "m\n",
      "a\n",
      "p\n",
      "s\n"
     ]
    }
   ],
   "source": [
    "for char in rev:\n",
    "    print(char)"
   ]
  },
  {
   "attachments": {},
   "cell_type": "markdown",
   "metadata": {},
   "source": [
    "- The simplest sort of container object will have its own `__next__` method that, when called, returns to the for loop the next element in the container. When there are no more elements in the container, it raises a StopIteration exception (see 8.4 in [Python tutorial](https://docs.python.org/3.7/tutorial/) ) instead of returning an element. The for loop terminates when it gets this exception.\n",
    "\n",
    "- In general, however, the container object doesn’t need to have its own `__next__` method. Instead, it may assign the job of picking the next element to a separate object, called an __iterator__.\n",
    "\n",
    "- 最简单的容器对象将拥有自己的 __next__ 方法，调用该方法时，会将容器中的下一个元素返回给 for 循环。 当容器中没有更多元素时，它会引发 StopIteration 异常（参见 [Python 教程](https://docs.python.org/3.7/tutorial/) 中的 8.4）而不是返回元素。 for 循环在获得此异常时终止。\n",
    "\n",
    "- 然而，一般来说，容器对象不需要有自己的 __next__ 方法。 相反，它可以将挑选下一个元素的工作分配给一个单独的对象，称为 __iterator__。"
   ]
  },
  {
   "attachments": {},
   "cell_type": "markdown",
   "metadata": {},
   "source": [
    "- In general, an iterator is any object that defines a suitable `__next__` method. When an iterator object’s `__next__` method is invoked, the method should return the next element of some collection – whatever that may mean. How the `__next__` method is written defines the order in which the elements of a collection are iterated over in a for loop.\n",
    "\n",
    "- Your collection appoints an iterator by defining an `__iter__` method that returns an instance of an iterator object.\n",
    "\n",
    "- 通常，迭代器是定义合适的 __next__ 方法的任何对象。 当迭代器对象的 __next__ 方法被调用时，该方法应该返回某个集合的下一个元素——无论这意味着什么。 `__next__` 方法的编写方式定义了集合元素在 for 循环中迭代的顺序。\n",
    "\n",
    "- 你的集合通过定义一个返回迭代器对象实例的 `__iter__` 方法来指定一个迭代器。"
   ]
  },
  {
   "attachments": {},
   "cell_type": "markdown",
   "metadata": {},
   "source": [
    "If the collection has its own next method, the collection’s `__iter__` method can return self; the container will serve as its own iterator. Note that in the following example, the __Reverse__ class is both the container and the iterator object. But in general, the iterator can be a separate object from the container.\n",
    "\n",
    "如果集合有自己的 next 方法，集合的 __iter__ 方法可以返回 self； 容器将作为它自己的迭代器。 请注意，在以下示例中， __Reverse__ 类既是容器又是迭代器对象。 但一般来说，迭代器可以是一个独立于容器的对象。"
   ]
  },
  {
   "cell_type": "code",
   "execution_count": 8,
   "metadata": {},
   "outputs": [],
   "source": [
    "class Reverse:\n",
    "    \"\"\"Iterator for looping over a sequence backwards.\"\"\"\n",
    "    def __init__(self, data):\n",
    "        self.data = data\n",
    "        self.index = len(data)\n",
    "\n",
    "    def __iter__(self):\n",
    "        return self\n",
    "\n",
    "    def __next__(self):\n",
    "        if self.index == 0:\n",
    "            raise StopIteration\n",
    "        self.index = self.index - 1\n",
    "        return self.data[self.index]"
   ]
  },
  {
   "cell_type": "code",
   "execution_count": 9,
   "metadata": {},
   "outputs": [
    {
     "name": "stdout",
     "output_type": "stream",
     "text": [
      "e\n",
      "l\n",
      "p\n",
      "p\n",
      "a\n"
     ]
    }
   ],
   "source": [
    "rev = Reverse('apple')\n",
    "iter(rev)\n",
    "for char in rev:\n",
    "    print(char)"
   ]
  },
  {
   "cell_type": "code",
   "execution_count": 10,
   "metadata": {},
   "outputs": [
    {
     "name": "stdout",
     "output_type": "stream",
     "text": [
      "True\n"
     ]
    }
   ],
   "source": [
    "rev = Reverse('apple')\n",
    "revIter = iter(rev)\n",
    "print(rev is revIter)"
   ]
  },
  {
   "cell_type": "markdown",
   "metadata": {},
   "source": [
    "Here's another example:"
   ]
  },
  {
   "cell_type": "code",
   "execution_count": 23,
   "metadata": {},
   "outputs": [
    {
     "name": "stdout",
     "output_type": "stream",
     "text": [
      "[5, 10, 15]\n"
     ]
    }
   ],
   "source": [
    "class ThreeElementContainer:\n",
    "    def __init__(self, a = 0, b = 0, c = 0):\n",
    "        self.a = a\n",
    "        self.b = b\n",
    "        self.c = c\n",
    "        self.i = 0\n",
    "    \n",
    "    def __iter__(self):\n",
    "        print(\"iter called\")\n",
    "        return self\n",
    "        \n",
    "    def __next__(self):\n",
    "        print(\"next called\")\n",
    "        if self.i == 0:\n",
    "            el = self.a\n",
    "        elif self.i == 1:\n",
    "            el = self.b\n",
    "        elif self.i == 2:\n",
    "            el = self.c\n",
    "        else:\n",
    "            print(\"raised an exception\")\n",
    "            raise StopIteration\n",
    "        self.i += 1\n",
    "        return el\n",
    "        \n",
    "    def __str__(self):\n",
    "        return \"[\" + str(self.a) + \", \" + str(self.b) + \", \" + str(self.c)+ \"]\"\n",
    "        \n",
    "t = ThreeElementContainer(5,10,15)\n",
    "print(t)\n"
   ]
  },
  {
   "cell_type": "code",
   "execution_count": 24,
   "metadata": {},
   "outputs": [
    {
     "name": "stdout",
     "output_type": "stream",
     "text": [
      "iter called\n",
      "next called\n",
      "5\n",
      "next called\n",
      "10\n",
      "next called\n",
      "15\n",
      "next called\n",
      "raised an exception\n"
     ]
    }
   ],
   "source": [
    "for el in t:\n",
    "    print(el)"
   ]
  },
  {
   "cell_type": "code",
   "execution_count": 25,
   "metadata": {},
   "outputs": [
    {
     "name": "stdout",
     "output_type": "stream",
     "text": [
      "iter called\n",
      "next called\n",
      "raised an exception\n"
     ]
    }
   ],
   "source": [
    "for el in t:\n",
    "    print(el)"
   ]
  },
  {
   "cell_type": "code",
   "execution_count": 26,
   "metadata": {},
   "outputs": [
    {
     "name": "stdout",
     "output_type": "stream",
     "text": [
      "[5, 10, 15]\n"
     ]
    }
   ],
   "source": [
    "class ThreeElementContainer2:\n",
    "    def __init__(self, a = 0, b = 0, c = 0):\n",
    "        self.a = a\n",
    "        self.b = b\n",
    "        self.c = c\n",
    "        self.i = 0\n",
    "    \n",
    "    def __iter__(self):\n",
    "        print(\"iter called\")\n",
    "        self.i = 0 # reset self.i\n",
    "        return self\n",
    "        \n",
    "    def __next__(self):\n",
    "        print(\"next called\")\n",
    "        if self.i == 0:\n",
    "            el = self.a\n",
    "        elif self.i == 1:\n",
    "            el = self.b\n",
    "        elif self.i == 2:\n",
    "            el = self.c\n",
    "        else:\n",
    "            print(\"raised an exception\")\n",
    "            raise StopIteration\n",
    "        self.i += 1\n",
    "        return el\n",
    "        \n",
    "    def __str__(self):\n",
    "        return \"[\" + str(self.a) + \", \" + str(self.b) + \", \" + str(self.c)+ \"]\"\n",
    "        \n",
    "t = ThreeElementContainer2(5,10,15)\n",
    "print(t)"
   ]
  },
  {
   "cell_type": "code",
   "execution_count": 27,
   "metadata": {},
   "outputs": [
    {
     "name": "stdout",
     "output_type": "stream",
     "text": [
      "iter called\n",
      "next called\n",
      "5\n",
      "next called\n",
      "10\n",
      "next called\n",
      "15\n",
      "next called\n",
      "raised an exception\n"
     ]
    }
   ],
   "source": [
    "for el in t:\n",
    "    print(el)"
   ]
  },
  {
   "cell_type": "code",
   "execution_count": 28,
   "metadata": {},
   "outputs": [
    {
     "name": "stdout",
     "output_type": "stream",
     "text": [
      "iter called\n",
      "next called\n",
      "5\n",
      "next called\n",
      "10\n",
      "next called\n",
      "15\n",
      "next called\n",
      "raised an exception\n"
     ]
    }
   ],
   "source": [
    "for el in t:\n",
    "    print(el)"
   ]
  },
  {
   "attachments": {},
   "cell_type": "markdown",
   "metadata": {},
   "source": [
    "## Generators\n",
    "The generator is the elegant brother of iterator that allows you to write iterators like the one you saw earlier, but in a much easier syntax where you do not have to write classes with `__iter__` and `__next__` methods.\n",
    "\n",
    "## 生成器\n",
    "生成器是迭代器的优雅兄弟，它允许您像之前看到的那样编写迭代器，但使用更简单的语法，您不必使用 `__iter__` 和 `__next__` 方法编写类。"
   ]
  },
  {
   "cell_type": "markdown",
   "metadata": {},
   "source": [
    "Now let's write a __generator__ every_other(data) that yields every other\n",
    "element of the data. "
   ]
  },
  {
   "cell_type": "code",
   "execution_count": 23,
   "metadata": {},
   "outputs": [],
   "source": [
    "def every_other(data):\n",
    "    for index in range(0,len(data),2):\n",
    "        yield data[index]   # yield equal return\n",
    "        "
   ]
  },
  {
   "cell_type": "code",
   "execution_count": 24,
   "metadata": {},
   "outputs": [
    {
     "name": "stdout",
     "output_type": "stream",
     "text": [
      "s p r a i r g l s i e p a i o i u "
     ]
    }
   ],
   "source": [
    "for char in every_other(\"supercalifragilisticexpialidocious\"):  # here for give generator: every_other(\"supercalifragilisticexpialidocious\")\n",
    "    print(char, end=\" \")"
   ]
  },
  {
   "cell_type": "code",
   "execution_count": 25,
   "metadata": {},
   "outputs": [],
   "source": [
    "f = every_other(\"supercalifragilisticexpialidocious\")"
   ]
  },
  {
   "cell_type": "code",
   "execution_count": 26,
   "metadata": {},
   "outputs": [
    {
     "name": "stdout",
     "output_type": "stream",
     "text": [
      "<class 'generator'>\n"
     ]
    }
   ],
   "source": [
    "print(type(f))"
   ]
  },
  {
   "cell_type": "code",
   "execution_count": 27,
   "metadata": {},
   "outputs": [
    {
     "data": {
      "text/plain": [
       "'s'"
      ]
     },
     "execution_count": 27,
     "metadata": {},
     "output_type": "execute_result"
    }
   ],
   "source": [
    "next(f)"
   ]
  },
  {
   "cell_type": "code",
   "execution_count": 34,
   "metadata": {},
   "outputs": [
    {
     "data": {
      "text/plain": [
       "'p'"
      ]
     },
     "execution_count": 34,
     "metadata": {},
     "output_type": "execute_result"
    }
   ],
   "source": [
    "next(f)"
   ]
  },
  {
   "cell_type": "code",
   "execution_count": 35,
   "metadata": {},
   "outputs": [
    {
     "data": {
      "text/plain": [
       "'r'"
      ]
     },
     "execution_count": 35,
     "metadata": {},
     "output_type": "execute_result"
    }
   ],
   "source": [
    "next(f)"
   ]
  },
  {
   "attachments": {},
   "cell_type": "markdown",
   "metadata": {},
   "source": [
    "The magic word with generators is `yield`. There is no return statement in the function `every_other`. The return value of the function will actually be a generator. Inside the for loop when the execution reaches the yield statement, the value of data[index] is returned and the generator state is suspended. During the second next call, the generator resumes from the index at which it stopped earlier and increases this index by one. It continues with the for loop and comes to the yield statement again.\n",
    "\n",
    "`yield` basically replaces the return statement of a function but rather provides a result to its caller without destroying local variables. Thus, in the next iteration, it can work on this local variable value again. So unlike a normal function that you have seen before, where on each call it starts with new set of variables - a generator will resume the execution where it was left off.\n",
    "\n",
    "生成器的神奇词是 yield 。 函数 every_other 中没有 return 语句。 该函数的返回值实际上是一个生成器。 在 for 循环内部，当执行到 yield 语句时，返回 data[index] 的值，生成器状态被挂起。 在第二次 next 调用期间，生成器从它之前停止的索引处恢复，并将该索引增加 1。 它继续 for 循环并再次来到 yield 语句。\n",
    "\n",
    "`yield` 基本上取代了函数的 return 语句，而是在不破坏局部变量的情况下向其调用者提供结果。 因此，在下一次迭代中，它可以再次处理这个局部变量值。 因此，与您之前看到的普通函数不同，在每次调用时，它都以一组新的变量开始——生成器将从中断处恢复执行。"
   ]
  },
  {
   "cell_type": "markdown",
   "metadata": {},
   "source": [
    "Now let's rewrite the ThreeElementContainer class using a generator:"
   ]
  },
  {
   "cell_type": "code",
   "execution_count": 1,
   "metadata": {},
   "outputs": [
    {
     "name": "stdout",
     "output_type": "stream",
     "text": [
      "5\n",
      "10\n",
      "15\n"
     ]
    }
   ],
   "source": [
    "class ThreeElementContainer:\n",
    "    def __init__(self, a = 0, b = 0, c = 0):\n",
    "        self.a = a\n",
    "        self.b = b\n",
    "        self.c = c\n",
    "#        self.i = 0\n",
    "    \n",
    "#    def __iter__(self):\n",
    "#        print(\"iter called\")\n",
    "#        return self\n",
    "\n",
    "    def __iter__(self):\n",
    "        return self.generator()\n",
    "    \n",
    "    def generator(self):\n",
    "        yield self.a\n",
    "        yield self.b\n",
    "        yield self.c\n",
    "        # i = 0\n",
    "        # yield self.a + i\n",
    "        # i += 1\n",
    "        # yield self.b + i\n",
    "        # i += 1\n",
    "        # yield self.c + i\n",
    "        \n",
    "#    def next(self):\n",
    "#        print(\"next called\")\n",
    "#        if self.i == 0:\n",
    "#            el = self.a\n",
    "#        elif self.i == 1:\n",
    "#            el = self.b\n",
    "#        elif self.i == 2:\n",
    "#            el = self.c\n",
    "#        else:\n",
    "#            print(\"raised an exception\")\n",
    "#            raise StopIteration\n",
    "#        self.i += 1\n",
    "#        return el\n",
    "        \n",
    "    def __str__(self):\n",
    "        return \"[\" + str(self.a) + \", \" + str(self.b) + \", \" + str(self.c)+ \"]\"\n",
    "        \n",
    "t = ThreeElementContainer(5,10,15)\n",
    "# print(t)\n",
    "for el in t:\n",
    "    print(el)\n"
   ]
  },
  {
   "cell_type": "markdown",
   "metadata": {},
   "source": [
    "## Generator expressions\n",
    "The generator expressions are the generator equivalent of a list comprehension, but with parentheses instead of square brackets. Just like a list comprehension returns a list, a generator expression will return a generator."
   ]
  },
  {
   "cell_type": "code",
   "execution_count": 12,
   "metadata": {},
   "outputs": [
    {
     "data": {
      "text/plain": [
       "[1, 4, 9, 16, 25, 36, 49, 64, 81]"
      ]
     },
     "execution_count": 12,
     "metadata": {},
     "output_type": "execute_result"
    }
   ],
   "source": [
    "[x * x for x in range(1,10)]\n",
    "# This is a list comprehension"
   ]
  },
  {
   "cell_type": "code",
   "execution_count": 14,
   "metadata": {},
   "outputs": [
    {
     "name": "stdout",
     "output_type": "stream",
     "text": [
      "<class 'generator'>\n",
      "[1, 4, 9, 16, 25, 36, 49, 64, 81]\n"
     ]
    }
   ],
   "source": [
    "squares = (x * x for x in range(1,10))  # squares is generator\n",
    "print(type(squares))\n",
    "print(list(squares))"
   ]
  },
  {
   "cell_type": "markdown",
   "metadata": {},
   "source": [
    "We can also create the same generator every_other (as above) in a single line using a\n",
    "lambda function and a generator expression."
   ]
  },
  {
   "cell_type": "code",
   "execution_count": 16,
   "metadata": {},
   "outputs": [
    {
     "name": "stdout",
     "output_type": "stream",
     "text": [
      "s p r a i r g l s i e p a i o i u \n",
      "s p r a i r g l s i e p a i o i u \n",
      "s p r a i r g l s i e p a i o i u "
     ]
    }
   ],
   "source": [
    "every_other2 = lambda data: (char for char in data[::2])\n",
    "for char in every_other2(\"supercalifragilisticexpialidocious\"):\n",
    "    print(char, end=\" \")\n",
    "\n",
    "print(\"\")\n",
    "# equivalent to\n",
    "for char in (char for char in \"supercalifragilisticexpialidocious\"[::2]):\n",
    "    print(char, end=\" \")\n",
    "\n",
    "print(\"\")\n",
    "\n",
    "# a more memory-efficient solution\n",
    "every_other3 = lambda data: (data[index] for index in range(0,len(data),2)) # range would work, too\n",
    "for char in every_other3(\"supercalifragilisticexpialidocious\"):\n",
    "    print(char, end=\" \")"
   ]
  },
  {
   "cell_type": "code",
   "execution_count": 4,
   "metadata": {},
   "outputs": [
    {
     "name": "stdout",
     "output_type": "stream",
     "text": [
      "1\n",
      "4\n",
      "9\n"
     ]
    },
    {
     "ename": "StopIteration",
     "evalue": "",
     "output_type": "error",
     "traceback": [
      "\u001b[0;31m---------------------------------------------------------------------------\u001b[0m",
      "\u001b[0;31mStopIteration\u001b[0m                             Traceback (most recent call last)",
      "Cell \u001b[0;32mIn[4], line 5\u001b[0m\n\u001b[1;32m      3\u001b[0m \u001b[39mprint\u001b[39m(\u001b[39mnext\u001b[39m(squares))\n\u001b[1;32m      4\u001b[0m \u001b[39mprint\u001b[39m(\u001b[39mnext\u001b[39m(squares))\n\u001b[0;32m----> 5\u001b[0m \u001b[39mprint\u001b[39m(\u001b[39mnext\u001b[39;49m(squares))\n",
      "\u001b[0;31mStopIteration\u001b[0m: "
     ]
    }
   ],
   "source": [
    "squares = (x * x for x in range(1,4))\n",
    "print(next(squares))\n",
    "print(next(squares))\n",
    "print(next(squares))\n",
    "print(next(squares))"
   ]
  },
  {
   "cell_type": "code",
   "execution_count": 3,
   "metadata": {},
   "outputs": [
    {
     "name": "stdout",
     "output_type": "stream",
     "text": [
      "1\n",
      "4\n",
      "9\n",
      "again!\n"
     ]
    }
   ],
   "source": [
    "squares = (x * x for x in range(1,4))\n",
    "for i in squares:\n",
    "    print(i)\n",
    "\n",
    "print(\"again!\")"
   ]
  }
 ],
 "metadata": {
  "kernelspec": {
   "display_name": "16A",
   "language": "python",
   "name": "python3"
  },
  "language_info": {
   "codemirror_mode": {
    "name": "ipython",
    "version": 3
   },
   "file_extension": ".py",
   "mimetype": "text/x-python",
   "name": "python",
   "nbconvert_exporter": "python",
   "pygments_lexer": "ipython3",
   "version": "3.9.15"
  },
  "orig_nbformat": 4,
  "vscode": {
   "interpreter": {
    "hash": "bb173175969092e51690acb81bac0b96cd35590774203fe88d94a5a082f2cb75"
   }
  }
 },
 "nbformat": 4,
 "nbformat_minor": 2
}
