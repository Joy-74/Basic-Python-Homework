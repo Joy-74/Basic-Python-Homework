{
 "cells": [
  {
   "attachments": {},
   "cell_type": "markdown",
   "metadata": {},
   "source": [
    "# Lecture 8 \n",
    "\n",
    "- Magic methods\n",
    "  - ``__eq__``\n",
    "  - `__str__` and `__repr__`\n",
    "  - `__add__` and `__iadd__`\n",
    "\n",
    "reading materials: https://blog.cambridgespark.com/magic-methods-a8d93dc55012"
   ]
  },
  {
   "attachments": {},
   "cell_type": "markdown",
   "metadata": {},
   "source": [
    "In C++, you can overload operators like `+` and `*`. In Python, we have *magic methods*.\n",
    "\n",
    "`__init__` is a basic example of magic method.\n",
    "\n",
    "--------"
   ]
  },
  {
   "attachments": {},
   "cell_type": "markdown",
   "metadata": {},
   "source": [
    "`__eq__`  # means equal to"
   ]
  },
  {
   "attachments": {},
   "cell_type": "markdown",
   "metadata": {},
   "source": [
    "Another simple magic method is `__eq__`.\n",
    "It allows you to define equality.\n"
   ]
  },
  {
   "cell_type": "code",
   "execution_count": 2,
   "metadata": {},
   "outputs": [],
   "source": [
    "class Pair:\n",
    "    def __init__(self, x, y):\n",
    "        self.x = x\n",
    "        self.y = y"
   ]
  },
  {
   "cell_type": "code",
   "execution_count": 5,
   "metadata": {},
   "outputs": [
    {
     "name": "stdout",
     "output_type": "stream",
     "text": [
      "0 0\n",
      "0 0\n",
      "0 1\n",
      "False False\n"
     ]
    }
   ],
   "source": [
    "zero1 = Pair(0, 0)\n",
    "print(zero1.x, zero1.y)\n",
    "zero2 = Pair(0, 0)\n",
    "print(zero2.x, zero2.y)\n",
    "notZero = Pair(0, 1)\n",
    "print(notZero.x, notZero.y)\n",
    "\n",
    "print(zero1 == zero2, zero1 == notZero)  # ‘==’ or ‘is’ should be id same "
   ]
  },
  {
   "attachments": {},
   "cell_type": "markdown",
   "metadata": {},
   "source": [
    "This did not work correctly since we have not tried to define `==`.\n",
    "(When `==` is not defined, Python falls back on `is`.)\n",
    "\n",
    "这不能正常工作，因为我们没有尝试定义 `==`。\n",
    "（当未定义 `==` 时，Python 回退到 `is`。）"
   ]
  },
  {
   "cell_type": "code",
   "execution_count": 1,
   "metadata": {},
   "outputs": [],
   "source": [
    "class Pair:\n",
    "    def __init__(self, x, y):\n",
    "        self.x = x\n",
    "        self.y = y\n",
    "    \n",
    "    def __eq__(self, other):\n",
    "        return self.x == other.x and self.y == other.y \n",
    "               # this is what we mean by self == other."
   ]
  },
  {
   "cell_type": "code",
   "execution_count": 3,
   "metadata": {},
   "outputs": [
    {
     "name": "stdout",
     "output_type": "stream",
     "text": [
      "True False\n"
     ]
    }
   ],
   "source": [
    "zero1 = Pair(0, 0)\n",
    "zero2 = Pair(0, 0)\n",
    "notZero = Pair(0, 1)\n",
    "\n",
    "print(zero1 == zero2, zero1 == notZero)\n",
    "\n",
    "# zero1 == zero2 is equivalent to\n",
    "# zero1.__eq__(zero2) which is equivalent to\n",
    "# Pair.__eq__(zero1, zero2)"
   ]
  },
  {
   "cell_type": "markdown",
   "metadata": {},
   "source": [
    "----------"
   ]
  },
  {
   "cell_type": "markdown",
   "metadata": {},
   "source": [
    "`__str__` and `__repr__`"
   ]
  },
  {
   "cell_type": "markdown",
   "metadata": {},
   "source": [
    "The most common magic methods are the ones used for printing: `__str__` and `__repr__`."
   ]
  },
  {
   "cell_type": "markdown",
   "metadata": {},
   "source": [
    "First, I should tell you about `str` and `repr`, \n",
    "functions which are available for any standard Python objects."
   ]
  },
  {
   "attachments": {},
   "cell_type": "markdown",
   "metadata": {},
   "source": [
    "Both functions convert an object to a `string`.\n",
    "\n",
    "- `str` formats in a human friendly way.\n",
    "\n",
    "  It converts both the integer `8` and the string `\"8\"` to the string `\"8\"`.\n",
    "- `repr` is more precise and supposed to be machine readable.\n",
    "\n",
    "  It converts the integer `8` to the string `\"8\"`.\n",
    "  \n",
    "  It converts the string `\"8\"` to the string `\"'8'\"`.\n",
    "  \n",
    "  The added quotes mean that when we print `repr(\"8\")`, we can tell we started with a string.\n",
    "\n",
    "这两个函数都将对象转换为“字符串”。\n",
    "\n",
    "- `str` 以人性化的方式格式化。\n",
    "\n",
    "   它将整数“8”和字符串“8”都转换为字符串“8”。\n",
    "- `repr` 更精确并且应该是机器可读的。\n",
    "\n",
    "   它将整数“8”转换为字符串“8”。\n",
    "  \n",
    "   它将字符串“8”转换为字符串“'8'”。\n",
    "  \n",
    "   添加的引号意味着当我们打印 `repr(\"8\")` 时，我们可以知道我们是从一个字符串开始的。"
   ]
  },
  {
   "cell_type": "markdown",
   "metadata": {},
   "source": [
    "`print(obj)` is the same as `print(str(obj))`.\n",
    "\n",
    "When you allow the console to print the last line,\n",
    "i.e. by typing `obj` and pressing `shift + enter`, \n",
    "it's often the same as `print(repr(obj))`\n",
    "\n",
    "Often `str` and `repr` return the same string, but there are also many cases when they return different strings."
   ]
  },
  {
   "cell_type": "code",
   "execution_count": 5,
   "metadata": {},
   "outputs": [
    {
     "name": "stdout",
     "output_type": "stream",
     "text": [
      "8\n",
      "8\n",
      "'8'\n",
      "\n",
      "8\n",
      "8\n",
      "8\n",
      "\n",
      "['8']\n",
      "['8']\n",
      "['8']\n",
      "\n",
      "[8]\n",
      "[8]\n",
      "[8]\n",
      "\n",
      "{8}\n",
      "{8}\n",
      "{8}\n",
      "\n",
      "{8: 8}\n",
      "{8: 8}\n",
      "{8: 8}\n",
      "\n"
     ]
    }
   ],
   "source": [
    "objs = ['8', 8, ['8'], [8], {8}, {8:8}]\n",
    "\n",
    "for obj in objs:\n",
    "    print(obj)  # print(obj) is the same as print(str(obj)\n",
    "    print(str(obj))\n",
    "    print(repr(obj))\n",
    "    print('')"
   ]
  },
  {
   "cell_type": "code",
   "execution_count": 6,
   "metadata": {},
   "outputs": [
    {
     "data": {
      "text/plain": [
       "'8'"
      ]
     },
     "execution_count": 6,
     "metadata": {},
     "output_type": "execute_result"
    }
   ],
   "source": [
    "'8'"
   ]
  },
  {
   "cell_type": "code",
   "execution_count": 7,
   "metadata": {},
   "outputs": [
    {
     "data": {
      "text/plain": [
       "8"
      ]
     },
     "execution_count": 7,
     "metadata": {},
     "output_type": "execute_result"
    }
   ],
   "source": [
    "8"
   ]
  },
  {
   "cell_type": "markdown",
   "metadata": {},
   "source": [
    "In order to make `str` and `repr` work on our own classes, \n",
    "we define `__str__` and `__repr__`."
   ]
  },
  {
   "attachments": {},
   "cell_type": "markdown",
   "metadata": {},
   "source": [
    "`__str__` is easier.\n",
    "`__str__`'s goal is to be human readable.\n",
    "We return whatever string seems reasonable to us.\n",
    "\n",
    "In a sense, `__repr__` is more important, but it is more complicated.\n",
    "`__repr__`'s goal is to be unambiguous, more information rich, and machine friendly, and can be used to reconstruct the object. In fact, we can use `repr()` function with `eval()` to construct the object.\n",
    "\n",
    "Fore more details about `__str__` and `__repr__`, you can check\n",
    "\n",
    "https://www.digitalocean.com/community/tutorials/python-str-repr-functions\n"
   ]
  },
  {
   "cell_type": "markdown",
   "metadata": {},
   "source": [
    "Let's give an example."
   ]
  },
  {
   "cell_type": "code",
   "execution_count": 8,
   "metadata": {},
   "outputs": [],
   "source": [
    "class Pair:\n",
    "    def __init__(self, x, y):\n",
    "        self.x = x\n",
    "        self.y = y\n",
    "        \n",
    "    def __eq__(self, other):\n",
    "        return self.x == other.x and self.y == other.y\n",
    "    \n",
    "    def __str__(self):\n",
    "        return '(' + repr(self.x) + ', ' + repr(self.y) + ')'\n",
    "    \n",
    "    def __repr__(self):\n",
    "        return 'Pair(' + repr(self.x) + ', ' + repr(self.y) + ')'"
   ]
  },
  {
   "cell_type": "code",
   "execution_count": 9,
   "metadata": {},
   "outputs": [],
   "source": [
    "p = Pair(1.23456, -7.89)"
   ]
  },
  {
   "cell_type": "code",
   "execution_count": 10,
   "metadata": {},
   "outputs": [
    {
     "name": "stdout",
     "output_type": "stream",
     "text": [
      "(1.23456, -7.89)\n",
      "(1.23456, -7.89)\n",
      "(1.23456, -7.89)\n",
      "(1.23456, -7.89)\n"
     ]
    }
   ],
   "source": [
    "print(p)\n",
    "print(str(p))\n",
    "print(p.__str__())\n",
    "print(Pair.__str__(p))"
   ]
  },
  {
   "cell_type": "code",
   "execution_count": 11,
   "metadata": {},
   "outputs": [
    {
     "data": {
      "text/plain": [
       "Pair(1.23456, -7.89)"
      ]
     },
     "execution_count": 11,
     "metadata": {},
     "output_type": "execute_result"
    }
   ],
   "source": [
    "p\n",
    "# the same as print(repr(p))\n",
    "# the same as print(p.__repr__())\n",
    "# the same as print(Pair.__repr__(p))"
   ]
  },
  {
   "cell_type": "code",
   "execution_count": 12,
   "metadata": {},
   "outputs": [
    {
     "name": "stdout",
     "output_type": "stream",
     "text": [
      "Pair(1.23456, -7.89)\n",
      "Pair(1.23456, -7.89)\n",
      "Pair(1.23456, -7.89)\n"
     ]
    }
   ],
   "source": [
    "print(repr(p))\n",
    "print(p.__repr__())\n",
    "print(Pair.__repr__(p))"
   ]
  },
  {
   "cell_type": "code",
   "execution_count": 13,
   "metadata": {},
   "outputs": [
    {
     "name": "stdout",
     "output_type": "stream",
     "text": [
      "True\n"
     ]
    }
   ],
   "source": [
    "print(eval(repr(p)) == p)"
   ]
  },
  {
   "attachments": {},
   "cell_type": "markdown",
   "metadata": {},
   "source": [
    "Here eval() allows you to evaluate Python expressions from a string. For more details, please check https://realpython.com/python-eval-function/"
   ]
  },
  {
   "cell_type": "markdown",
   "metadata": {},
   "source": [
    "-----"
   ]
  },
  {
   "cell_type": "markdown",
   "metadata": {},
   "source": [
    "`__add__` and `__iadd__`"
   ]
  },
  {
   "cell_type": "markdown",
   "metadata": {},
   "source": [
    "Finally, let's see `__add__` and `__iadd__`."
   ]
  },
  {
   "attachments": {},
   "cell_type": "markdown",
   "metadata": {},
   "source": [
    "- If `a` is an instance of a class `C` with a function object `__add__`,\n",
    "\n",
    "  then `c = a + b` is equivalent to\n",
    "  `c = C.__add__(a,b)`.\n",
    "\n",
    "- 如果 `a` 是带有函数对象 `__add__` 的类 `C` 的实例，\n",
    "\n",
    "   那么 `c = a + b` 等同于\n",
    "   `c = C.__add__(a,b)`。\n",
    "\n",
    "- If `a` is an instance of a class `C` with a function object `__add__`, \n",
    "  without a function object `__iadd__`,\n",
    "\n",
    "  then `a += b` is equivalent to\n",
    "  `a = C.__add__(a,b)` (or `a = a + b`).\n",
    "\n",
    "- 如果 `a` 是带有函数对象 `__add__` 的类 `C` 的实例，\n",
    "   没有函数对象 __iadd__ ，\n",
    "\n",
    "   那么 `a += b` 等同于\n",
    "   `a = C.__add__(a,b)`（或 `a = a + b`）。\n",
    "\n",
    "- If `a` is an instance of a class `C` with a function object `__iadd__`,\n",
    "\n",
    "  then `a += b` is equivalent to\n",
    "  `a = C.__iadd__(a,b)`.\n",
    "\n",
    "- 如果 `a` 是带有函数对象 `__iadd__` 的类 `C` 的实例，\n",
    "\n",
    "   那么 `a += b` 等同于\n",
    "   `a = C.__iadd__(a,b)`。"
   ]
  },
  {
   "attachments": {},
   "cell_type": "markdown",
   "metadata": {},
   "source": [
    "So\n",
    "\n",
    " - `__add__` is used to define addition.\n",
    "\n",
    " - If we don't define `__iadd__`, `a += b` will the same as `a = a + b`.\n",
    " \n",
    "   So when our instance variables are all immutable, we may as well leave `__iadd__` undefined.\n",
    "\n",
    "- `__add__` 用于定义加法。\n",
    "\n",
    "  - 如果我们不定义 `__iadd__`，则 `a += b` 将与 `a = a + b` 相同。\n",
    " \n",
    "    因此，当我们的实例变量都是不可变的时，我们不妨保留 __iadd__ 未定义。\n",
    "\n",
    " - Sometimes we want to optimize and define `a += b` more efficiently. \n",
    "\n",
    "   Since `a += b` should update `a`, the definition of `__iadd__` should look as follows.\n",
    "\n",
    "  - 有时我们想更有效地优化和定义 `a += b`。\n",
    "\n",
    "    因为 `a += b` 应该更新 `a`，所以 `__iadd__` 的定义应该如下所示。\n",
    "\n",
    "   ```\n",
    "   def __iadd__(self, other):\n",
    "       # update self using other in the appropriate way\n",
    "    \n",
    "       return self\n",
    "   ```"
   ]
  },
  {
   "cell_type": "markdown",
   "metadata": {},
   "source": [
    "Let's give examples...\n",
    "\n",
    "We can build on our `Pair` class. \n",
    "\n",
    "Since we're now assuming `x` and `y` to be something immutable like `int`s, \n",
    "there is no reason to define `__iadd__`."
   ]
  },
  {
   "cell_type": "code",
   "execution_count": 14,
   "metadata": {},
   "outputs": [
    {
     "ename": "TypeError",
     "evalue": "unsupported operand type(s) for +: 'Pair' and 'Pair'",
     "output_type": "error",
     "traceback": [
      "\u001b[0;31m---------------------------------------------------------------------------\u001b[0m",
      "\u001b[0;31mTypeError\u001b[0m                                 Traceback (most recent call last)",
      "Cell \u001b[0;32mIn[14], line 15\u001b[0m\n\u001b[1;32m     12\u001b[0m     \u001b[39mdef\u001b[39;00m \u001b[39m__repr__\u001b[39m(\u001b[39mself\u001b[39m):\n\u001b[1;32m     13\u001b[0m         \u001b[39mreturn\u001b[39;00m \u001b[39m'\u001b[39m\u001b[39mPair(\u001b[39m\u001b[39m'\u001b[39m \u001b[39m+\u001b[39m \u001b[39mrepr\u001b[39m(\u001b[39mself\u001b[39m\u001b[39m.\u001b[39mx) \u001b[39m+\u001b[39m \u001b[39m'\u001b[39m\u001b[39m, \u001b[39m\u001b[39m'\u001b[39m \u001b[39m+\u001b[39m \u001b[39mrepr\u001b[39m(\u001b[39mself\u001b[39m\u001b[39m.\u001b[39my) \u001b[39m+\u001b[39m \u001b[39m'\u001b[39m\u001b[39m)\u001b[39m\u001b[39m'\u001b[39m\n\u001b[0;32m---> 15\u001b[0m \u001b[39mprint\u001b[39m(Pair(\u001b[39m1\u001b[39;49m, \u001b[39m2\u001b[39;49m) \u001b[39m+\u001b[39;49m Pair(\u001b[39m3\u001b[39;49m, \u001b[39m4\u001b[39;49m))\n",
      "\u001b[0;31mTypeError\u001b[0m: unsupported operand type(s) for +: 'Pair' and 'Pair'"
     ]
    }
   ],
   "source": [
    "class Pair:\n",
    "    def __init__(self, x, y):\n",
    "        self.x = x\n",
    "        self.y = y\n",
    "        \n",
    "    def __eq__(self, other):\n",
    "        return self.x == other.x and self.y == other.y\n",
    "    \n",
    "    def __str__(self):\n",
    "        return '(' + repr(self.x) + ', ' + repr(self.y) + ')'\n",
    "    \n",
    "    def __repr__(self):\n",
    "        return 'Pair(' + repr(self.x) + ', ' + repr(self.y) + ')'\n",
    "    \n",
    "print(Pair(1, 2) + Pair(3, 4))"
   ]
  },
  {
   "cell_type": "code",
   "execution_count": 18,
   "metadata": {},
   "outputs": [
    {
     "name": "stdout",
     "output_type": "stream",
     "text": [
      "(4, 6)\n"
     ]
    }
   ],
   "source": [
    "class Pair:\n",
    "    def __init__(self, x, y):\n",
    "        self.x = x\n",
    "        self.y = y\n",
    "        \n",
    "    def __eq__(self, other):\n",
    "        return self.x == other.x and self.y == other.y\n",
    "    \n",
    "    def __str__(self):\n",
    "        return '(' + repr(self.x) + ', ' + repr(self.y) + ')'\n",
    "    \n",
    "    def __repr__(self):\n",
    "        return 'Pair(' + repr(self.x) + ', ' + repr(self.y) + ')'\n",
    "    \n",
    "    def __add__(self, other):\n",
    "        return Pair(self.x + other.x, self.y + other.y)\n",
    "\n",
    "print(Pair(1, 2) + Pair(3, 4))"
   ]
  },
  {
   "cell_type": "markdown",
   "metadata": {},
   "source": [
    "We can make a class for storing fractions.\n",
    "\n",
    "Since `num` and `den` will be `int`s, \n",
    "there is no reason to define `__iadd__`."
   ]
  },
  {
   "cell_type": "code",
   "execution_count": 8,
   "metadata": {},
   "outputs": [],
   "source": [
    "class Rational:\n",
    "    def __init__(self, num, den):\n",
    "        # suppose num and den are both positive\n",
    "        self.num = num # numerator\n",
    "        self.den = den # denominator\n",
    "\n",
    "        # if self.den < 0:\n",
    "        #     self.num *= -1\n",
    "        #     self.den *= -1    \n",
    "\n",
    "    def __add__(self, other):\n",
    "        return Rational(self.num * other.den + self.den * other.num, self.den * other.den)\n",
    "\n",
    "    def __str__(self):\n",
    "        return repr(self.num) + '/' + repr(self.den)\n",
    "\n",
    "    def __repr__(self):\n",
    "        return 'Frac(' + repr(self.num) + ', ' + repr(self.den) + ')'\n"
   ]
  },
  {
   "cell_type": "code",
   "execution_count": 11,
   "metadata": {},
   "outputs": [
    {
     "name": "stdout",
     "output_type": "stream",
     "text": [
      "1/2\n",
      "1/3\n",
      "5/6\n"
     ]
    }
   ],
   "source": [
    "r2 = Rational(1, 2)\n",
    "r3 = Rational(1, 3)\n",
    "print(r2)\n",
    "print(r3)\n",
    "print(r2 + r3)"
   ]
  },
  {
   "cell_type": "markdown",
   "metadata": {},
   "source": [
    "We make a wrapper for a `list`. \n",
    "This could be used to add and remove functionality to the `list` type."
   ]
  },
  {
   "cell_type": "code",
   "execution_count": 19,
   "metadata": {},
   "outputs": [],
   "source": [
    "class ListWrapper:\n",
    "    def __init__(self, PythonList = None):\n",
    "        if type(PythonList) is list:\n",
    "            self.list = PythonList\n",
    "        else:\n",
    "            self.list = []\n",
    "\n",
    "    def __len__(self):\n",
    "        # Recovering old functionality that we like.\n",
    "        return len(self.list)\n",
    "    \n",
    "    def last(self):\n",
    "        # Defining new functionality.\n",
    "        return self.list[-1]\n",
    "\n",
    "    def __str__(self):\n",
    "        return str(self.list)\n",
    "\n",
    "    def __repr__(self):\n",
    "        return 'ListWrapper(' + repr(self.list) + ')'\n",
    "\n",
    "    def __add__(self, other):\n",
    "        print('__add__ called')\n",
    "\n",
    "        # Creates a new object and returns it.\n",
    "        return ListWrapper(self.list + other.list)"
   ]
  },
  {
   "cell_type": "code",
   "execution_count": 22,
   "metadata": {},
   "outputs": [
    {
     "name": "stdout",
     "output_type": "stream",
     "text": [
      "__add__ called\n",
      "[1, 1, 1] [2, 2, 2] [1, 1, 1, 2, 2, 2]\n",
      "4386654720 4386654848 4386403328\n"
     ]
    }
   ],
   "source": [
    "L1 = ListWrapper([1, 1, 1])\n",
    "L2 = ListWrapper([2, 2, 2])\n",
    "\n",
    "L3 = L1 + L2             # equivalent to L3 = ListWrapper.__add__(L1, L2).\n",
    "\n",
    "print(L1, L2, L3)\n",
    "print(id(L1.list), id(L2.list), id(L3.list))"
   ]
  },
  {
   "cell_type": "code",
   "execution_count": 21,
   "metadata": {},
   "outputs": [
    {
     "name": "stdout",
     "output_type": "stream",
     "text": [
      "4386644288 4386635840\n",
      "__add__ called\n",
      "[1, 1, 1, 2, 2, 2] [2, 2, 2]\n",
      "4386649536 4386635840\n"
     ]
    }
   ],
   "source": [
    "L1 = ListWrapper([1, 1, 1])\n",
    "L2 = ListWrapper([2, 2, 2])\n",
    "\n",
    "print(id(L1.list), id(L2.list))\n",
    "L1 += L2                 # equivalent to L1 = ListWrapper.__iadd__(L1, L2),\n",
    "                         # but __add__ will be used if __iadd__ is not defined.\n",
    "                         # So equivalent to L1 = L1 + L2\n",
    "print(L1, L2)\n",
    "print(id(L1.list), id(L2.list))"
   ]
  },
  {
   "cell_type": "code",
   "execution_count": 23,
   "metadata": {},
   "outputs": [],
   "source": [
    "class ListWrapper:\n",
    "    def __init__(self, PythonList = None):\n",
    "        if type(PythonList) is list:\n",
    "            self.list = PythonList\n",
    "        else:\n",
    "            self.list = []\n",
    "\n",
    "    def __len__(self):\n",
    "        # Recovering old functionality that we like.\n",
    "        return len(self.list)\n",
    "    \n",
    "    def last(self):\n",
    "        # Defining new functionality.\n",
    "        return self.list[-1]\n",
    "\n",
    "    def __str__(self):\n",
    "        return str(self.list)\n",
    "\n",
    "    def __repr__(self):\n",
    "        return 'ListWrapper(' + repr(self.list) + ')'\n",
    "\n",
    "    def __add__(self, other):\n",
    "        print('__add__ called')\n",
    "\n",
    "        # Creates a new object and returns it.\n",
    "        return ListWrapper(self.list + other.list)\n",
    "\n",
    "    def __iadd__(self, other):\n",
    "        print('__iadd__ called')\n",
    "\n",
    "        # Updates the current object - more efficient.\n",
    "        self.list += other.list  # or self.list.extend(other.list)\n",
    "        return self"
   ]
  },
  {
   "cell_type": "code",
   "execution_count": 22,
   "metadata": {},
   "outputs": [
    {
     "name": "stdout",
     "output_type": "stream",
     "text": [
      "__add__ called\n",
      "[1, 1, 1] [2, 2, 2] [1, 1, 1, 2, 2, 2]\n",
      "4441944256 4441933120 4453999744\n"
     ]
    }
   ],
   "source": [
    "L1 = ListWrapper([1,1,1])\n",
    "L2 = ListWrapper([2,2,2])\n",
    "\n",
    "L3 = L1 + L2             # equivalent to L3 = ListWrapper.__add__(L1, L2).\n",
    "\n",
    "print(L1, L2, L3)\n",
    "print(id(L1.list), id(L2.list), id(L3.list))"
   ]
  },
  {
   "cell_type": "code",
   "execution_count": 23,
   "metadata": {},
   "outputs": [
    {
     "name": "stdout",
     "output_type": "stream",
     "text": [
      "4445913856 4454002048\n",
      "__iadd__ called\n",
      "[1, 1, 1, 2, 2, 2] [2, 2, 2]\n",
      "4445913856 4454002048\n"
     ]
    }
   ],
   "source": [
    "L1 = ListWrapper([1,1,1])\n",
    "L2 = ListWrapper([2,2,2])\n",
    "print(id(L1.list), id(L2.list))\n",
    "L1 += L2                 # equivalent to L1 = ListWrapper.__iadd__(L1, L2),\n",
    "print(L1, L2)\n",
    "print(id(L1.list), id(L2.list))"
   ]
  }
 ],
 "metadata": {
  "kernelspec": {
   "display_name": "16A",
   "language": "python",
   "name": "python3"
  },
  "language_info": {
   "codemirror_mode": {
    "name": "ipython",
    "version": 3
   },
   "file_extension": ".py",
   "mimetype": "text/x-python",
   "name": "python",
   "nbconvert_exporter": "python",
   "pygments_lexer": "ipython3",
   "version": "3.9.15"
  },
  "orig_nbformat": 4,
  "vscode": {
   "interpreter": {
    "hash": "bb173175969092e51690acb81bac0b96cd35590774203fe88d94a5a082f2cb75"
   }
  }
 },
 "nbformat": 4,
 "nbformat_minor": 2
}
