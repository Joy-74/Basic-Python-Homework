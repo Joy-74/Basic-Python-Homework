{
 "cells": [
  {
   "attachments": {},
   "cell_type": "markdown",
   "metadata": {},
   "source": [
    "# Modules\n"
   ]
  },
  {
   "attachments": {},
   "cell_type": "markdown",
   "metadata": {},
   "source": [
    "Suppose we're in the middle of script.py, and we encounter the statement \"import mod\", where mod.py is another script. What happens?\n",
    "\n",
    "- If \"mod\" has not already appeared in an import statement, then the code in mod.py is executed with ```__name__ == 'mod'```.\n",
    "- Then, a lookup procedure (namespace) is created so that \"mod.name\" in script.py refers to the same object as \"name\" in mod.py.\n",
    "\n",
    "假设我们在 script.py 的中间，遇到语句“import mod”，其中 mod.py 是另一个脚本。 会发生什么？\n",
    "\n",
    "- 如果“mod”尚未出现在 import 语句中，则 mod.py 中的代码将使用 ```__name__ == 'mod'``` 执行。\n",
    "- 然后，创建一个查找过程（名称空间），以便 script.py 中的“mod.name”与 mod.py 中的“name”引用相同的对象。\n"
   ]
  },
  {
   "cell_type": "code",
   "execution_count": 4,
   "metadata": {},
   "outputs": [],
   "source": [
    "import fib"
   ]
  },
  {
   "cell_type": "code",
   "execution_count": 5,
   "metadata": {},
   "outputs": [],
   "source": [
    "import fib                     # The script is only ran once. 脚本只运行一次。"
   ]
  },
  {
   "cell_type": "code",
   "execution_count": 6,
   "metadata": {},
   "outputs": [
    {
     "ename": "NameError",
     "evalue": "name 'first_fibs' is not defined",
     "output_type": "error",
     "traceback": [
      "\u001b[0;31m---------------------------------------------------------------------------\u001b[0m",
      "\u001b[0;31mNameError\u001b[0m                                 Traceback (most recent call last)",
      "Cell \u001b[0;32mIn[6], line 1\u001b[0m\n\u001b[0;32m----> 1\u001b[0m \u001b[39mprint\u001b[39m(first_fibs(\u001b[39m5\u001b[39m))\n",
      "\u001b[0;31mNameError\u001b[0m: name 'first_fibs' is not defined"
     ]
    }
   ],
   "source": [
    "print(first_fibs(5))           # We have to access the module's namespace...我们必须访问模块的命名空间..."
   ]
  },
  {
   "cell_type": "code",
   "execution_count": 7,
   "metadata": {},
   "outputs": [
    {
     "name": "stdout",
     "output_type": "stream",
     "text": [
      "[1, 1, 2, 3, 5]\n"
     ]
    }
   ],
   "source": [
    "print(fib.first_fibs(5))       # ...like this.\n"
   ]
  },
  {
   "cell_type": "code",
   "execution_count": 8,
   "metadata": {},
   "outputs": [
    {
     "name": "stdout",
     "output_type": "stream",
     "text": [
      "[2, 3, 5, 7, 11, 13, 17, 19, 23, 29, 31, 37, 41, 43, 47, 53, 59, 61, 67, 71]\n",
      "57\n"
     ]
    }
   ],
   "source": [
    "import primes\n",
    "print(primes.first_primes(20)) # Similarly...\n",
    "print(primes.Grothendieck)     # we can access non-functions;\n"
   ]
  },
  {
   "attachments": {},
   "cell_type": "markdown",
   "metadata": {},
   "source": [
    "The script that triggers Python to run is  executed with \n",
    "```\n",
    "__name__ == '__main__'\n",
    "```\n",
    "Let's try to run fib.py directly\n",
    "\n",
    "触发Python运行的脚本是用\n",
    "```\n",
    "__name__ == '__main__'\n",
    "```\n",
    "让我们尝试直接运行 fib.py"
   ]
  },
  {
   "attachments": {},
   "cell_type": "markdown",
   "metadata": {},
   "source": [
    "It is customary to place import statements at the top but it is not required.\n"
   ]
  },
  {
   "cell_type": "code",
   "execution_count": 9,
   "metadata": {},
   "outputs": [
    {
     "name": "stdout",
     "output_type": "stream",
     "text": [
      "3.141592653589793\n"
     ]
    },
    {
     "ename": "NameError",
     "evalue": "name 'pi' is not defined",
     "output_type": "error",
     "traceback": [
      "\u001b[0;31m---------------------------------------------------------------------------\u001b[0m",
      "\u001b[0;31mNameError\u001b[0m                                 Traceback (most recent call last)",
      "Cell \u001b[0;32mIn[9], line 3\u001b[0m\n\u001b[1;32m      1\u001b[0m \u001b[39mimport\u001b[39;00m \u001b[39mmath\u001b[39;00m\n\u001b[1;32m      2\u001b[0m \u001b[39mprint\u001b[39m(math\u001b[39m.\u001b[39mpi)\n\u001b[0;32m----> 3\u001b[0m \u001b[39mprint\u001b[39m(pi)\n",
      "\u001b[0;31mNameError\u001b[0m: name 'pi' is not defined"
     ]
    }
   ],
   "source": [
    "import math\n",
    "print(math.pi)\n",
    "print(pi)"
   ]
  },
  {
   "cell_type": "code",
   "execution_count": 10,
   "metadata": {},
   "outputs": [
    {
     "name": "stdout",
     "output_type": "stream",
     "text": [
      "3.141592653589793\n"
     ]
    }
   ],
   "source": [
    "from math import pi\n",
    "print(pi) # equivalent to math.pi"
   ]
  },
  {
   "cell_type": "code",
   "execution_count": 11,
   "metadata": {},
   "outputs": [
    {
     "name": "stdout",
     "output_type": "stream",
     "text": [
      "3.141592653589793\n"
     ]
    }
   ],
   "source": [
    "import math as m\n",
    "print(m.acos(-1))              # arc cosine of -1 is also pi.\n"
   ]
  },
  {
   "cell_type": "code",
   "execution_count": 12,
   "metadata": {},
   "outputs": [
    {
     "name": "stdout",
     "output_type": "stream",
     "text": [
      "3.141592653589793\n"
     ]
    }
   ],
   "source": [
    "from math import pi as p\n",
    "print(p)"
   ]
  },
  {
   "cell_type": "code",
   "execution_count": 13,
   "metadata": {},
   "outputs": [
    {
     "name": "stdout",
     "output_type": "stream",
     "text": [
      "<module 'fib' from '/Users/lijiayu/Desktop/PIC16A/Lecture12_modules/fib.py'>\n",
      "<module 'primes' from '/Users/lijiayu/Desktop/PIC16A/Lecture12_modules/primes.py'>\n",
      "<module 'math' from '/opt/anaconda3/envs/16A/lib/python3.9/lib-dynload/math.cpython-39-darwin.so'>\n"
     ]
    }
   ],
   "source": [
    "import primes\n",
    "print(fib)\n",
    "print(primes)\n",
    "print(m)\n",
    "# It tells us where the module is stored on your computer!"
   ]
  },
  {
   "cell_type": "code",
   "execution_count": 14,
   "metadata": {},
   "outputs": [
    {
     "name": "stdout",
     "output_type": "stream",
     "text": [
      "['/Users/lijiayu/Desktop/PIC16A/Lecture12_modules', '/opt/anaconda3/envs/16A/lib/python39.zip', '/opt/anaconda3/envs/16A/lib/python3.9', '/opt/anaconda3/envs/16A/lib/python3.9/lib-dynload', '', '/opt/anaconda3/envs/16A/lib/python3.9/site-packages']\n"
     ]
    }
   ],
   "source": [
    "# How does your computer find modules?\n",
    "# It looks in the directory of the current script,\n",
    "# as well as in some locations that Anaconda will\n",
    "# have organized for you.\n",
    "import sys\n",
    "print(sys.path)"
   ]
  },
  {
   "cell_type": "code",
   "execution_count": 15,
   "metadata": {},
   "outputs": [],
   "source": [
    "import sys\n",
    "sys.path.append(\"../lecture11_iterators_generators.ipynb\")  # 添加系统中不同文件夹里的包"
   ]
  },
  {
   "cell_type": "markdown",
   "metadata": {},
   "source": [
    "## More examples"
   ]
  },
  {
   "cell_type": "code",
   "execution_count": 16,
   "metadata": {},
   "outputs": [
    {
     "name": "stdout",
     "output_type": "stream",
     "text": [
      "Code in import_1.py starts executing\n",
      "__name__ == import_1\n",
      "Code in import_1.py finishes executing\n"
     ]
    }
   ],
   "source": [
    "import import_1    # code from import_1.py is executed"
   ]
  },
  {
   "cell_type": "code",
   "execution_count": 17,
   "metadata": {},
   "outputs": [
    {
     "name": "stdout",
     "output_type": "stream",
     "text": [
      "[]\n",
      "['Appended by f defined in import_1.py']\n"
     ]
    }
   ],
   "source": [
    "print(import_1.L)\n",
    "import_1.f()\n",
    "print(import_1.L)"
   ]
  },
  {
   "cell_type": "code",
   "execution_count": 18,
   "metadata": {},
   "outputs": [
    {
     "name": "stdout",
     "output_type": "stream",
     "text": [
      "['Created in tutorial_1.py']\n"
     ]
    }
   ],
   "source": [
    "import_1.L = ['Created in tutorial_1.py']\n",
    "print(import_1.L)"
   ]
  },
  {
   "cell_type": "code",
   "execution_count": 19,
   "metadata": {},
   "outputs": [
    {
     "name": "stdout",
     "output_type": "stream",
     "text": [
      "['Created in tutorial_1.py', 'Appended by f defined in import_1.py']\n",
      "\n"
     ]
    }
   ],
   "source": [
    "import_1.f()\n",
    "print(import_1.L)\n",
    "print('')"
   ]
  },
  {
   "attachments": {},
   "cell_type": "markdown",
   "metadata": {},
   "source": [
    "## What if I have nested import?"
   ]
  },
  {
   "cell_type": "code",
   "execution_count": 15,
   "metadata": {},
   "outputs": [
    {
     "name": "stdout",
     "output_type": "stream",
     "text": [
      "Before \"import import_2a\"\n",
      "\n",
      "Code in import_2a.py starts executing\n",
      "__name__ == import_2a\n",
      "Code in import_2a.py finishes executing\n",
      "\n",
      "After \"import import_2a\"\n",
      "Before \"import import_2b\"\n",
      "\n",
      "Code in import_2b.py starts executing\n",
      "__name__ == import_2b\n",
      "Code in import_2b.py finishes executing\n",
      "\n",
      "After \"import import_2b\"\n",
      "import_2a.var is import_2b.import_2a.var\n"
     ]
    }
   ],
   "source": [
    "print('Before \"import import_2a\"')\n",
    "print('')\n",
    "\n",
    "import import_2a\n",
    "\n",
    "print('')\n",
    "print('After \"import import_2a\"')\n",
    "\n",
    "print('Before \"import import_2b\"')\n",
    "print('')\n",
    "\n",
    "import import_2b\n",
    "\n",
    "print('')\n",
    "print('After \"import import_2b\"')\n",
    "\n",
    "if import_2a.var is import_2b.import_2a.var:\n",
    "    print('import_2a.var is import_2b.import_2a.var')"
   ]
  },
  {
   "attachments": {},
   "cell_type": "markdown",
   "metadata": {},
   "source": [
    "This example shows what happens when a module is imported for the second time.\n",
    "\n",
    "\"import import_2b\" causes the code in import_2b.py to execute. One of the lines in import_2b.py says \"import import_2a\". Since we have already encountered a line that reads \"import import_2a\", the code in import_2a.py is NOT executed for a second time.\n",
    " \n",
    "However, a lookup procedure is still created, so that \"import_2a.var\" in import_2b.py refers to \"var\" in import_2a.py.\n",
    "\n",
    "\n",
    "This provides us with two ways to access the variables in import_2a.py:\n",
    "  - directly using import_2a.var;\n",
    "  - via import_2b.py using import_2b.import_2a.var.\n",
    "\n",
    "\n",
    "此示例显示第二次导入模块时发生的情况。\n",
    "\n",
    "“import import_2b”导致执行 import_2b.py 中的代码。 import_2b.py 中的一行表示“import import_2a”。 由于我们已经遇到了一行“import import_2a”，所以 import_2a.py 中的代码不会第二次执行。\n",
    " \n",
    "但是，仍然创建了一个查找过程，因此 import_2b.py 中的“import_2a.var”引用了 import_2a.py 中的“var”。\n",
    "\n",
    "\n",
    "这为我们提供了两种访问 import_2a.py 中变量的方法：\n",
    "   - 直接使用 import_2a.var；\n",
    "   - 通过 import_2b.py 使用 import_2b.import_2a.var。"
   ]
  },
  {
   "cell_type": "markdown",
   "metadata": {},
   "source": []
  }
 ],
 "metadata": {
  "kernelspec": {
   "display_name": "16A",
   "language": "python",
   "name": "python3"
  },
  "language_info": {
   "codemirror_mode": {
    "name": "ipython",
    "version": 3
   },
   "file_extension": ".py",
   "mimetype": "text/x-python",
   "name": "python",
   "nbconvert_exporter": "python",
   "pygments_lexer": "ipython3",
   "version": "3.9.15"
  },
  "orig_nbformat": 4,
  "vscode": {
   "interpreter": {
    "hash": "bb173175969092e51690acb81bac0b96cd35590774203fe88d94a5a082f2cb75"
   }
  }
 },
 "nbformat": 4,
 "nbformat_minor": 2
}
