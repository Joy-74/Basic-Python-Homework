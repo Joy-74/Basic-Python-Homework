{
 "cells": [
  {
   "attachments": {},
   "cell_type": "markdown",
   "metadata": {
    "slideshow": {
     "slide_type": "slide"
    }
   },
   "source": [
    "# Lecture 2\n",
    "Today we cover a few very basics of Python to get you started: \n",
    "1. Variable types\n",
    "2. Comment\n",
    "3. List\n",
    "\n",
    "Reading material: [Python tutorial](https://docs.python.org/3.9/tutorial/) 3.1.1, 3.1.2, 3.1.3, 5.1"
   ]
  },
  {
   "cell_type": "markdown",
   "metadata": {},
   "source": [
    "## 1. Variable types\n",
    "Python will guess the type when you define the variable. For example, if you set x = 2, then Python will make x an integer. If you set x = 2.0, Python will make it a float."
   ]
  },
  {
   "cell_type": "markdown",
   "metadata": {},
   "source": [
    "-  __integer__:  These are the signed integers ...−2,−1,0,1,2,..."
   ]
  },
  {
   "cell_type": "code",
   "execution_count": 1,
   "metadata": {},
   "outputs": [
    {
     "data": {
      "text/plain": [
       "int"
      ]
     },
     "execution_count": 1,
     "metadata": {},
     "output_type": "execute_result"
    }
   ],
   "source": [
    "x = 1\n",
    "type(x)"
   ]
  },
  {
   "cell_type": "code",
   "execution_count": 2,
   "metadata": {},
   "outputs": [
    {
     "data": {
      "text/plain": [
       "float"
      ]
     },
     "execution_count": 2,
     "metadata": {},
     "output_type": "execute_result"
    }
   ],
   "source": [
    "x = 2.1\n",
    "type(x)"
   ]
  },
  {
   "attachments": {},
   "cell_type": "markdown",
   "metadata": {},
   "source": [
    "-  __float__:  Python float values are represented as 64-bit double-precision values."
   ]
  },
  {
   "cell_type": "code",
   "execution_count": 2,
   "metadata": {},
   "outputs": [
    {
     "data": {
      "text/plain": [
       "float"
      ]
     },
     "execution_count": 2,
     "metadata": {},
     "output_type": "execute_result"
    }
   ],
   "source": [
    "y = 2.0\n",
    "type(y)"
   ]
  },
  {
   "cell_type": "markdown",
   "metadata": {},
   "source": [
    "-  __string__:  A Python string (str) is a sequence of 0 or more characters enclosed within a pair of single quotes (') or a pair of double quotes (\")."
   ]
  },
  {
   "cell_type": "code",
   "execution_count": 4,
   "metadata": {},
   "outputs": [
    {
     "data": {
      "text/plain": [
       "str"
      ]
     },
     "execution_count": 4,
     "metadata": {},
     "output_type": "execute_result"
    }
   ],
   "source": [
    "a = 'Hello World!'\n",
    "type(a)"
   ]
  },
  {
   "cell_type": "code",
   "execution_count": 5,
   "metadata": {},
   "outputs": [
    {
     "data": {
      "text/plain": [
       "str"
      ]
     },
     "execution_count": 5,
     "metadata": {},
     "output_type": "execute_result"
    }
   ],
   "source": [
    "a = \"Hello World!\"\n",
    "type(a)"
   ]
  },
  {
   "cell_type": "code",
   "execution_count": 6,
   "metadata": {},
   "outputs": [
    {
     "name": "stdout",
     "output_type": "stream",
     "text": [
      "McDonald's\n"
     ]
    }
   ],
   "source": [
    "print(\"McDonald's\")"
   ]
  },
  {
   "cell_type": "code",
   "execution_count": 7,
   "metadata": {},
   "outputs": [
    {
     "name": "stdout",
     "output_type": "stream",
     "text": [
      "McDonald's\n"
     ]
    }
   ],
   "source": [
    "print('McDonald\\'s')"
   ]
  },
  {
   "cell_type": "code",
   "execution_count": 8,
   "metadata": {},
   "outputs": [
    {
     "name": "stdout",
     "output_type": "stream",
     "text": [
      "abcabcabc\n",
      "abcdef\n"
     ]
    }
   ],
   "source": [
    "print(3*\"abc\")\n",
    "print(\"abc\"+\"def\")"
   ]
  },
  {
   "cell_type": "code",
   "execution_count": 9,
   "metadata": {},
   "outputs": [
    {
     "name": "stdout",
     "output_type": "stream",
     "text": [
      "abcd\n"
     ]
    }
   ],
   "source": [
    "a = \"abc\"\n",
    "b = 'd'\n",
    "print(a+b)"
   ]
  },
  {
   "cell_type": "code",
   "execution_count": 10,
   "metadata": {},
   "outputs": [
    {
     "name": "stdout",
     "output_type": "stream",
     "text": [
      "\n",
      "\n",
      "this\n",
      "is\n",
      "a\n",
      "multi\n",
      "line\n",
      "comment\n",
      "\n",
      "\n"
     ]
    }
   ],
   "source": [
    "print(\"\"\"\n",
    "\n",
    "this\n",
    "is\n",
    "a\n",
    "multi\n",
    "line\n",
    "comment\n",
    "\n",
    "\"\"\")"
   ]
  },
  {
   "cell_type": "code",
   "execution_count": 11,
   "metadata": {},
   "outputs": [
    {
     "name": "stdout",
     "output_type": "stream",
     "text": [
      "\n",
      "\n",
      "this\n",
      "is\n",
      "a\n",
      "multi\n",
      "line\n",
      "comment\n",
      "\n",
      "\n"
     ]
    }
   ],
   "source": [
    "print('''\n",
    "\n",
    "this\n",
    "is\n",
    "a\n",
    "multi\n",
    "line\n",
    "comment\n",
    "\n",
    "''')"
   ]
  },
  {
   "attachments": {},
   "cell_type": "markdown",
   "metadata": {},
   "source": [
    "Exercise: Read 3.1.2 in the [Python tutorial](http://docs.python.org/3.9/tutorial/introduction.html) and check the output of the following:\n",
    "```\n",
    "print(\"McDonald's\")\n",
    "print(\"McDonald\\'s\")\n",
    "print('McDonald\\'s')\n",
    "print('McDonald's')\n",
    "print(r\"McDonald\\'s\")\n",
    "print(3*\"McDonald\\'s\")\n",
    "print(\"McDonald\" + \"\\'s\")\n",
    "print(\"McDonald\" \"\\'s\")\n",
    "print(\"\"\"McDonald\n",
    "\n",
    "    \\'s\"\"\")\n",
    "```\n"
   ]
  },
  {
   "cell_type": "code",
   "execution_count": 7,
   "metadata": {},
   "outputs": [
    {
     "name": "stdout",
     "output_type": "stream",
     "text": [
      "McDonald's\n",
      "McDonald\\'s\n",
      "McDonald's\n",
      "McDonald\\'s\n",
      "McDonald'sMcDonald'sMcDonald's\n",
      "McDonald's\n",
      "McDonald's\n",
      "McDonald\n",
      "\n",
      "    's\n"
     ]
    }
   ],
   "source": [
    "print(\"McDonald's\")\n",
    "print(\"McDonald\\\\'s\")\n",
    "print('McDonald\\'s')\n",
    "# print('McDonald's')\n",
    "print(r\"McDonald\\'s\")\n",
    "print(3*\"McDonald\\'s\")\n",
    "print(\"McDonald\" + \"\\'s\")\n",
    "print(\"McDonald\" \"'s\")\n",
    "print(\"\"\"McDonald\n",
    "\n",
    "    \\'s\"\"\")"
   ]
  },
  {
   "attachments": {},
   "cell_type": "markdown",
   "metadata": {},
   "source": [
    "Strings can be indexed (subscripted), with the first character having index 0. There is no separate character type; a character is simply a string of size one.\n",
    "\n",
    "字符串可以被索引（下标），第一个字符的索引为 0。没有单独的字符类型； 一个字符只是一个大小为 1 的字符串。\n",
    "\n",
    "Note that negative indices start from -1.\n",
    "\n",
    "请注意，负索引从 -1 开始。"
   ]
  },
  {
   "cell_type": "code",
   "execution_count": 5,
   "metadata": {},
   "outputs": [
    {
     "name": "stdout",
     "output_type": "stream",
     "text": [
      "6\n",
      "P\n",
      "y\n",
      "n\n",
      "h\n"
     ]
    }
   ],
   "source": [
    "word = 'Python'\n",
    "print(len(word)) # get the length of string\n",
    "print(word[0])\n",
    "print(word[1])\n",
    "print(word[-1])\n",
    "print(word[-3])\n"
   ]
  },
  {
   "attachments": {},
   "cell_type": "markdown",
   "metadata": {},
   "source": [
    "In addition to indexing, slicing is also supported. While indexing is used to obtain individual characters, slicing allows you to obtain substring. Slice indices have useful defaults; an omitted first index defaults to zero, an omitted second index defaults to the size of the string being sliced."
   ]
  },
  {
   "cell_type": "code",
   "execution_count": 2,
   "metadata": {},
   "outputs": [
    {
     "name": "stdout",
     "output_type": "stream",
     "text": [
      "Py\n",
      "tho\n",
      "Py\n",
      "Pyth\n",
      "on\n",
      "on\n"
     ]
    }
   ],
   "source": [
    "word = 'Python'\n",
    "print(word[0:2]) # characters from position 0 (included) to 2 (excluded)\n",
    "print(word[2:5]) # characters from position 2 (included) to 5 (excluded)\n",
    "print(word[:2]) # character from the beginning to position 2 (excluded)\n",
    "print(word[:-2])  # character from the beginning to position -2 (excluded)\n",
    "print(word[4:]) # characters from position 4 (included) to the end\n",
    "print(word[-2:])  # characters from the second-last (included) to the end\n"
   ]
  },
  {
   "attachments": {},
   "cell_type": "markdown",
   "metadata": {},
   "source": [
    "The [Python tutorial](http://docs.python.org/3.9/tutorial/introduction.html) offers a helpful representation to show how slices work:\n",
    "\n",
    "<pre>\n",
    " +---+---+---+---+---+---+\n",
    " | P | y | t | h | o | n |\n",
    " +---+---+---+---+---+---+\n",
    " 0   1   2   3   4   5   6\n",
    "-6  -5  -4  -3  -2  -1\n",
    "</pre>\n",
    "\n",
    "Think of the indices as pointing between characters, with the left edge of the first character numbered 0. Then the right edge of the last character of a string of n characters has index n, "
   ]
  },
  {
   "attachments": {},
   "cell_type": "markdown",
   "metadata": {},
   "source": [
    "__Exercise: Predict and check the output of the following, assuming that s = \"abcdefg\"__\n",
    "```\n",
    "-  print(s[0])\n",
    "-  print(s[6])\n",
    "-  print(s[7])\n",
    "-  print(s[-1])\n",
    "-  print(s[1:3])\n",
    "-  print(s[:3])\n",
    "-  print(s[3:])\n",
    "-  print(s[0:-2])\n",
    "-  print(s[0:100])\n",
    "-  s[0] = 'z'\n",
    "-  s[0:3] = ['x','y','z']\n",
    "```"
   ]
  },
  {
   "cell_type": "code",
   "execution_count": 2,
   "metadata": {},
   "outputs": [
    {
     "name": "stdout",
     "output_type": "stream",
     "text": [
      "a\n",
      "g\n",
      "g\n",
      "bc\n",
      "abc\n",
      "defg\n",
      "abcde\n",
      "abcdefg\n"
     ]
    }
   ],
   "source": [
    "s = (\"abcdefg\")\n",
    "print(s[0])\n",
    "print(s[6])\n",
    "# print(s[7])\n",
    "print(s[-1])\n",
    "print(s[1:3])\n",
    "print(s[:3])\n",
    "print(s[3:])\n",
    "print(s[0:-2])\n",
    "print(s[0:100])\n",
    "# s[0] = 'z'  # str is immutable\n",
    "# s[0:3] = ['x','y','z']"
   ]
  },
  {
   "attachments": {},
   "cell_type": "markdown",
   "metadata": {},
   "source": [
    "Python strings cannot be changed. They are immutable. "
   ]
  },
  {
   "cell_type": "code",
   "execution_count": 10,
   "metadata": {},
   "outputs": [
    {
     "name": "stdout",
     "output_type": "stream",
     "text": [
      "abc\n"
     ]
    }
   ],
   "source": [
    "# s = \"abc\"\n",
    "# s[0] = \"d\"\n",
    "# print(s)"
   ]
  },
  {
   "cell_type": "code",
   "execution_count": 15,
   "metadata": {},
   "outputs": [
    {
     "name": "stdout",
     "output_type": "stream",
     "text": [
      "bd\n",
      "behkn\n",
      "ad\n",
      "b\n",
      "bcdefghijklmn\n",
      "\n"
     ]
    }
   ],
   "source": [
    "# s[start:end:step] is basically s[start:end] with a stride of step\n",
    "s = \"abcdefghijklmn\"\n",
    "print(s[1:5:2]) # index 1, index 3\n",
    "print(s[1::3]) # index 1, index 4, index 7, index 10, ....\n",
    "print(s[:6:3]) # index 0, index 3 ....\n",
    "print(s[1:6:100])\n",
    "\n",
    "print(s[1:1000])\n",
    "print(s[1000:2000]) # an empty string"
   ]
  },
  {
   "cell_type": "code",
   "execution_count": 16,
   "metadata": {},
   "outputs": [
    {
     "name": "stdout",
     "output_type": "stream",
     "text": [
      "gfedcba\n",
      "fedcb\n",
      "gfedcb\n"
     ]
    }
   ],
   "source": [
    "# backward\n",
    "s = \"abcdefg\"\n",
    "print(s[::-1])\n",
    "print(s[-2:-7:-1])\n",
    "print(s[6:0:-1])"
   ]
  },
  {
   "cell_type": "markdown",
   "metadata": {},
   "source": [
    "## 2. Comments"
   ]
  },
  {
   "cell_type": "markdown",
   "metadata": {},
   "source": [
    "Commenting your code properly will help you and other understand and use it correctly. You should make this a habit when programming anything. Python allows for two types of comments: long multi-line comments and short inline comments. Your codes should contain a long comment at the beginning, which contains information for somebody using your code. \n",
    "\n",
    "The Python ***comment*** character is **`'#'`**: anything after `'#'` on the line is ignored by the Python interpreter. PEP8 style guidelines recommend using at least 2 blank spaces before an inline comment that appears on the same line as any code.\n",
    "\n",
    "***Multi-line strings*** can be used within code blocks to provide multi-line comments.\n",
    "\n",
    "Multi-line strings are delimited by pairs of triple quotes (**`'''`** or **`\"\"\"`**). Any newlines in the string will be represented as `'\\n'` characters in the string."
   ]
  },
  {
   "cell_type": "code",
   "execution_count": 17,
   "metadata": {},
   "outputs": [
    {
     "name": "stdout",
     "output_type": "stream",
     "text": [
      "Before comment\n",
      "After comment\n"
     ]
    }
   ],
   "source": [
    "print('Before comment')  # this is an inline comment\n",
    "'''\n",
    "This is\n",
    "a multi-line\n",
    "comment\n",
    "'''\n",
    "print('After comment')"
   ]
  },
  {
   "cell_type": "markdown",
   "metadata": {},
   "source": [
    "## 3. Lists"
   ]
  },
  {
   "attachments": {},
   "cell_type": "markdown",
   "metadata": {},
   "source": [
    "A [**`list`**](http://docs.python.org/3.7/tutorial/introduction.html#lists) is an ordered ***sequence*** of 0 or more comma-delimited elements enclosed within square brackets ('`[`', '`]`')."
   ]
  },
  {
   "cell_type": "code",
   "execution_count": 9,
   "metadata": {},
   "outputs": [],
   "source": [
    "s = [1,2]\n",
    "s = ['p', 'y', 't']\n",
    "s = [1,2,'p']"
   ]
  },
  {
   "attachments": {},
   "cell_type": "markdown",
   "metadata": {},
   "source": [
    "The Python [**`str.split(sep)`**](http://docs.python.org/3.7/library/stdtypes.html#str.split) method can be used to split a `sep`-delimited string into a corresponding list of elements.\n",
    "\n",
    "Python str.split(sep) 方法可用于将以 sep 分隔的字符串拆分为相应的元素列表。\n",
    "\n",
    "In the following example, a comma-delimited string is split using `sep=','`.\n",
    "\n",
    "在以下示例中，使用 sep=',' 拆分以逗号分隔的字符串。"
   ]
  },
  {
   "cell_type": "code",
   "execution_count": 10,
   "metadata": {},
   "outputs": [
    {
     "name": "stdout",
     "output_type": "stream",
     "text": [
      "['a', 'b', 'c', 'd', 'e', 'f', 'g']\n",
      "<class 'list'>\n",
      "7\n"
     ]
    }
   ],
   "source": [
    "s_str= 'a,b,c,d,e,f,g'\n",
    "s_list = s_str.split(',')\n",
    "print(s_list)\n",
    "print(type(s_list))\n",
    "print(len(s_list))"
   ]
  },
  {
   "cell_type": "code",
   "execution_count": 11,
   "metadata": {},
   "outputs": [
    {
     "name": "stdout",
     "output_type": "stream",
     "text": [
      "['a', 'b', 'c', 'd', 'e', 'f', 'g']\n",
      "7\n"
     ]
    }
   ],
   "source": [
    "s_str = 'a b c d e f g'\n",
    "s_list = s_str.split(' ')\n",
    "# s_list = s_str.split()\n",
    "\n",
    "print(s_list)\n",
    "print(len(s_list))"
   ]
  },
  {
   "attachments": {},
   "cell_type": "markdown",
   "metadata": {},
   "source": [
    "The rule of slicing in lists is similar to that in strings"
   ]
  },
  {
   "cell_type": "code",
   "execution_count": 11,
   "metadata": {},
   "outputs": [
    {
     "name": "stdout",
     "output_type": "stream",
     "text": [
      "[2, 3]\n",
      "[2, 3, 4, 5, 6, 7]\n",
      "[1, 3, 5, 7]\n",
      "[2, 4, 6, 8]\n",
      "[8, 7, 6, 5, 4, 3, 2, 1]\n",
      "[8, 6]\n"
     ]
    }
   ],
   "source": [
    "s = [1,2,3,4,5,6,7,8]\n",
    "print(s[1:3])\n",
    "print(s[1:-1])\n",
    "print(s[::2])  # print elements in even-numbered positions\n",
    "print(s[1::2])  # print elements in odd-numbered positions\n",
    "print(s[::-1])  # print elements in reverse order\n",
    "print(s[:-4:-2])"
   ]
  },
  {
   "cell_type": "code",
   "execution_count": 22,
   "metadata": {},
   "outputs": [
    {
     "name": "stdout",
     "output_type": "stream",
     "text": [
      "['a', 'b', 'c', 'd', 'e', 'f', 'g']\n",
      "['a', 'a', 'a']\n"
     ]
    }
   ],
   "source": [
    "s = ['a','b','c','d','e']+['f','g']\n",
    "print(s)\n",
    "s = 3*['a']\n",
    "print(s)"
   ]
  },
  {
   "attachments": {},
   "cell_type": "markdown",
   "metadata": {},
   "source": [
    "__Exercise:__ Predict and check the output of the following, assuming that `s = ['a','b','c','d','e'] + ['f','g']`\n",
    "has been executed. Which of the following will produce different output from the previous exercise, and what will it be?\n",
    "```\n",
    "-  print(s[0])\n",
    "-  print(s[6])\n",
    "-  print(s[7])\n",
    "-  print(s[-1])\n",
    "-  print(s[1:3])\n",
    "-  print(s[:3])\n",
    "-  print(s[3:])\n",
    "-  print(s[0:-2])\n",
    "-  print(s[0:100])\n",
    "```"
   ]
  },
  {
   "attachments": {},
   "cell_type": "markdown",
   "metadata": {},
   "source": [
    "Assignment to slices is possible in lists, which is different fron strings."
   ]
  },
  {
   "cell_type": "code",
   "execution_count": 23,
   "metadata": {},
   "outputs": [
    {
     "name": "stdout",
     "output_type": "stream",
     "text": [
      "['p', 'y', 't', 'h', 'o', 'n']\n",
      "['z', 'y', 't', 'h', 'o', 'n']\n",
      "['x', 'y', 'z', 'h', 'o', 'n']\n"
     ]
    }
   ],
   "source": [
    "s = ['p', 'y', 't', 'h', 'o', 'n']\n",
    "print(s)\n",
    "s[0] = 'z'\n",
    "print(s)\n",
    "s[0:3] = ['x','y','z']\n",
    "print(s)"
   ]
  },
  {
   "cell_type": "code",
   "execution_count": 24,
   "metadata": {},
   "outputs": [
    {
     "name": "stdout",
     "output_type": "stream",
     "text": [
      "[1, 2, 4]\n",
      "[1, 2, 4, 5]\n",
      "[1, 2, 4, 5, 's']\n"
     ]
    }
   ],
   "source": [
    "s = [1,2,4]\n",
    "print(s)\n",
    "s.append(5)\n",
    "print(s)\n",
    "s.append('s')\n",
    "print(s)"
   ]
  },
  {
   "attachments": {},
   "cell_type": "markdown",
   "metadata": {},
   "source": [
    "How to concatenate a list of strings?"
   ]
  },
  {
   "cell_type": "code",
   "execution_count": 12,
   "metadata": {},
   "outputs": [
    {
     "name": "stdout",
     "output_type": "stream",
     "text": [
      "['a', 'b', 'c', 'd', 'e', 'f', 'g']\n",
      "<class 'str'>\n",
      "35\n"
     ]
    }
   ],
   "source": [
    "s = str(['a', 'b', 'c', 'd', 'e', 'f', 'g'])\n",
    "print(s)\n",
    "print(type(s))\n",
    "print(len(s))"
   ]
  },
  {
   "cell_type": "code",
   "execution_count": 26,
   "metadata": {},
   "outputs": [
    {
     "name": "stdout",
     "output_type": "stream",
     "text": [
      "abcdefg\n",
      "<class 'str'>\n",
      "7\n",
      "abcdefg\n"
     ]
    }
   ],
   "source": [
    "s = \"\".join(['a', 'b', 'c', 'd', 'e', 'f', 'g'])\n",
    "print(s)\n",
    "print(type(s))\n",
    "print(len(s))\n",
    "\n",
    "print(\"\".join([\"ab\",\"cde\",\"fg\"])) "
   ]
  },
  {
   "cell_type": "code",
   "execution_count": 27,
   "metadata": {},
   "outputs": [
    {
     "name": "stdout",
     "output_type": "stream",
     "text": [
      "aobocodoeofog\n",
      "<class 'str'>\n",
      "13\n"
     ]
    }
   ],
   "source": [
    "s = \"o\".join(['a', 'b', 'c', 'd', 'e', 'f', 'g'])\n",
    "print(s)\n",
    "print(type(s))\n",
    "print(len(s))"
   ]
  },
  {
   "cell_type": "code",
   "execution_count": 28,
   "metadata": {},
   "outputs": [
    {
     "name": "stdout",
     "output_type": "stream",
     "text": [
      "6\n",
      "10\n"
     ]
    }
   ],
   "source": [
    "print(sum([1,2,3]))\n",
    "print(sum([1,2,3], 4)) # initialize sum with 4"
   ]
  },
  {
   "cell_type": "markdown",
   "metadata": {},
   "source": [
    "Lists may also have lists as their elements:"
   ]
  },
  {
   "cell_type": "code",
   "execution_count": 29,
   "metadata": {},
   "outputs": [
    {
     "name": "stdout",
     "output_type": "stream",
     "text": [
      "The list is nonempty\n"
     ]
    }
   ],
   "source": [
    "L = [1,2]\n",
    "if L:\n",
    "    print(\"The list is nonempty\")"
   ]
  },
  {
   "cell_type": "code",
   "execution_count": 30,
   "metadata": {},
   "outputs": [
    {
     "name": "stdout",
     "output_type": "stream",
     "text": [
      "2\n",
      "[1, 2]\n",
      "[3, 4, 5]\n",
      "s\n"
     ]
    }
   ],
   "source": [
    "K=[[1,2],[3,4,5],'s']\n",
    "print(K[0][1])\n",
    "print(K[0][:])\n",
    "print(K[1])\n",
    "print(K[2])"
   ]
  },
  {
   "cell_type": "markdown",
   "metadata": {},
   "source": [
    "In python, if say __if L:__ then the list L is interpreted as true if it is nonempty, and false otherwise."
   ]
  },
  {
   "attachments": {},
   "cell_type": "markdown",
   "metadata": {},
   "source": [
    "__List comprehension__ is an extremely intuitive and efficient way to create lists in python.\n",
    "\n",
    "列表理解是在 Python 中创建列表的一种非常直观和有效的方法。"
   ]
  },
  {
   "cell_type": "code",
   "execution_count": 16,
   "metadata": {},
   "outputs": [
    {
     "name": "stdout",
     "output_type": "stream",
     "text": [
      "[0, 1, 4, 9, 16, 25]\n"
     ]
    }
   ],
   "source": [
    "# explicit for-loop \n",
    "L = [] # empty list\n",
    "for i in range(6):\n",
    "    # print(i)\n",
    "    L.append(i**2)\n",
    "    # print(L)\n",
    "print(L)"
   ]
  },
  {
   "cell_type": "code",
   "execution_count": 32,
   "metadata": {},
   "outputs": [
    {
     "data": {
      "text/plain": [
       "[0, 1, 4, 9, 16, 25]"
      ]
     },
     "execution_count": 32,
     "metadata": {},
     "output_type": "execute_result"
    }
   ],
   "source": [
    "[i**2 for i in range(6)]"
   ]
  },
  {
   "cell_type": "code",
   "execution_count": 33,
   "metadata": {},
   "outputs": [
    {
     "data": {
      "text/plain": [
       "[0, 4, 16]"
      ]
     },
     "execution_count": 33,
     "metadata": {},
     "output_type": "execute_result"
    }
   ],
   "source": [
    "[i**2 for i in range(6) if i%2==0]"
   ]
  },
  {
   "cell_type": "code",
   "execution_count": 14,
   "metadata": {},
   "outputs": [
    {
     "data": {
      "text/plain": [
       "[0, 0, 0, 0, 0, 0, 0, 0, 0, 0]"
      ]
     },
     "execution_count": 14,
     "metadata": {},
     "output_type": "execute_result"
    }
   ],
   "source": [
    "[0 for _ in range(10)] #we can use _ if we don't need a variable\n",
    "# equivalent to \n",
    "#[0 for i in range(10)]"
   ]
  },
  {
   "cell_type": "code",
   "execution_count": 15,
   "metadata": {},
   "outputs": [
    {
     "name": "stdout",
     "output_type": "stream",
     "text": [
      "1\n",
      "3\n",
      "5\n",
      "7\n",
      "9\n"
     ]
    }
   ],
   "source": [
    "# list(range(1, 5))\n",
    "# range(start, end, step)\n",
    "for i in range(1, 10, 2):\n",
    "    print(i)"
   ]
  },
  {
   "cell_type": "code",
   "execution_count": 36,
   "metadata": {},
   "outputs": [
    {
     "data": {
      "text/plain": [
       "[0, 1, 2, 3, 1, 2, 3, 4]"
      ]
     },
     "execution_count": 36,
     "metadata": {},
     "output_type": "execute_result"
    }
   ],
   "source": [
    "[i+j for i in range(2) for j in range(4)]"
   ]
  },
  {
   "cell_type": "code",
   "execution_count": 37,
   "metadata": {},
   "outputs": [
    {
     "name": "stdout",
     "output_type": "stream",
     "text": [
      "[0, 1, 2, 3, 1, 2, 3, 4]\n"
     ]
    }
   ],
   "source": [
    "# explicit for-loop \n",
    "L = [] # empty list\n",
    "for i in range(2):\n",
    "    for j in range(4):\n",
    "        L.append(i+j)\n",
    "print(L)"
   ]
  },
  {
   "cell_type": "code",
   "execution_count": 38,
   "metadata": {},
   "outputs": [
    {
     "data": {
      "text/plain": [
       "[1, 2]"
      ]
     },
     "execution_count": 38,
     "metadata": {},
     "output_type": "execute_result"
    }
   ],
   "source": [
    "[i+1 for i in range(2)]"
   ]
  },
  {
   "cell_type": "code",
   "execution_count": 39,
   "metadata": {},
   "outputs": [
    {
     "data": {
      "text/plain": [
       "[[0, 1], [1, 2], [2, 3], [3, 4]]"
      ]
     },
     "execution_count": 39,
     "metadata": {},
     "output_type": "execute_result"
    }
   ],
   "source": [
    "[[i+j for i in range(2)] for j in range(4)]"
   ]
  },
  {
   "cell_type": "code",
   "execution_count": 40,
   "metadata": {},
   "outputs": [
    {
     "name": "stdout",
     "output_type": "stream",
     "text": [
      "[[0, 1], [1, 2], [2, 3], [3, 4]]\n"
     ]
    }
   ],
   "source": [
    "L = []\n",
    "for j in range(4):\n",
    "    inner_list = []\n",
    "    for i in range(2):\n",
    "        inner_list.append(i+j)\n",
    "    L.append(inner_list)\n",
    "print(L)"
   ]
  },
  {
   "cell_type": "markdown",
   "metadata": {},
   "source": [
    "## Exercises"
   ]
  },
  {
   "cell_type": "markdown",
   "metadata": {},
   "source": [
    "- Use list comprehension to create the following object:  [[1,2,3],[2,4,6],[3,6,9],[4,8,12]] ."
   ]
  },
  {
   "cell_type": "code",
   "execution_count": null,
   "metadata": {},
   "outputs": [],
   "source": []
  },
  {
   "cell_type": "markdown",
   "metadata": {},
   "source": [
    "- Use list comprehension to create the following object:[0,0,0,0,1,2,0,2,4,0,3,6,0,4,8,0,5,10]."
   ]
  },
  {
   "cell_type": "code",
   "execution_count": null,
   "metadata": {},
   "outputs": [],
   "source": []
  }
 ],
 "metadata": {
  "kernelspec": {
   "display_name": "16A",
   "language": "python",
   "name": "python3"
  },
  "language_info": {
   "codemirror_mode": {
    "name": "ipython",
    "version": 3
   },
   "file_extension": ".py",
   "mimetype": "text/x-python",
   "name": "python",
   "nbconvert_exporter": "python",
   "pygments_lexer": "ipython3",
   "version": "3.9.15"
  },
  "vscode": {
   "interpreter": {
    "hash": "bb173175969092e51690acb81bac0b96cd35590774203fe88d94a5a082f2cb75"
   }
  }
 },
 "nbformat": 4,
 "nbformat_minor": 2
}
