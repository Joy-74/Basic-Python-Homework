{
 "cells": [
  {
   "attachments": {},
   "cell_type": "markdown",
   "metadata": {},
   "source": [
    "# Lecture 26 Review Part 1"
   ]
  },
  {
   "attachments": {},
   "cell_type": "markdown",
   "metadata": {},
   "source": [
    "For the first half of the course (until and including lecture 12), all materials in the lecture notes (ipynb and pdf) will be covered, unless specified here.\n"
   ]
  },
  {
   "attachments": {},
   "cell_type": "markdown",
   "metadata": {},
   "source": [
    "Number operations (Lecture 2)\n",
    "\n",
    "String \n",
    "- how to define a string\n",
    "- string index and slicing\n",
    "- for backward, `s[::-1]`\n",
    "\n",
    "Comments\n",
    "- single-line and multi-line\n",
    "\n",
    "Lists\n",
    "- use `split` to convert a string to a list\n",
    "- list index and slicing\n",
    "- `+` and `*`\n",
    "- assignment, append, join, sum\n",
    "- `if L`\n",
    "- removing elements from a list using `del`"
   ]
  },
  {
   "attachments": {},
   "cell_type": "markdown",
   "metadata": {},
   "source": [
    "How do variables work in Python (very important!)   (Lecture 3)\n",
    "\n",
    "Identity (`is`) and equality (`==`) comparison\n",
    "\n",
    "Mutable and immutable\n",
    "- example objects\n",
    "- difference\n",
    "\n",
    "Control flow\n",
    "- if elif else\n",
    "- for loop over a list/tuple/dictionary/string, etc.\n",
    "- range\n",
    "- while\n",
    "- break continue\n",
    "\n",
    "list comprehensions\n",
    "- `L = [i+j for i in range(2) for j in range(4)]`\n",
    "- `[[i+j for i in range(2)] for j in range(4)]`"
   ]
  },
  {
   "attachments": {},
   "cell_type": "markdown",
   "metadata": {},
   "source": [
    "Functions (important!)  (Lecture 4)\n",
    "- how to define and call a function\n",
    "- passing arguments to functions (go through examples)\n",
    "- functions with default arugment values\n",
    "- keyword arguments\n",
    "- lambda expression"
   ]
  },
  {
   "attachments": {},
   "cell_type": "markdown",
   "metadata": {},
   "source": [
    "Function objects\n",
    "\n",
    "Function scope\n",
    "- LEGB rule: local, enclosing, global, built-in\n",
    "- The first thing that happens in a function call is that local variables are created. They are created according to whether they are assigned to at some point in the function call."
   ]
  },
  {
   "attachments": {},
   "cell_type": "markdown",
   "metadata": {},
   "source": [
    "\n",
    "`functionCalls.pdf` with Lecture 5 is very helpful."
   ]
  },
  {
   "attachments": {},
   "cell_type": "markdown",
   "metadata": {},
   "source": [
    "Dictionary\n",
    "- basic usage\n",
    "- dictionaries are mutable, but keys need to be immutable"
   ]
  },
  {
   "attachments": {},
   "cell_type": "markdown",
   "metadata": {},
   "source": [
    "Tuples\n",
    "- packing and unpacking\n",
    "- tuples are immutable\n"
   ]
  },
  {
   "attachments": {},
   "cell_type": "markdown",
   "metadata": {},
   "source": [
    "Sets\n",
    "- basic usage (`add`, `update`, `remove`, etc.)\n",
    "- sets are mutable, but elements need to be immutable"
   ]
  },
  {
   "attachments": {},
   "cell_type": "markdown",
   "metadata": {},
   "source": [
    "Class  (Lecture 6 + 7)\n",
    "- How to define a class and create instance objects\n",
    "- \"All attributes of a class object that are function objects\" define corresponding *methods* of each of the class's instances.\n",
    "- why we need `self`\n",
    "- `__init__`\n",
    "- class variable vs instance variables vs local variables (go through examples in lecture 7)\n",
    "- \"private instance variables\" won't be covered\n",
    "\n",
    "- 如何定义一个类并创建实例对象\n",
    "- “作为函数对象的类对象的所有属性”定义了每个类实例的相应*方法*。\n",
    "- 为什么我们需要 `self`\n",
    "- `__init__`\n",
    "- 类变量与实例变量与局部变量（通过第 7 讲中的示例）\n",
    "- “私有实例变量”不会被覆盖"
   ]
  },
  {
   "attachments": {},
   "cell_type": "markdown",
   "metadata": {},
   "source": [
    "Magic methods (Lecture 8)\n",
    "- `__eq__` and `==`\n",
    "- `__str__` and `print`\n",
    "- `__repr__`  (won't be covered in final)\n",
    "- `__add__` and `+`\n",
    "- `__iadd__` and `+=`"
   ]
  },
  {
   "attachments": {},
   "cell_type": "markdown",
   "metadata": {},
   "source": [
    "Inheritance and super() \n",
    "- Go through examples in Lecture 9  注意：super、 overridden"
   ]
  },
  {
   "attachments": {},
   "cell_type": "markdown",
   "metadata": {},
   "source": [
    "Exceptions (Lecture 10)\n",
    "- try-except statement   try-except 语句\n",
    "- else: If there is no exception then this block will be executed 如果没有异常则执行该块\n",
    "- finally: When the `try`-`except` results in no errors left unhandled, the `finally` clause is executed last. When there is an unhandled exception, the `finally` statement is executed just before the exception is raised. 当 `try`-`except` 结果没有未处理的错误时，最后执行 `finally` 子句。 当出现未处理的异常时，将在引发异常之前执行 finally 语句。"
   ]
  },
  {
   "attachments": {},
   "cell_type": "markdown",
   "metadata": {},
   "source": [
    "Iterators and Generators  (Lecture 11)\n",
    "- `iter` will call `__iter__`\n",
    "- `next` will call `__next__`\n",
    "- `next` can also work with generators\n",
    "- how to make for loop work"
   ]
  },
  {
   "attachments": {},
   "cell_type": "markdown",
   "metadata": {},
   "source": [
    "Modules  (Lecture 12)\n",
    "- cycles won't be covered.\n",
    "- others will."
   ]
  }
 ],
 "metadata": {
  "kernelspec": {
   "display_name": "16A",
   "language": "python",
   "name": "python3"
  },
  "language_info": {
   "codemirror_mode": {
    "name": "ipython",
    "version": 3
   },
   "file_extension": ".py",
   "mimetype": "text/x-python",
   "name": "python",
   "nbconvert_exporter": "python",
   "pygments_lexer": "ipython3",
   "version": "3.9.15"
  },
  "orig_nbformat": 4
 },
 "nbformat": 4,
 "nbformat_minor": 2
}
