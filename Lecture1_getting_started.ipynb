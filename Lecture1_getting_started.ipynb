{
 "cells": [
  {
   "attachments": {},
   "cell_type": "markdown",
   "metadata": {},
   "source": [
    "# Syllabus\n",
    "Review the syllabus carefully."
   ]
  },
  {
   "attachments": {},
   "cell_type": "markdown",
   "metadata": {},
   "source": [
    "# Visual Studio Code (VS Code)\n",
    "VS Code is a code editor, perhaps the most popular one. It's NOT Visial Studio you used when learning C++. You can download it from [here](https://code.visualstudio.com/).\n",
    "\n",
    "In this class, we will use two ways to run python code:\n",
    "- edit python scripts (.py files) in VS Code, and then run python scripts in the terminal integrated in VS Code.\n",
    "- edit Jupyter notebook (.ipynb files) in VS Code, and run it interactively.\n",
    "\n",
    "Most of my lecture notes will be written in Jupyter notebooks. Your homeworks will be submitted as python scripts or notebooks. I will make it clear in the homeworks instructions.\n",
    "\n",
    "\n"
   ]
  },
  {
   "attachments": {},
   "cell_type": "markdown",
   "metadata": {},
   "source": [
    "# Anaconda\n",
    "\n",
    "Anaconda helps you manage your python environments and packages. \n",
    "  - It's easy to install python packages with anaconda. In particular, in this quarter we will introduce some commonly used packages, including NumPy for scientific computing, Matplotlib for ploting, scikit-learn for machine learning.\n",
    "  - With Anaconda, you can create separate environments, with different versions of python and packages in each environments. \n",
    "  - Anaconda is free for students, academics, and hobbyists (at least for now).\n",
    "  \n",
    "Intall Anaconda:\n",
    "  - Follow [here](https://www.anaconda.com/products/distribution). You can scroll down to the bottom to see the installers for different systems.\n",
    "  - The graphical installers are more friendly for beginners. \n",
    "  - Mac users can check their chip type following [here](https://help.arcstudiopro.com/all-how-tos/how-do-i-know-if-my-mac-has-intel-processor-or-apple-m1)\n",
    "    - For Mac M1 series chip users, you can select the 64-Bit (M1) Graphical Installer, which should be faster.\n",
    "    - I am not sure about M2 series chip. You can try to use 64-Bit (M1) Graphical Installer. You can come to my office hours if you have troubles in the future.\n",
    "  "
   ]
  },
  {
   "attachments": {},
   "cell_type": "markdown",
   "metadata": {},
   "source": [
    "# Useful Commands\n",
    "- `conda env list`: show your environment list in anaconda.\n",
    "- `conda create -n 16A`: create an environment called \"16A\"\n",
    "- `conda activate 16A`: activate environment 16A (get into environment 16A)\n",
    "- `conda install python=3.9.15`: install python version 3.9.15 in the current environment.\n",
    "  - We will use this version in this quarter. It is not the latest version, but it's not too old, and most packages are compatible with it.\n",
    "  - You may use previous or later versions in the future, the differences should be minor.\n",
    "- `conda install jupyter`: install jupyter with default version in the current environment \n",
    "- `python --version`: show the python version in the current environment\n",
    "- `python helloworld.py` run the script helloworld.py with python"
   ]
  },
  {
   "attachments": {},
   "cell_type": "markdown",
   "metadata": {},
   "source": [
    "# Jupyter\n",
    "\n",
    "Why Jupyter Notebook\n",
    "  - Jupyter notebooks are documents literally like \"notebooks\", which contain both computer code (e.g. python) and rich text elements (paragraph, equations, figures, links, etc…). \n",
    "  - Notebook documents are both human-readable documents containing the analysis description and the results (figures, tables, etc..) as well as executable documents which can be run to perform data analysis.\n",
    "  - We will heavily use Jupyter notebooks in class.\n",
    "\n",
    "  \n",
    "Check [here](https://code.visualstudio.com/docs/datascience/jupyter-notebooks) for using Jupyter Notebooks in VS Code\n",
    "  - You don't need to learn everything for now. Read until \"Work with code cells in the Notebook Editor\" will be good enough. Also, you don't need to worry about exporting.\n",
    "  - Always be careful about your environment (and python version) when using jupyter. Check out top-right in VS Code.\n"
   ]
  },
  {
   "cell_type": "code",
   "execution_count": null,
   "metadata": {},
   "outputs": [],
   "source": []
  }
 ],
 "metadata": {
  "kernelspec": {
   "display_name": "16A",
   "language": "python",
   "name": "python3"
  },
  "language_info": {
   "codemirror_mode": {
    "name": "ipython",
    "version": 3
   },
   "file_extension": ".py",
   "mimetype": "text/x-python",
   "name": "python",
   "nbconvert_exporter": "python",
   "pygments_lexer": "ipython3",
   "version": "3.9.15"
  },
  "orig_nbformat": 4,
  "vscode": {
   "interpreter": {
    "hash": "bb173175969092e51690acb81bac0b96cd35590774203fe88d94a5a082f2cb75"
   }
  }
 },
 "nbformat": 4,
 "nbformat_minor": 2
}
