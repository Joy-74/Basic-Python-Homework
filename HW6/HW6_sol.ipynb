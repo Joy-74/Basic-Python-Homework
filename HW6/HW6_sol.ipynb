{
 "cells": [
  {
   "attachments": {},
   "cell_type": "markdown",
   "metadata": {},
   "source": [
    "# HW6"
   ]
  },
  {
   "cell_type": "code",
   "execution_count": 20,
   "metadata": {},
   "outputs": [],
   "source": [
    "import pandas as pd\n",
    "import numpy as np\n",
    "import matplotlib.pyplot as plt"
   ]
  },
  {
   "cell_type": "code",
   "execution_count": 4,
   "metadata": {},
   "outputs": [
    {
     "data": {
      "text/html": [
       "<div>\n",
       "<style scoped>\n",
       "    .dataframe tbody tr th:only-of-type {\n",
       "        vertical-align: middle;\n",
       "    }\n",
       "\n",
       "    .dataframe tbody tr th {\n",
       "        vertical-align: top;\n",
       "    }\n",
       "\n",
       "    .dataframe thead th {\n",
       "        text-align: right;\n",
       "    }\n",
       "</style>\n",
       "<table border=\"1\" class=\"dataframe\">\n",
       "  <thead>\n",
       "    <tr style=\"text-align: right;\">\n",
       "      <th></th>\n",
       "      <th>Phone</th>\n",
       "      <th>First</th>\n",
       "      <th>Last</th>\n",
       "    </tr>\n",
       "    <tr>\n",
       "      <th>Member #</th>\n",
       "      <th></th>\n",
       "      <th></th>\n",
       "      <th></th>\n",
       "    </tr>\n",
       "  </thead>\n",
       "  <tbody>\n",
       "    <tr>\n",
       "      <th>A1001</th>\n",
       "      <td>125-111-4978</td>\n",
       "      <td>Austin</td>\n",
       "      <td>Bell</td>\n",
       "    </tr>\n",
       "    <tr>\n",
       "      <th>A1002</th>\n",
       "      <td>763-303-7544</td>\n",
       "      <td>Declan</td>\n",
       "      <td>Buck</td>\n",
       "    </tr>\n",
       "    <tr>\n",
       "      <th>A1003</th>\n",
       "      <td>695-919-3789</td>\n",
       "      <td>Carol</td>\n",
       "      <td>Vazquez</td>\n",
       "    </tr>\n",
       "    <tr>\n",
       "      <th>A1004</th>\n",
       "      <td>276-570-7451</td>\n",
       "      <td>Fleur</td>\n",
       "      <td>Dunlap</td>\n",
       "    </tr>\n",
       "    <tr>\n",
       "      <th>A1005</th>\n",
       "      <td>498-479-7074</td>\n",
       "      <td>Garth</td>\n",
       "      <td>Potter</td>\n",
       "    </tr>\n",
       "    <tr>\n",
       "      <th>...</th>\n",
       "      <td>...</td>\n",
       "      <td>...</td>\n",
       "      <td>...</td>\n",
       "    </tr>\n",
       "    <tr>\n",
       "      <th>A1096</th>\n",
       "      <td>801-950-2736</td>\n",
       "      <td>Carolyn</td>\n",
       "      <td>Reese</td>\n",
       "    </tr>\n",
       "    <tr>\n",
       "      <th>A1097</th>\n",
       "      <td>363-333-3522</td>\n",
       "      <td>Carla</td>\n",
       "      <td>Hardy</td>\n",
       "    </tr>\n",
       "    <tr>\n",
       "      <th>A1098</th>\n",
       "      <td>611-668-2294</td>\n",
       "      <td>Halla</td>\n",
       "      <td>Barker</td>\n",
       "    </tr>\n",
       "    <tr>\n",
       "      <th>A1099</th>\n",
       "      <td>162-830-7380</td>\n",
       "      <td>Joseph</td>\n",
       "      <td>Nunez</td>\n",
       "    </tr>\n",
       "    <tr>\n",
       "      <th>A1100</th>\n",
       "      <td>706-238-3765</td>\n",
       "      <td>Finn</td>\n",
       "      <td>Hamilton</td>\n",
       "    </tr>\n",
       "  </tbody>\n",
       "</table>\n",
       "<p>100 rows × 3 columns</p>\n",
       "</div>"
      ],
      "text/plain": [
       "                 Phone    First      Last\n",
       "Member #                                 \n",
       "A1001     125-111-4978   Austin      Bell\n",
       "A1002     763-303-7544   Declan      Buck\n",
       "A1003     695-919-3789    Carol   Vazquez\n",
       "A1004     276-570-7451    Fleur    Dunlap\n",
       "A1005     498-479-7074    Garth    Potter\n",
       "...                ...      ...       ...\n",
       "A1096     801-950-2736  Carolyn     Reese\n",
       "A1097     363-333-3522    Carla     Hardy\n",
       "A1098     611-668-2294    Halla    Barker\n",
       "A1099     162-830-7380   Joseph     Nunez\n",
       "A1100     706-238-3765     Finn  Hamilton\n",
       "\n",
       "[100 rows x 3 columns]"
      ]
     },
     "execution_count": 4,
     "metadata": {},
     "output_type": "execute_result"
    }
   ],
   "source": [
    "df = pd.read_excel('data.xlsx', 'Worksheet', index_col=0)\n",
    "df"
   ]
  },
  {
   "attachments": {},
   "cell_type": "markdown",
   "metadata": {},
   "source": [
    "### Problem 1"
   ]
  },
  {
   "attachments": {},
   "cell_type": "markdown",
   "metadata": {},
   "source": [
    "Display the rows where the last name starts with \"A\""
   ]
  },
  {
   "cell_type": "code",
   "execution_count": null,
   "metadata": {},
   "outputs": [
    {
     "data": {
      "text/html": [
       "<div>\n",
       "<style scoped>\n",
       "    .dataframe tbody tr th:only-of-type {\n",
       "        vertical-align: middle;\n",
       "    }\n",
       "\n",
       "    .dataframe tbody tr th {\n",
       "        vertical-align: top;\n",
       "    }\n",
       "\n",
       "    .dataframe thead th {\n",
       "        text-align: right;\n",
       "    }\n",
       "</style>\n",
       "<table border=\"1\" class=\"dataframe\">\n",
       "  <thead>\n",
       "    <tr style=\"text-align: right;\">\n",
       "      <th></th>\n",
       "      <th>Phone</th>\n",
       "      <th>First</th>\n",
       "      <th>Last</th>\n",
       "    </tr>\n",
       "    <tr>\n",
       "      <th>Member #</th>\n",
       "      <th></th>\n",
       "      <th></th>\n",
       "      <th></th>\n",
       "    </tr>\n",
       "  </thead>\n",
       "  <tbody>\n",
       "    <tr>\n",
       "      <th>A1040</th>\n",
       "      <td>474-992-6615</td>\n",
       "      <td>Ariel</td>\n",
       "      <td>Alford</td>\n",
       "    </tr>\n",
       "    <tr>\n",
       "      <th>A1071</th>\n",
       "      <td>411-883-7642</td>\n",
       "      <td>Ulla</td>\n",
       "      <td>Avery</td>\n",
       "    </tr>\n",
       "    <tr>\n",
       "      <th>A1087</th>\n",
       "      <td>920-271-2608</td>\n",
       "      <td>Melissa</td>\n",
       "      <td>Acosta</td>\n",
       "    </tr>\n",
       "  </tbody>\n",
       "</table>\n",
       "</div>"
      ],
      "text/plain": [
       "                 Phone    First    Last\n",
       "Member #                               \n",
       "A1040     474-992-6615    Ariel  Alford\n",
       "A1071     411-883-7642     Ulla   Avery\n",
       "A1087     920-271-2608  Melissa  Acosta"
      ]
     },
     "metadata": {},
     "output_type": "display_data"
    }
   ],
   "source": [
    "df.loc[(df[\"Last\"]>=\"A\") & (df[\"Last\"]<\"B\")]"
   ]
  },
  {
   "attachments": {},
   "cell_type": "markdown",
   "metadata": {},
   "source": [
    "Display the rows where the last name starts with \"A\" or \"B\", within the range from A1050 to A1100 (including both)."
   ]
  },
  {
   "cell_type": "code",
   "execution_count": 42,
   "metadata": {},
   "outputs": [
    {
     "data": {
      "text/html": [
       "<div>\n",
       "<style scoped>\n",
       "    .dataframe tbody tr th:only-of-type {\n",
       "        vertical-align: middle;\n",
       "    }\n",
       "\n",
       "    .dataframe tbody tr th {\n",
       "        vertical-align: top;\n",
       "    }\n",
       "\n",
       "    .dataframe thead th {\n",
       "        text-align: right;\n",
       "    }\n",
       "</style>\n",
       "<table border=\"1\" class=\"dataframe\">\n",
       "  <thead>\n",
       "    <tr style=\"text-align: right;\">\n",
       "      <th></th>\n",
       "      <th>Phone</th>\n",
       "      <th>First</th>\n",
       "      <th>Last</th>\n",
       "    </tr>\n",
       "    <tr>\n",
       "      <th>Member #</th>\n",
       "      <th></th>\n",
       "      <th></th>\n",
       "      <th></th>\n",
       "    </tr>\n",
       "  </thead>\n",
       "  <tbody>\n",
       "    <tr>\n",
       "      <th>A1066</th>\n",
       "      <td>677-234-5220</td>\n",
       "      <td>Camille</td>\n",
       "      <td>Brown</td>\n",
       "    </tr>\n",
       "    <tr>\n",
       "      <th>A1071</th>\n",
       "      <td>411-883-7642</td>\n",
       "      <td>Ulla</td>\n",
       "      <td>Avery</td>\n",
       "    </tr>\n",
       "    <tr>\n",
       "      <th>A1077</th>\n",
       "      <td>672-355-0177</td>\n",
       "      <td>Vaughan</td>\n",
       "      <td>Browning</td>\n",
       "    </tr>\n",
       "    <tr>\n",
       "      <th>A1082</th>\n",
       "      <td>724-607-5594</td>\n",
       "      <td>Anika</td>\n",
       "      <td>Bates</td>\n",
       "    </tr>\n",
       "    <tr>\n",
       "      <th>A1086</th>\n",
       "      <td>422-508-6558</td>\n",
       "      <td>Amber</td>\n",
       "      <td>Bauer</td>\n",
       "    </tr>\n",
       "    <tr>\n",
       "      <th>A1087</th>\n",
       "      <td>920-271-2608</td>\n",
       "      <td>Melissa</td>\n",
       "      <td>Acosta</td>\n",
       "    </tr>\n",
       "    <tr>\n",
       "      <th>A1098</th>\n",
       "      <td>611-668-2294</td>\n",
       "      <td>Halla</td>\n",
       "      <td>Barker</td>\n",
       "    </tr>\n",
       "  </tbody>\n",
       "</table>\n",
       "</div>"
      ],
      "text/plain": [
       "                 Phone    First      Last\n",
       "Member #                                 \n",
       "A1066     677-234-5220  Camille     Brown\n",
       "A1071     411-883-7642     Ulla     Avery\n",
       "A1077     672-355-0177  Vaughan  Browning\n",
       "A1082     724-607-5594    Anika     Bates\n",
       "A1086     422-508-6558    Amber     Bauer\n",
       "A1087     920-271-2608  Melissa    Acosta\n",
       "A1098     611-668-2294    Halla    Barker"
      ]
     },
     "execution_count": 42,
     "metadata": {},
     "output_type": "execute_result"
    }
   ],
   "source": [
    "df.loc[(df[\"Last\"]>=\"A\") & (df[\"Last\"]<\"C\")].loc[\"A1050\":\"A1100\"]"
   ]
  },
  {
   "attachments": {},
   "cell_type": "markdown",
   "metadata": {},
   "source": [
    "Display the phone numbers of people whose last names are Brown or Browning"
   ]
  },
  {
   "cell_type": "code",
   "execution_count": 41,
   "metadata": {},
   "outputs": [
    {
     "data": {
      "text/plain": [
       "Member #\n",
       "A1047    619-948-4860\n",
       "A1066    677-234-5220\n",
       "A1077    672-355-0177\n",
       "Name: Phone, dtype: object"
      ]
     },
     "execution_count": 41,
     "metadata": {},
     "output_type": "execute_result"
    }
   ],
   "source": [
    "df[df.Last.isin([\"Brown\",\"Browning\"])].loc[:,\"Phone\"]\n"
   ]
  },
  {
   "attachments": {},
   "cell_type": "markdown",
   "metadata": {},
   "source": [
    "Display the phone numbers of people whose last names are Brown or Browning, within the range from A1050 to A1100 (including both)."
   ]
  },
  {
   "cell_type": "code",
   "execution_count": 43,
   "metadata": {},
   "outputs": [
    {
     "data": {
      "text/plain": [
       "Member #\n",
       "A1066    677-234-5220\n",
       "A1077    672-355-0177\n",
       "Name: Phone, dtype: object"
      ]
     },
     "execution_count": 43,
     "metadata": {},
     "output_type": "execute_result"
    }
   ],
   "source": [
    "df[df.Last.isin([\"Brown\",\"Browning\"])].loc[\"A1050\":\"A1100\",\"Phone\"]\n"
   ]
  },
  {
   "attachments": {},
   "cell_type": "markdown",
   "metadata": {},
   "source": [
    "### Problem 2"
   ]
  },
  {
   "cell_type": "code",
   "execution_count": 45,
   "metadata": {},
   "outputs": [
    {
     "data": {
      "image/png": "[encoded data removed]",
      "text/plain": [
       "<Figure size 640x480 with 1 Axes>"
      ]
     },
     "metadata": {},
     "output_type": "display_data"
    }
   ],
   "source": [
    "\n",
    "typeA = (df[\"Last\"]>=\"A\") & (df[\"Last\"]<\"B\")\n",
    "typeB = (df[\"Last\"]>=\"B\") & (df[\"Last\"]<\"C\")\n",
    "typeC = (df[\"Last\"]>=\"C\") & (df[\"Last\"]<\"D\")\n",
    "typeD = (df[\"Last\"]>=\"D\") & (df[\"Last\"]<\"E\")\n",
    "typeE = (df[\"Last\"]>=\"E\") & (df[\"Last\"]<\"F\")\n",
    "typeF = (df[\"Last\"]>=\"F\") & (df[\"Last\"]<\"G\")\n",
    "\n",
    "barwidth=.2\n",
    "plt.axis([-1, 6, 0, 12])\n",
    "plt.ylabel('number')\n",
    "plt.xlabel('last name start with')\n",
    "plt.title('number of people whose last names start with A-F') \n",
    "plt.xticks(np.arange(6), ['A','B','C','D','E','F']) \n",
    "\n",
    "plt.bar(np.arange(6),[len(df[typeA]), len(df[typeB]), len(df[typeC]), \n",
    "                      len(df[typeD]), len(df[typeE]), len(df[typeF])], barwidth, color='b')\n",
    "plt.show()"
   ]
  },
  {
   "cell_type": "code",
   "execution_count": null,
   "metadata": {},
   "outputs": [],
   "source": []
  }
 ],
 "metadata": {
  "kernelspec": {
   "display_name": "16A",
   "language": "python",
   "name": "python3"
  },
  "language_info": {
   "codemirror_mode": {
    "name": "ipython",
    "version": 3
   },
   "file_extension": ".py",
   "mimetype": "text/x-python",
   "name": "python",
   "nbconvert_exporter": "python",
   "pygments_lexer": "ipython3",
   "version": "3.9.15"
  },
  "vscode": {
   "interpreter": {
    "hash": "0c0d8dca71b13c40c47cf9cb7b0baa20bcd6096ea425595ee012c401220dc277"
   }
  }
 },
 "nbformat": 4,
 "nbformat_minor": 2
}
