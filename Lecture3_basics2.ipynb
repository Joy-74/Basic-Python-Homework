{
 "cells": [
  {
   "attachments": {},
   "cell_type": "markdown",
   "metadata": {},
   "source": [
    "# Lecture 3\n",
    "\n",
    "- Identity and equality comparisons\n",
    "- How to variables work in Python\n",
    "- Mutable and immutable\n",
    "- Control flow\n",
    "- List Comprehensions\n",
    "\n",
    "Reading material: [Python tutorial](https://docs.python.org/3.9/tutorial/) 4.1 - 4.5"
   ]
  },
  {
   "attachments": {},
   "cell_type": "markdown",
   "metadata": {},
   "source": [
    "We didn't cover number operations in the last lecture. They are covered in [Python tutorial](https://docs.python.org/3.9/tutorial/) 3.1.1\n",
    "\n",
    "Division (/) always returns a float. To do floor division and get an integer result (discarding any fractional result) you can use the // operator; to calculate the remainder you can use %"
   ]
  },
  {
   "cell_type": "code",
   "execution_count": 1,
   "metadata": {},
   "outputs": [
    {
     "name": "stdout",
     "output_type": "stream",
     "text": [
      "3\n",
      "2\n",
      "0.5\n",
      "0\n",
      "1\n",
      "9\n"
     ]
    }
   ],
   "source": [
    "print(1+2)\n",
    "print(1*2)\n",
    "print(1/2)\n",
    "print(1//2)\n",
    "print(1%2)\n",
    "print(3**2)"
   ]
  },
  {
   "cell_type": "code",
   "execution_count": 1,
   "metadata": {},
   "outputs": [
    {
     "name": "stdout",
     "output_type": "stream",
     "text": [
      "2\n"
     ]
    }
   ],
   "source": [
    "x = 1\n",
    "x+=1\n",
    "print(x)\n",
    "# x++ # error"
   ]
  },
  {
   "attachments": {},
   "cell_type": "markdown",
   "metadata": {},
   "source": [
    "## How do variables work in Python: \n",
    "\n",
    "A Python variable labels a box. Inside such a box is\n",
    "\n",
    "- a valid Python type;\n",
    "- a reference (drawn using an arrow) to a valid Python object.\n",
    "\n",
    "Two examples should clarify:\n",
    "\n",
    "The assignments ``i = 1`` and ``L = [8,18,88]`` have the following pictures associated with them.\n",
    "<img src=\"python_variables_1.png\" alt=\"variables\" width=\"600\"/>\n",
    "\n",
    "The assignments ``L1 = [0]`` and ``L2 = L1`` have the following pictures associated with them.\n",
    "<img src=\"python_variables_2.png\" alt=\"variables\" width=\"600\"/>\n",
    "\n",
    "That’s because (just like in C++), the assignment L2 = L1 copies all the contents of the box labelled\n",
    "by L1 to the box labelled by L2, so it copies the reference to the already existing Python object [0]."
   ]
  },
  {
   "attachments": {},
   "cell_type": "markdown",
   "metadata": {},
   "source": [
    "## Identity and equality comparisons"
   ]
  },
  {
   "attachments": {},
   "cell_type": "markdown",
   "metadata": {},
   "source": [
    "- ``==`` is for value equality. It's used to know if two objects have the same value.\n",
    "\n",
    "- == 是为了价值平等。 它用于了解两个对象是否具有相同的值。\n",
    "\n",
    "- ``is`` is for reference equality. It's used to know if two references refer (or point) to the same object, i.e if they're identical. Two objects are identical if they have the same memory address.\n",
    "\n",
    "- is 供参考相等。 它用于了解两个引用是否引用（或指向）同一个对象，即它们是否相同。 如果两个对象具有相同的内存地址，则它们是相同的。"
   ]
  },
  {
   "cell_type": "code",
   "execution_count": 5,
   "metadata": {},
   "outputs": [
    {
     "name": "stdout",
     "output_type": "stream",
     "text": [
      "4397145408\n",
      "4397346624\n"
     ]
    }
   ],
   "source": [
    "x = [1,2,3]\n",
    "y = [1,2,3]\n",
    "z = x\n",
    "print(id(x))\n",
    "print(id(y))"
   ]
  },
  {
   "cell_type": "code",
   "execution_count": 4,
   "metadata": {},
   "outputs": [
    {
     "name": "stdout",
     "output_type": "stream",
     "text": [
      "False\n",
      "True\n"
     ]
    }
   ],
   "source": [
    "print(x is y)\n",
    "print(x == y)"
   ]
  },
  {
   "cell_type": "code",
   "execution_count": 5,
   "metadata": {},
   "outputs": [
    {
     "name": "stdout",
     "output_type": "stream",
     "text": [
      "True\n",
      "True\n"
     ]
    }
   ],
   "source": [
    "print(x is z)\n",
    "print(x == z)"
   ]
  },
  {
   "cell_type": "code",
   "execution_count": 6,
   "metadata": {},
   "outputs": [
    {
     "name": "stdout",
     "output_type": "stream",
     "text": [
      "False\n",
      "True\n"
     ]
    }
   ],
   "source": [
    "print(y is z)\n",
    "print(y == z)"
   ]
  },
  {
   "cell_type": "code",
   "execution_count": 7,
   "metadata": {},
   "outputs": [
    {
     "name": "stdout",
     "output_type": "stream",
     "text": [
      "[1, 2, 3, 4]\n",
      "[1, 2, 3]\n",
      "[1, 2, 3, 4]\n"
     ]
    }
   ],
   "source": [
    "x.append(4)\n",
    "print(x)\n",
    "print(y)\n",
    "print(z)"
   ]
  },
  {
   "cell_type": "code",
   "execution_count": 8,
   "metadata": {},
   "outputs": [
    {
     "name": "stdout",
     "output_type": "stream",
     "text": [
      "4396501248\n",
      "4396497728\n",
      "4396501248\n"
     ]
    }
   ],
   "source": [
    "print(id(x))\n",
    "print(id(y))\n",
    "print(id(z))"
   ]
  },
  {
   "cell_type": "code",
   "execution_count": 1,
   "metadata": {},
   "outputs": [
    {
     "name": "stdout",
     "output_type": "stream",
     "text": [
      "1 1 1\n",
      "4345456944\n",
      "4345456944\n",
      "4345456944\n",
      "2 1 1\n",
      "4345456976\n",
      "4345456944\n",
      "4345456944\n"
     ]
    }
   ],
   "source": [
    "x = 1\n",
    "y = 1\n",
    "z = x\n",
    "print(x,y,z)\n",
    "print(id(x))\n",
    "print(id(y))\n",
    "print(id(z))\n",
    "\n",
    "x += 1\n",
    "# z = x\n",
    "print(x,y,z)\n",
    "print(id(x))\n",
    "print(id(y))\n",
    "print(id(z))"
   ]
  },
  {
   "attachments": {},
   "cell_type": "markdown",
   "metadata": {},
   "source": [
    "## Mutable and immutable"
   ]
  },
  {
   "attachments": {},
   "cell_type": "markdown",
   "metadata": {},
   "source": [
    "Most python objects (booleans, integers, floats, strings, and tuples) are immutable. This means that after you create the object, you can’t modify its value.\n",
    "\n",
    "lists and dictionaries in Python are mutable. Mutable objects are objects whose value can change."
   ]
  },
  {
   "cell_type": "code",
   "execution_count": 9,
   "metadata": {},
   "outputs": [
    {
     "name": "stdout",
     "output_type": "stream",
     "text": [
      "4338641200\n",
      "4338641232\n"
     ]
    }
   ],
   "source": [
    "x = 1\n",
    "print(id(x))\n",
    "x = 2\n",
    "print(id(x))"
   ]
  },
  {
   "cell_type": "code",
   "execution_count": 5,
   "metadata": {},
   "outputs": [
    {
     "name": "stdout",
     "output_type": "stream",
     "text": [
      "4439549248\n",
      "[1, 1]\n",
      "4439549248\n"
     ]
    }
   ],
   "source": [
    "x = [1]\n",
    "print(id(x))\n",
    "x.append(1)\n",
    "print(x)\n",
    "print(id(x))"
   ]
  },
  {
   "cell_type": "code",
   "execution_count": 11,
   "metadata": {},
   "outputs": [
    {
     "name": "stdout",
     "output_type": "stream",
     "text": [
      "4397217472\n",
      "4391302144\n"
     ]
    }
   ],
   "source": [
    "x = [1]\n",
    "print(id(x))\n",
    "x = [2] \n",
    "print(id(x))"
   ]
  },
  {
   "attachments": {},
   "cell_type": "markdown",
   "metadata": {},
   "source": [
    "## Control flow"
   ]
  },
  {
   "cell_type": "code",
   "execution_count": 13,
   "metadata": {},
   "outputs": [
    {
     "name": "stdout",
     "output_type": "stream",
     "text": [
      "1<x<=2\n"
     ]
    }
   ],
   "source": [
    "x = 2\n",
    "if x < 0:\n",
    "  print(\"x < 0\")\n",
    "elif x == 0:\n",
    "  print(\"x = 0\")\n",
    "elif 0<x<=1: #OK in python\n",
    "  print(\"0<x<=1\")\n",
    "elif 1<x and x<=2:\n",
    "# elif 1<x or x<=2:\n",
    "  print(\"1<x<=2\")\n",
    "else:\n",
    "  print(\"2<x\")"
   ]
  },
  {
   "attachments": {},
   "cell_type": "markdown",
   "metadata": {},
   "source": [
    "The for statement in Python differs a bit from what you may be used to in C++. Python’s for statement iterates over the items of any sequence (a list or a string), in the order that they appear in the sequence."
   ]
  },
  {
   "cell_type": "code",
   "execution_count": 14,
   "metadata": {},
   "outputs": [
    {
     "name": "stdout",
     "output_type": "stream",
     "text": [
      "cat\n",
      "[1, 'dog']\n",
      "1\n"
     ]
    }
   ],
   "source": [
    "words = [\"cat\", [1,\"dog\"], 1]\n",
    "for i in words:\n",
    "  print(i)"
   ]
  },
  {
   "attachments": {},
   "cell_type": "markdown",
   "metadata": {},
   "source": [
    "The __range__ function generates a sequence of numbers and is commonly used for looping. This function returns a __range__ type object which represents an immutable sequence of numbers. \n",
    "\n",
    "Similar to a Python __list__, the __range__ object is iterable, but it does not really make the list, thus saving space.\n",
    "\n",
    "The given end point is never part of the generated sequence.\n",
    "\n",
    "__range__ 函数生成一个数字序列，通常用于循环。 这个函数返回一个 __range__ 类型的对象，它代表一个不可变的数字序列。\n",
    "\n",
    "与 Python 的 __list__ 类似，__range__ 对象是可迭代的，但它并不真正构成列表，从而节省了空间。\n",
    "\n",
    "给定的终点永远不是生成序列的一部分。"
   ]
  },
  {
   "cell_type": "code",
   "execution_count": 6,
   "metadata": {},
   "outputs": [
    {
     "data": {
      "text/plain": [
       "range(0, 10)"
      ]
     },
     "execution_count": 6,
     "metadata": {},
     "output_type": "execute_result"
    }
   ],
   "source": [
    "range(10)"
   ]
  },
  {
   "cell_type": "code",
   "execution_count": 16,
   "metadata": {},
   "outputs": [
    {
     "name": "stdout",
     "output_type": "stream",
     "text": [
      "0 1 2 3 4 5 6 7 8 9 "
     ]
    }
   ],
   "source": [
    "for i in range(10):\n",
    "    print(i, end=\" \")"
   ]
  },
  {
   "cell_type": "code",
   "execution_count": 17,
   "metadata": {},
   "outputs": [
    {
     "data": {
      "text/plain": [
       "[0, 1, 2, 3, 4, 5, 6, 7, 8, 9]"
      ]
     },
     "execution_count": 17,
     "metadata": {},
     "output_type": "execute_result"
    }
   ],
   "source": [
    "list(range(10))"
   ]
  },
  {
   "cell_type": "code",
   "execution_count": 18,
   "metadata": {},
   "outputs": [
    {
     "name": "stdout",
     "output_type": "stream",
     "text": [
      "1 2 3 4 5 6 7 8 9 "
     ]
    }
   ],
   "source": [
    "for i in range(1,10):\n",
    "    print(i, end=\" \")"
   ]
  },
  {
   "cell_type": "code",
   "execution_count": 19,
   "metadata": {},
   "outputs": [
    {
     "name": "stdout",
     "output_type": "stream",
     "text": [
      "1 3 5 7 9 "
     ]
    }
   ],
   "source": [
    "for i in range(1,10,2):\n",
    "    print(i, end=\" \")"
   ]
  },
  {
   "cell_type": "code",
   "execution_count": 20,
   "metadata": {},
   "outputs": [
    {
     "name": "stdout",
     "output_type": "stream",
     "text": [
      "21 19 17 15 13 11 9 7 5 3 1 "
     ]
    }
   ],
   "source": [
    "for i in range(21,-1,-2):\n",
    "    print(i, end=\" \")"
   ]
  },
  {
   "cell_type": "code",
   "execution_count": 18,
   "metadata": {},
   "outputs": [
    {
     "name": "stdout",
     "output_type": "stream",
     "text": [
      "0\n",
      "inner\n",
      "inner\n",
      "1\n",
      "inner\n",
      "inner\n",
      "2\n",
      "inner\n",
      "inner\n",
      "[0, 0, 1, 2, 2, 4]\n"
     ]
    }
   ],
   "source": [
    "# nested for loops\n",
    "L = []\n",
    "for i in range(3):\n",
    "    L.append(i)\n",
    "    print(i)\n",
    "    L.append(i*2)\n",
    "    for j in range(2):\n",
    "        print(\"inner\")\n",
    "print(L)"
   ]
  },
  {
   "cell_type": "code",
   "execution_count": 22,
   "metadata": {},
   "outputs": [
    {
     "name": "stdout",
     "output_type": "stream",
     "text": [
      "1\n",
      "2\n",
      "3\n",
      "4\n",
      "5\n"
     ]
    }
   ],
   "source": [
    "i = 1\n",
    "while i < 6:\n",
    "  print(i)\n",
    "  i += 1"
   ]
  },
  {
   "attachments": {},
   "cell_type": "markdown",
   "metadata": {},
   "source": [
    "The break statement, like in C++, breaks out of the innermost enclosing for or while loop.\n",
    "\n",
    "The continue statement, also borrowed from C++, continues with the next iteration of the loop."
   ]
  },
  {
   "cell_type": "code",
   "execution_count": 11,
   "metadata": {},
   "outputs": [
    {
     "name": "stdout",
     "output_type": "stream",
     "text": [
      "Found an odd number 1\n",
      "Found an even number 2\n"
     ]
    }
   ],
   "source": [
    "for num in range(1, 10):\n",
    "  if num % 2 == 0:\n",
    "    print(\"Found an even number\", num)\n",
    "    break\n",
    "  print(\"Found an odd number\", num)"
   ]
  },
  {
   "cell_type": "code",
   "execution_count": 12,
   "metadata": {},
   "outputs": [
    {
     "name": "stdout",
     "output_type": "stream",
     "text": [
      "Found an even number 2\n",
      "Found an odd number 3\n",
      "Found an even number 4\n",
      "Found an odd number 5\n",
      "Found an even number 6\n",
      "Found an odd number 7\n",
      "Found an even number 8\n",
      "Found an odd number 9\n"
     ]
    }
   ],
   "source": [
    "for num in range(2, 10):\n",
    "  if num % 2 == 0:\n",
    "    print(\"Found an even number\", num)\n",
    "    continue\n",
    "  print(\"Found an odd number\", num)"
   ]
  },
  {
   "attachments": {},
   "cell_type": "markdown",
   "metadata": {},
   "source": [
    "The pass statement does nothing. It can be used when a statement is required syntactically but the program requires no action. \n",
    "\n",
    "pass 语句什么都不做。 当语法上需要语句但程序不需要任何操作时，可以使用它。"
   ]
  },
  {
   "cell_type": "code",
   "execution_count": 25,
   "metadata": {},
   "outputs": [
    {
     "name": "stdout",
     "output_type": "stream",
     "text": [
      "1\n"
     ]
    }
   ],
   "source": [
    "if 2>1:\n",
    "  pass\n",
    "print(1)"
   ]
  },
  {
   "attachments": {},
   "cell_type": "markdown",
   "metadata": {},
   "source": [
    "## List Comprehensions"
   ]
  },
  {
   "attachments": {},
   "cell_type": "markdown",
   "metadata": {},
   "source": [
    "__List comprehension__ is an extremely intuitive and efficient way to create lists in python."
   ]
  },
  {
   "cell_type": "code",
   "execution_count": 13,
   "metadata": {},
   "outputs": [
    {
     "name": "stdout",
     "output_type": "stream",
     "text": [
      "[0, 1, 4, 9, 16, 25]\n"
     ]
    }
   ],
   "source": [
    "# explicit for-loop \n",
    "L = [] # empty list\n",
    "for i in range(6):\n",
    "    L.append(i**2)\n",
    "print(L)"
   ]
  },
  {
   "cell_type": "code",
   "execution_count": 27,
   "metadata": {},
   "outputs": [
    {
     "name": "stdout",
     "output_type": "stream",
     "text": [
      "[0, 1, 4, 9, 16, 25]\n"
     ]
    }
   ],
   "source": [
    "print([i**2 for i in range(6)])"
   ]
  },
  {
   "cell_type": "code",
   "execution_count": 1,
   "metadata": {},
   "outputs": [
    {
     "name": "stdout",
     "output_type": "stream",
     "text": [
      "[0, 4, 16]\n"
     ]
    }
   ],
   "source": [
    "print([i**2 for i in range(6) if i%2==0])"
   ]
  },
  {
   "cell_type": "code",
   "execution_count": 29,
   "metadata": {},
   "outputs": [
    {
     "data": {
      "text/plain": [
       "[0, 0, 0, 0, 0, 0, 0, 0, 0, 0]"
      ]
     },
     "execution_count": 29,
     "metadata": {},
     "output_type": "execute_result"
    }
   ],
   "source": [
    "[0 for _ in range(10)] #we can use _ if we don't need a variable\n",
    "# equivalent to \n",
    "# [0 for i in range(10)]"
   ]
  },
  {
   "cell_type": "code",
   "execution_count": 30,
   "metadata": {},
   "outputs": [
    {
     "name": "stdout",
     "output_type": "stream",
     "text": [
      "[0, 1, 2, 3, 1, 2, 3, 4]\n"
     ]
    }
   ],
   "source": [
    "L = [i+j for i in range(2) for j in range(4)]\n",
    "print(L)"
   ]
  },
  {
   "cell_type": "code",
   "execution_count": 31,
   "metadata": {},
   "outputs": [
    {
     "name": "stdout",
     "output_type": "stream",
     "text": [
      "[0, 1, 2, 3, 1, 2, 3, 4]\n"
     ]
    }
   ],
   "source": [
    "# explicit for-loop \n",
    "L = [] # empty list\n",
    "for i in range(2):\n",
    "    for j in range(4):\n",
    "        L.append(i+j)\n",
    "print(L)"
   ]
  },
  {
   "cell_type": "code",
   "execution_count": 32,
   "metadata": {},
   "outputs": [
    {
     "data": {
      "text/plain": [
       "[1, 2]"
      ]
     },
     "execution_count": 32,
     "metadata": {},
     "output_type": "execute_result"
    }
   ],
   "source": [
    "[i+1 for i in range(2)]"
   ]
  },
  {
   "cell_type": "code",
   "execution_count": 33,
   "metadata": {},
   "outputs": [
    {
     "data": {
      "text/plain": [
       "[[0, 1], [1, 2], [2, 3], [3, 4]]"
      ]
     },
     "execution_count": 33,
     "metadata": {},
     "output_type": "execute_result"
    }
   ],
   "source": [
    "[[i+j for i in range(2)] for j in range(4)]"
   ]
  },
  {
   "cell_type": "code",
   "execution_count": 34,
   "metadata": {},
   "outputs": [
    {
     "name": "stdout",
     "output_type": "stream",
     "text": [
      "[[0, 1], [1, 2], [2, 3], [3, 4]]\n"
     ]
    }
   ],
   "source": [
    "L = []\n",
    "for j in range(4):\n",
    "    inner_list = []\n",
    "    for i in range(2):\n",
    "        inner_list.append(i+j)\n",
    "    L.append(inner_list)\n",
    "print(L)"
   ]
  },
  {
   "attachments": {},
   "cell_type": "markdown",
   "metadata": {},
   "source": [
    "## Exercises"
   ]
  },
  {
   "attachments": {},
   "cell_type": "markdown",
   "metadata": {},
   "source": [
    "- Use list comprehension to create the following object:  [[1,2,3],[2,4,6],[3,6,9],[4,8,12]] ."
   ]
  },
  {
   "cell_type": "code",
   "execution_count": 14,
   "metadata": {},
   "outputs": [
    {
     "name": "stdout",
     "output_type": "stream",
     "text": [
      "[[1, 2, 3], [2, 4, 6], [3, 6, 9], [4, 8, 12]]\n",
      "[[1, 2, 3], [2, 4, 6], [3, 6, 9], [4, 8, 12]]\n"
     ]
    }
   ],
   "source": [
    "L = [[i*j for i in range (1,4)] for j in range (1,5)]\n",
    "print(L)\n",
    "\n",
    "L = []\n",
    "for j in range(1,5):\n",
    "    inner_list = []\n",
    "    for i in range(1,4):\n",
    "        inner_list.append(i*j)\n",
    "    L.append(inner_list)\n",
    "print(L)\n"
   ]
  },
  {
   "attachments": {},
   "cell_type": "markdown",
   "metadata": {},
   "source": [
    "- Use list comprehension to create the following object:[0,0,0,0,1,2,0,2,4,0,3,6,0,4,8,0,5,10]."
   ]
  },
  {
   "cell_type": "code",
   "execution_count": 5,
   "metadata": {},
   "outputs": [
    {
     "name": "stdout",
     "output_type": "stream",
     "text": [
      "[0, 0, 0, 0, 1, 2, 0, 2, 4, 0, 3, 6, 0, 4, 8, 0, 5, 10]\n"
     ]
    }
   ],
   "source": [
    "L = [i*j for j in range(6) for i in range(3)]\n",
    "print(L)"
   ]
  }
 ],
 "metadata": {
  "kernelspec": {
   "display_name": "16A",
   "language": "python",
   "name": "python3"
  },
  "language_info": {
   "codemirror_mode": {
    "name": "ipython",
    "version": 3
   },
   "file_extension": ".py",
   "mimetype": "text/x-python",
   "name": "python",
   "nbconvert_exporter": "python",
   "pygments_lexer": "ipython3",
   "version": "3.9.15"
  },
  "vscode": {
   "interpreter": {
    "hash": "bb173175969092e51690acb81bac0b96cd35590774203fe88d94a5a082f2cb75"
   }
  }
 },
 "nbformat": 4,
 "nbformat_minor": 2
}
