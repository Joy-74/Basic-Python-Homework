{
 "cells": [
  {
   "attachments": {},
   "cell_type": "markdown",
   "metadata": {},
   "source": [
    "# Lecture 5\n",
    "\n",
    "More about functions\n",
    "- Function objects\n",
    "- Function scope\n",
    "\n",
    "Standard data structures\n",
    "- Removing elements from a list using del\n",
    "- Dictionaries\n",
    "- Tuples\n",
    "- Sets\n",
    "\n"
   ]
  },
  {
   "attachments": {},
   "cell_type": "markdown",
   "metadata": {},
   "source": [
    "Remark: \n",
    "\n",
    "Python tutorial says about function calls: “arguments are passed using call by value(where the valueis always an object reference, not the value of the object).”"
   ]
  },
  {
   "attachments": {},
   "cell_type": "markdown",
   "metadata": {},
   "source": [
    "## Function objects\n",
    "\n",
    "Something particularly awesome in Python...\n",
    "\n",
    "Defining a function creates a function object.\n",
    "\n",
    "After running..."
   ]
  },
  {
   "cell_type": "code",
   "execution_count": 2,
   "metadata": {},
   "outputs": [],
   "source": [
    "def f(a, b):\n",
    "    return a + b"
   ]
  },
  {
   "attachments": {},
   "cell_type": "markdown",
   "metadata": {},
   "source": [
    "`f` behaves like a variable.\n",
    "\n",
    "In particular, `f` labels a box containing a type and an object reference.\n",
    "\n",
    "The type is `function`.\n",
    "\n",
    "It references a function object.\n",
    "\n",
    "You should think of a function object as \n",
    "the Python thingy which stores a function definition appropriately.\n",
    "\n",
    "`f` 的行为就像一个变量。\n",
    "\n",
    "特别是，“f”标记了一个包含类型和对象引用的框。\n",
    "\n",
    "类型是“函数”。\n",
    "\n",
    "它引用一个函数对象。\n",
    "\n",
    "您应该将函数对象视为\n",
    "适当存储函数定义的 Python 东西。"
   ]
  },
  {
   "cell_type": "code",
   "execution_count": 4,
   "metadata": {},
   "outputs": [
    {
     "name": "stdout",
     "output_type": "stream",
     "text": [
      "<class 'function'>\n",
      "4418238928\n"
     ]
    }
   ],
   "source": [
    "print(type(f))\n",
    "print(id(f))"
   ]
  },
  {
   "cell_type": "markdown",
   "metadata": {},
   "source": [
    "This means we can assign a function to a variable."
   ]
  },
  {
   "cell_type": "code",
   "execution_count": 5,
   "metadata": {},
   "outputs": [
    {
     "name": "stdout",
     "output_type": "stream",
     "text": [
      "<class 'function'>\n",
      "4418238928\n"
     ]
    }
   ],
   "source": [
    "g = f\n",
    "print(type(g))\n",
    "print(id(g))"
   ]
  },
  {
   "cell_type": "code",
   "execution_count": 6,
   "metadata": {},
   "outputs": [
    {
     "name": "stdout",
     "output_type": "stream",
     "text": [
      "3\n",
      "6\n"
     ]
    }
   ],
   "source": [
    "print(g(1,2))\n",
    "print(g(4,2))"
   ]
  },
  {
   "attachments": {},
   "cell_type": "markdown",
   "metadata": {},
   "source": [
    "This means in Python it is ridiculously easy (when one compares with C++)\n",
    "to pass a function to a function, or return a function.\n",
    "\n",
    "这意味着在 Python 中将一个函数传递给另一个函数或返回一个函数是非常容易的（与 C++ 相比）。"
   ]
  },
  {
   "cell_type": "code",
   "execution_count": 1,
   "metadata": {},
   "outputs": [],
   "source": [
    "def func_to_func(in_func):\n",
    "  '''func_to_func is a function that takes a function (func) as input,\n",
    "   and return another function (out_func)'''\n",
    "  out_func = lambda a,b: in_func(a,b)*2\n",
    "  return out_func"
   ]
  },
  {
   "cell_type": "code",
   "execution_count": 3,
   "metadata": {},
   "outputs": [
    {
     "ename": "NameError",
     "evalue": "name 'in_func' is not defined",
     "output_type": "error",
     "traceback": [
      "\u001b[0;31m---------------------------------------------------------------------------\u001b[0m",
      "\u001b[0;31mNameError\u001b[0m                                 Traceback (most recent call last)",
      "Cell \u001b[0;32mIn[3], line 1\u001b[0m\n\u001b[0;32m----> 1\u001b[0m h \u001b[39m=\u001b[39m func_to_func(in_func)\n\u001b[1;32m      2\u001b[0m \u001b[39mprint\u001b[39m(h(\u001b[39m1\u001b[39m,\u001b[39m2\u001b[39m))\n\u001b[1;32m      3\u001b[0m \u001b[39mprint\u001b[39m(h(\u001b[39m4\u001b[39m,\u001b[39m2\u001b[39m))\n",
      "\u001b[0;31mNameError\u001b[0m: name 'in_func' is not defined"
     ]
    }
   ],
   "source": [
    "h = func_to_func(f)\n",
    "print(h(1,2))\n",
    "print(h(4,2))"
   ]
  },
  {
   "attachments": {},
   "cell_type": "markdown",
   "metadata": {},
   "source": [
    "The fact that defining a function creates a function object can also explain why we should not use mutable default arguments: the default arguments are stored by the function object at the time the function is defined.\n",
    "\n",
    "定义一个函数会创建一个函数对象这一事实也可以解释为什么我们不应该使用可变的默认参数：默认参数在定义函数时由函数对象存储。"
   ]
  },
  {
   "cell_type": "code",
   "execution_count": 4,
   "metadata": {},
   "outputs": [],
   "source": [
    "def foo(bar=[]):\n",
    "  print(\"id of bar\", id(bar))    \n",
    "  bar.append(\"PIC16\")\n",
    "  return bar"
   ]
  },
  {
   "cell_type": "code",
   "execution_count": 5,
   "metadata": {},
   "outputs": [
    {
     "name": "stdout",
     "output_type": "stream",
     "text": [
      "id of foo 4420160960\n",
      "id of bar 4420171648\n"
     ]
    },
    {
     "data": {
      "text/plain": [
       "['PIC16']"
      ]
     },
     "execution_count": 5,
     "metadata": {},
     "output_type": "execute_result"
    }
   ],
   "source": [
    "print(\"id of foo\", id(foo))\n",
    "foo()"
   ]
  },
  {
   "cell_type": "code",
   "execution_count": 3,
   "metadata": {},
   "outputs": [
    {
     "name": "stdout",
     "output_type": "stream",
     "text": [
      "id of foo 4711218912\n",
      "id of bar 4712320832\n"
     ]
    },
    {
     "data": {
      "text/plain": [
       "['PIC16', 'PIC16']"
      ]
     },
     "execution_count": 3,
     "metadata": {},
     "output_type": "execute_result"
    }
   ],
   "source": [
    "print(\"id of foo\", id(foo))\n",
    "foo()"
   ]
  },
  {
   "cell_type": "code",
   "execution_count": 16,
   "metadata": {},
   "outputs": [
    {
     "name": "stdout",
     "output_type": "stream",
     "text": [
      "id of foo 4418304176\n",
      "id of bar 4418217280\n"
     ]
    },
    {
     "data": {
      "text/plain": [
       "['PIC16', 'PIC16', 'PIC16']"
      ]
     },
     "execution_count": 16,
     "metadata": {},
     "output_type": "execute_result"
    }
   ],
   "source": [
    "print(\"id of foo\", id(foo))\n",
    "foo()"
   ]
  },
  {
   "attachments": {},
   "cell_type": "markdown",
   "metadata": {},
   "source": [
    "## Function scope 功能范围"
   ]
  },
  {
   "attachments": {},
   "cell_type": "markdown",
   "metadata": {},
   "source": [
    "### Restart your notebook kernel here"
   ]
  },
  {
   "cell_type": "code",
   "execution_count": 17,
   "metadata": {},
   "outputs": [],
   "source": [
    "def f():\n",
    "    print(i)"
   ]
  },
  {
   "attachments": {},
   "cell_type": "markdown",
   "metadata": {},
   "source": [
    "But running the next cell will give an error"
   ]
  },
  {
   "cell_type": "code",
   "execution_count": 18,
   "metadata": {},
   "outputs": [
    {
     "ename": "NameError",
     "evalue": "name 'i' is not defined",
     "output_type": "error",
     "traceback": [
      "\u001b[0;31m---------------------------------------------------------------------------\u001b[0m",
      "\u001b[0;31mNameError\u001b[0m                                 Traceback (most recent call last)",
      "Cell \u001b[0;32mIn[18], line 1\u001b[0m\n\u001b[0;32m----> 1\u001b[0m f()\n",
      "Cell \u001b[0;32mIn[17], line 2\u001b[0m, in \u001b[0;36mf\u001b[0;34m()\u001b[0m\n\u001b[1;32m      1\u001b[0m \u001b[39mdef\u001b[39;00m \u001b[39mf\u001b[39m():\n\u001b[0;32m----> 2\u001b[0m     \u001b[39mprint\u001b[39m(i)\n",
      "\u001b[0;31mNameError\u001b[0m: name 'i' is not defined"
     ]
    }
   ],
   "source": [
    "f()"
   ]
  },
  {
   "cell_type": "code",
   "execution_count": 19,
   "metadata": {},
   "outputs": [
    {
     "name": "stdout",
     "output_type": "stream",
     "text": [
      "8\n"
     ]
    }
   ],
   "source": [
    "i = 8\n",
    "f()"
   ]
  },
  {
   "attachments": {},
   "cell_type": "markdown",
   "metadata": {},
   "source": [
    "Python resolves variable names using the so-called LEGB rule. The letters in LEGB stand for Local, Enclosing, Global, and Built-in. \n",
    "\n",
    "When you use nested functions, names are resolved by first checking the innermost function’s local scope. Then, Python looks at all enclosing scopes of outer functions from the innermost scope to the outermost scope. If no match is found, then Python looks at the global scope. And in the end the built-in scopes. If it can’t find the name, then you’ll get an error.\n",
    "\n",
    "Python 使用所谓的 LEGB 规则解析变量名。 LEGB 中的字母代表 Local、Enclosing、Global 和 Built-in。\n",
    "\n",
    "\n",
    "当您使用嵌套函数时，首先通过检查最内层函数的局部作用域来解析名称。 然后，Python 从最内层作用域到最外层作用域查看外部函数的所有封闭作用域。 如果未找到匹配项，则 Python 会查看全局范围。 最后是内置范围。 如果找不到名称，则会出现错误。"
   ]
  },
  {
   "attachments": {},
   "cell_type": "markdown",
   "metadata": {},
   "source": [
    "What's going on here is that Python first checks for local variables `i`;\n",
    "\n",
    "when it doesn't find any, it looks for outer functions. But there is no outer functions.\n",
    "\n",
    "Then it looks for global variables called `i`.\n",
    "\n",
    "Similarly, ..."
   ]
  },
  {
   "cell_type": "code",
   "execution_count": 20,
   "metadata": {},
   "outputs": [],
   "source": [
    "def f():\n",
    "    L.append(0)"
   ]
  },
  {
   "cell_type": "code",
   "execution_count": 5,
   "metadata": {},
   "outputs": [
    {
     "ename": "NameError",
     "evalue": "name 'L' is not defined",
     "output_type": "error",
     "traceback": [
      "\u001b[1;31m---------------------------------------------------------------------------\u001b[0m",
      "\u001b[1;31mNameError\u001b[0m                                 Traceback (most recent call last)",
      "\u001b[1;32m~\\AppData\\Local\\Temp/ipykernel_19800/3782956317.py\u001b[0m in \u001b[0;36m<module>\u001b[1;34m\u001b[0m\n\u001b[1;32m----> 1\u001b[1;33m \u001b[0mf\u001b[0m\u001b[1;33m(\u001b[0m\u001b[1;33m)\u001b[0m\u001b[1;33m\u001b[0m\u001b[1;33m\u001b[0m\u001b[0m\n\u001b[0m",
      "\u001b[1;32m~\\AppData\\Local\\Temp/ipykernel_19800/3696794638.py\u001b[0m in \u001b[0;36mf\u001b[1;34m()\u001b[0m\n\u001b[0;32m      1\u001b[0m \u001b[1;32mdef\u001b[0m \u001b[0mf\u001b[0m\u001b[1;33m(\u001b[0m\u001b[1;33m)\u001b[0m\u001b[1;33m:\u001b[0m\u001b[1;33m\u001b[0m\u001b[1;33m\u001b[0m\u001b[0m\n\u001b[1;32m----> 2\u001b[1;33m     \u001b[0mL\u001b[0m\u001b[1;33m.\u001b[0m\u001b[0mappend\u001b[0m\u001b[1;33m(\u001b[0m\u001b[1;36m0\u001b[0m\u001b[1;33m)\u001b[0m\u001b[1;33m\u001b[0m\u001b[1;33m\u001b[0m\u001b[0m\n\u001b[0m",
      "\u001b[1;31mNameError\u001b[0m: name 'L' is not defined"
     ]
    }
   ],
   "source": [
    "f()"
   ]
  },
  {
   "cell_type": "code",
   "execution_count": 21,
   "metadata": {},
   "outputs": [
    {
     "name": "stdout",
     "output_type": "stream",
     "text": [
      "[0]\n"
     ]
    }
   ],
   "source": [
    "L = []\n",
    "f()\n",
    "print(L)"
   ]
  },
  {
   "attachments": {},
   "cell_type": "markdown",
   "metadata": {},
   "source": [
    "There is one rule concerning scope:\n",
    "**if a variable is assigned to during a function call,\n",
    "then it is local to that function call.**\n",
    "\n",
    "关于范围有一条规则：\n",
    "如果在函数调用期间分配给变量，则它是该函数调用的本地变量。\n",
    "\n",
    "In particular, we implicitly create and assign the parameters, \n",
    "so they are local to the function call.\n",
    "\n",
    "特别是，我们隐式创建和分配参数，因此它们对于函数调用是局部的。"
   ]
  },
  {
   "cell_type": "code",
   "execution_count": 6,
   "metadata": {},
   "outputs": [
    {
     "name": "stdout",
     "output_type": "stream",
     "text": [
      "[]\n"
     ]
    }
   ],
   "source": [
    "def f():\n",
    "    L = []\n",
    "    L.append(0)\n",
    "\n",
    "L = []\n",
    "f()\n",
    "print(L)"
   ]
  },
  {
   "attachments": {},
   "cell_type": "markdown",
   "metadata": {},
   "source": [
    "In the example above, since `L` is assigned to in the function call, it is local to the function call.\n",
    "\n",
    "在上面的示例中，由于 `L` 在函数调用中被赋值，因此它在函数调用中是局部的。\n",
    "\n",
    "In addition, there's a global `L` that exists before the function call.\n",
    "\n",
    "此外，在函数调用之前存在一个全局的“L”\n",
    "\n",
    "The two `L`s have nothing to do with one another and the function uses the local `L`.\n",
    "\n",
    "这两个 `L` 彼此没有任何关系，函数使用本地 `L`。\n",
    "\n",
    "Thus, `0` is appended to a locally created object.\n",
    "\n",
    "因此，“0”被附加到本地创建的对象。\n",
    "\n",
    "Moreover, this object is destroyed after the function call because once the local `L` is destroyed, nothing references this object.\n",
    "\n",
    "此外，这个对象在函数调用后被销毁，因为一旦局部“L”被销毁，就没有任何东西引用这个对象。"
   ]
  },
  {
   "attachments": {},
   "cell_type": "markdown",
   "metadata": {},
   "source": [
    "-----------"
   ]
  },
  {
   "attachments": {},
   "cell_type": "markdown",
   "metadata": {},
   "source": [
    "In fact, the first thing that happens in a function call is that local variables are created.\n",
    "\n",
    "事实上，函数调用中发生的第一件事就是创建局部变量。\n",
    "\n",
    "They are created according to whether they are assigned to at some point in the function call.\n",
    "\n",
    "它们是根据它们是否在函数调用的某个时刻被分配来创建的。\n",
    "\n",
    "The fact that the **first** thing that happens in a function call is that local variables are created is important.\n",
    "\n",
    "在函数调用中发生的**第一**事情是创建局部变量这一事实很重要。\n",
    "\n",
    "Assignment doesn't introduce the local variable at *that* moment.\n",
    "It introduces it at the *beginning* of the function call.\n",
    "\n",
    "赋值不会在 *那个* 时刻引入局部变量。 它在函数调用的*开始*引入它。\n",
    "\n",
    "Thus, the following code gives an error...\n",
    "\n",
    "因此，下面的代码给出了一个错误..."
   ]
  },
  {
   "cell_type": "code",
   "execution_count": 8,
   "metadata": {},
   "outputs": [
    {
     "ename": "UnboundLocalError",
     "evalue": "local variable 'L' referenced before assignment",
     "output_type": "error",
     "traceback": [
      "\u001b[1;31m---------------------------------------------------------------------------\u001b[0m",
      "\u001b[1;31mUnboundLocalError\u001b[0m                         Traceback (most recent call last)",
      "\u001b[1;32m~\\AppData\\Local\\Temp/ipykernel_19800/2556538311.py\u001b[0m in \u001b[0;36m<module>\u001b[1;34m\u001b[0m\n\u001b[0;32m      4\u001b[0m \u001b[1;33m\u001b[0m\u001b[0m\n\u001b[0;32m      5\u001b[0m \u001b[0mL\u001b[0m \u001b[1;33m=\u001b[0m \u001b[1;33m[\u001b[0m\u001b[1;33m]\u001b[0m\u001b[1;33m\u001b[0m\u001b[1;33m\u001b[0m\u001b[0m\n\u001b[1;32m----> 6\u001b[1;33m \u001b[0mf\u001b[0m\u001b[1;33m(\u001b[0m\u001b[1;33m)\u001b[0m\u001b[1;33m\u001b[0m\u001b[1;33m\u001b[0m\u001b[0m\n\u001b[0m\u001b[0;32m      7\u001b[0m \u001b[0mprint\u001b[0m\u001b[1;33m(\u001b[0m\u001b[0mL\u001b[0m\u001b[1;33m)\u001b[0m\u001b[1;33m\u001b[0m\u001b[1;33m\u001b[0m\u001b[0m\n",
      "\u001b[1;32m~\\AppData\\Local\\Temp/ipykernel_19800/2556538311.py\u001b[0m in \u001b[0;36mf\u001b[1;34m()\u001b[0m\n\u001b[0;32m      1\u001b[0m \u001b[1;32mdef\u001b[0m \u001b[0mf\u001b[0m\u001b[1;33m(\u001b[0m\u001b[1;33m)\u001b[0m\u001b[1;33m:\u001b[0m\u001b[1;33m\u001b[0m\u001b[1;33m\u001b[0m\u001b[0m\n\u001b[1;32m----> 2\u001b[1;33m     \u001b[0mL\u001b[0m\u001b[1;33m.\u001b[0m\u001b[0mappend\u001b[0m\u001b[1;33m(\u001b[0m\u001b[1;36m0\u001b[0m\u001b[1;33m)\u001b[0m\u001b[1;33m\u001b[0m\u001b[1;33m\u001b[0m\u001b[0m\n\u001b[0m\u001b[0;32m      3\u001b[0m     \u001b[0mL\u001b[0m \u001b[1;33m=\u001b[0m \u001b[1;33m[\u001b[0m\u001b[1;33m]\u001b[0m\u001b[1;33m\u001b[0m\u001b[1;33m\u001b[0m\u001b[0m\n\u001b[0;32m      4\u001b[0m \u001b[1;33m\u001b[0m\u001b[0m\n\u001b[0;32m      5\u001b[0m \u001b[0mL\u001b[0m \u001b[1;33m=\u001b[0m \u001b[1;33m[\u001b[0m\u001b[1;33m]\u001b[0m\u001b[1;33m\u001b[0m\u001b[1;33m\u001b[0m\u001b[0m\n",
      "\u001b[1;31mUnboundLocalError\u001b[0m: local variable 'L' referenced before assignment"
     ]
    }
   ],
   "source": [
    "def f():\n",
    "    L.append(0)\n",
    "    L = []\n",
    "\n",
    "L = []\n",
    "f()\n",
    "print(L)"
   ]
  },
  {
   "attachments": {},
   "cell_type": "markdown",
   "metadata": {},
   "source": [
    "The local variable `L` is created at the start of the function call, but is not assigned to.\n",
    "\n",
    "局部变量“L”在函数调用开始时创建，但未分配给。\n",
    "\n",
    "So in `L.append(0)`, `L` refers to the local variable. But it's not assigned to a list yet, thus makes no sense.\n",
    "\n",
    "所以在 `L.append(0)` 中，`L` 指的是局部变量。 但它尚未分配给列表，因此没有意义。"
   ]
  },
  {
   "attachments": {},
   "cell_type": "markdown",
   "metadata": {},
   "source": [
    "----------\n",
    "\n",
    "Now let's look at the example introduced in the appending pdf."
   ]
  },
  {
   "attachments": {},
   "cell_type": "markdown",
   "metadata": {},
   "source": [
    "## Removing elements from a list using del"
   ]
  },
  {
   "attachments": {},
   "cell_type": "markdown",
   "metadata": {},
   "source": [
    "The __del__ method is used to remove an item, slices, or clear the entire list."
   ]
  },
  {
   "cell_type": "code",
   "execution_count": 23,
   "metadata": {},
   "outputs": [
    {
     "name": "stdout",
     "output_type": "stream",
     "text": [
      "[0, 1, 2, 3, 4]\n",
      "[0, 1, 3, 4]\n",
      "[0, 4]\n",
      "[]\n"
     ]
    },
    {
     "ename": "NameError",
     "evalue": "name 'a' is not defined",
     "output_type": "error",
     "traceback": [
      "\u001b[0;31m---------------------------------------------------------------------------\u001b[0m",
      "\u001b[0;31mNameError\u001b[0m                                 Traceback (most recent call last)",
      "Cell \u001b[0;32mIn[23], line 14\u001b[0m\n\u001b[1;32m     11\u001b[0m \u001b[39mprint\u001b[39m(a)\n\u001b[1;32m     13\u001b[0m \u001b[39mdel\u001b[39;00m a\n\u001b[0;32m---> 14\u001b[0m \u001b[39mprint\u001b[39m(a)\n",
      "\u001b[0;31mNameError\u001b[0m: name 'a' is not defined"
     ]
    }
   ],
   "source": [
    "a = list(range(5))\n",
    "print(a)\n",
    "\n",
    "del a[2]\n",
    "print(a)\n",
    "\n",
    "del a[1:3]\n",
    "print(a)\n",
    "\n",
    "del a[:]\n",
    "print(a)\n",
    "\n",
    "del a\n",
    "print(a)"
   ]
  },
  {
   "attachments": {},
   "cell_type": "markdown",
   "metadata": {},
   "source": [
    "## Dictionary"
   ]
  },
  {
   "attachments": {},
   "cell_type": "markdown",
   "metadata": {},
   "source": [
    "A dictionary is a set of __keys__ each pointing to a __value__. The list of keys is unique (keys may only point to one value), but values may be reused. For example, let the key 1 point to the value 2, and key 3 point to value 4."
   ]
  },
  {
   "cell_type": "code",
   "execution_count": 25,
   "metadata": {},
   "outputs": [
    {
     "name": "stdout",
     "output_type": "stream",
     "text": [
      "2\n",
      "Apple\n",
      "dict_keys(['A', 'B', 'C'])\n",
      "dict_values(['Apple', 'Banana', 'Apple'])\n"
     ]
    }
   ],
   "source": [
    "d = {1:2, 3:4}\n",
    "d2 = {'A':'Apple', 'B':'Banana', 'C': 'Apple'}\n",
    "print(d[1])\n",
    "print(d2['A'])\n",
    "print(d2.keys())\n",
    "print(d2.values())"
   ]
  },
  {
   "cell_type": "code",
   "execution_count": 28,
   "metadata": {},
   "outputs": [
    {
     "name": "stdout",
     "output_type": "stream",
     "text": [
      "<class 'dict'>\n",
      "2\n",
      "4\n"
     ]
    }
   ],
   "source": [
    "d = {1:2, 3:4}\n",
    "print(type(d))\n",
    "print(d[1])\n",
    "print(d[3])\n",
    "# print(d[0]) # error; 0 is not a key"
   ]
  },
  {
   "cell_type": "code",
   "execution_count": 12,
   "metadata": {},
   "outputs": [
    {
     "name": "stdout",
     "output_type": "stream",
     "text": [
      "Apple\n",
      "{'A': 'Apple', 'B': [1, 2, 3], 'C': 'Apple'}\n"
     ]
    }
   ],
   "source": [
    "d2 = {'A':'Apple', 'B':'Banana', 'C': 'Apple'}\n",
    "print(d2[\"A\"])\n",
    "d2[\"B\"] = [1,2,3]\n",
    "print(d2)\n"
   ]
  },
  {
   "cell_type": "code",
   "execution_count": 7,
   "metadata": {},
   "outputs": [
    {
     "ename": "TypeError",
     "evalue": "unhashable type: 'list'",
     "output_type": "error",
     "traceback": [
      "\u001b[0;31m---------------------------------------------------------------------------\u001b[0m",
      "\u001b[0;31mTypeError\u001b[0m                                 Traceback (most recent call last)",
      "Cell \u001b[0;32mIn[7], line 1\u001b[0m\n\u001b[0;32m----> 1\u001b[0m d3 \u001b[39m=\u001b[39m {[\u001b[39m1\u001b[39m,\u001b[39m2\u001b[39m,\u001b[39m3\u001b[39m]:\u001b[39m\"\u001b[39m\u001b[39mabc\u001b[39m\u001b[39m\"\u001b[39m}\n",
      "\u001b[0;31mTypeError\u001b[0m: unhashable type: 'list'"
     ]
    }
   ],
   "source": [
    "d3 = {[1,2,3]:\"abc\"} # error; dictionary keys need to be immutable"
   ]
  },
  {
   "cell_type": "code",
   "execution_count": 8,
   "metadata": {},
   "outputs": [
    {
     "ename": "TypeError",
     "evalue": "unhashable type: 'dict'",
     "output_type": "error",
     "traceback": [
      "\u001b[0;31m---------------------------------------------------------------------------\u001b[0m",
      "\u001b[0;31mTypeError\u001b[0m                                 Traceback (most recent call last)",
      "Cell \u001b[0;32mIn[8], line 1\u001b[0m\n\u001b[0;32m----> 1\u001b[0m d4 \u001b[39m=\u001b[39m {{\u001b[39m1\u001b[39m:\u001b[39m3\u001b[39m}:[\u001b[39m1\u001b[39m,\u001b[39m2\u001b[39m,\u001b[39m3\u001b[39m]}\n",
      "\u001b[0;31mTypeError\u001b[0m: unhashable type: 'dict'"
     ]
    }
   ],
   "source": [
    "d4 = {{1:3}:[1,2,3]} # error; dictionary keys need to be immutable"
   ]
  },
  {
   "attachments": {},
   "cell_type": "markdown",
   "metadata": {},
   "source": [
    "## Tuples"
   ]
  },
  {
   "attachments": {},
   "cell_type": "markdown",
   "metadata": {},
   "source": [
    "__Tuples__ are immutable. __Lists__ are mutable."
   ]
  },
  {
   "cell_type": "code",
   "execution_count": 29,
   "metadata": {},
   "outputs": [
    {
     "name": "stdout",
     "output_type": "stream",
     "text": [
      "a\n",
      "[1, 2, 3]\n"
     ]
    }
   ],
   "source": [
    "x = (3,'a',[1,2,3],{'A':1, 'B':2})\n",
    "a,b,c,d = x # tuple unpacking\n",
    "print(b)\n",
    "print(x[2])"
   ]
  },
  {
   "cell_type": "code",
   "execution_count": 30,
   "metadata": {},
   "outputs": [
    {
     "name": "stdout",
     "output_type": "stream",
     "text": [
      "3\n",
      "a\n",
      "[1, 2, 3]\n",
      "{'A': 1, 'B': 2}\n"
     ]
    }
   ],
   "source": [
    "a, b, _, d = x\n",
    "print(a)\n",
    "print(b)\n",
    "print(_)\n",
    "print(d)"
   ]
  },
  {
   "cell_type": "code",
   "execution_count": 17,
   "metadata": {},
   "outputs": [
    {
     "name": "stdout",
     "output_type": "stream",
     "text": [
      "a\n",
      "[1, 2, 3]\n"
     ]
    }
   ],
   "source": [
    "x = [3,'a',[1,2,3],{'A':1, 'B':2}]\n",
    "a,b,c,d = x # list unpacking\n",
    "print(b)\n",
    "print(x[2])"
   ]
  },
  {
   "cell_type": "code",
   "execution_count": 18,
   "metadata": {},
   "outputs": [
    {
     "name": "stdout",
     "output_type": "stream",
     "text": [
      "3\n",
      "-1\n"
     ]
    }
   ],
   "source": [
    "def myFun(x, y):\n",
    "    return x + y, x - y # implicit tuple packing\n",
    "\n",
    "o1, o2 = myFun(1,2) # tuple unpacking\n",
    "print(o1)\n",
    "print(o2)"
   ]
  },
  {
   "cell_type": "code",
   "execution_count": 32,
   "metadata": {},
   "outputs": [
    {
     "name": "stdout",
     "output_type": "stream",
     "text": [
      "100 -1000\n",
      "-1000 100\n",
      "-999\n"
     ]
    }
   ],
   "source": [
    "var1 = 100\n",
    "var2 = -1000\n",
    "\n",
    "print(var1, var2)\n",
    "var1, var2 = var2, var1\n",
    "print(var1, var2)\n",
    "var1 += 1\n",
    "print(var1)"
   ]
  },
  {
   "cell_type": "code",
   "execution_count": 33,
   "metadata": {},
   "outputs": [
    {
     "name": "stdout",
     "output_type": "stream",
     "text": [
      "(-999, 100)\n"
     ]
    }
   ],
   "source": [
    "a = var1, var2\n",
    "print(a)"
   ]
  },
  {
   "cell_type": "code",
   "execution_count": 21,
   "metadata": {},
   "outputs": [
    {
     "name": "stdout",
     "output_type": "stream",
     "text": [
      "{(1, 2): [1, 2, 3]}\n",
      "{(1, 2): [1, 2, 3], '1': [2, 3]}\n",
      "[1, 2, 3]\n"
     ]
    }
   ],
   "source": [
    "# d = {[1,2]:[1,2,3]} # error; dictionary keys have to be immutable\n",
    "d = {(1,2):[1,2,3]}\n",
    "print(d)\n",
    "\n",
    "d = {(1,2):[1,2,3], '1':[2,3]}\n",
    "print(d)\n",
    "print(d[(1,2)])"
   ]
  },
  {
   "attachments": {},
   "cell_type": "markdown",
   "metadata": {},
   "source": [
    "## Sets"
   ]
  },
  {
   "attachments": {},
   "cell_type": "markdown",
   "metadata": {},
   "source": [
    "A __Set__ is an unordered collection of items. Every element is unique (no duplicates) and must be immutable (which cannot be changed). However, the set itself is mutable. We can add or remove items from it.\n",
    "\n",
    "Set 是项目的无序集合。 每个元素都是唯一的（没有重复）并且必须是不可变的（不能更改）。 但是，集合本身是可变的。 我们可以从中添加或删除项目。"
   ]
  },
  {
   "cell_type": "code",
   "execution_count": 22,
   "metadata": {},
   "outputs": [
    {
     "name": "stdout",
     "output_type": "stream",
     "text": [
      "{1, 2, 3, 4}\n"
     ]
    }
   ],
   "source": [
    "my_set = {1,2,3,4,3,2}\n",
    "print(my_set)"
   ]
  },
  {
   "cell_type": "code",
   "execution_count": 23,
   "metadata": {},
   "outputs": [
    {
     "name": "stdout",
     "output_type": "stream",
     "text": [
      "True\n",
      "False\n",
      "1\n",
      "2\n",
      "3\n",
      "4\n"
     ]
    }
   ],
   "source": [
    "my_set = {1,2,3,4,3,2}\n",
    "# my_set[1] # error, no indexing in sets\n",
    "print(1 in my_set)\n",
    "print(100 in my_set)\n",
    "for el in my_set:\n",
    "    print(el)"
   ]
  },
  {
   "cell_type": "code",
   "execution_count": 24,
   "metadata": {},
   "outputs": [],
   "source": [
    "# my_set2 = {[1,2], 3,4} # error, set cannot have mutable items\n",
    "# my_set[0] # error! set does not support indexing"
   ]
  },
  {
   "cell_type": "code",
   "execution_count": 9,
   "metadata": {},
   "outputs": [
    {
     "name": "stdout",
     "output_type": "stream",
     "text": [
      "{1, 2, 3, 4}\n",
      "{1, 2, 3, 4, 5, 6, 7}\n",
      "{1, 2, 3, 4, 5, 6, 7, 8, 9}\n",
      "{1, 2, 4, 5, 6, 7, 8, 9}\n",
      "{1, 2, 4, 5, 6, 7, 8, 9, 3}\n"
     ]
    }
   ],
   "source": [
    "my_set = {1,2,3}\n",
    "my_set.add(4)\n",
    "print(my_set)\n",
    "my_set.update([5,6,7])\n",
    "print(my_set)\n",
    "my_set.update([9,8])\n",
    "print(my_set)\n",
    "my_set.remove(3)\n",
    "print(my_set)\n",
    "my_set.update([9,8,3])\n",
    "print(my_set)"
   ]
  },
  {
   "cell_type": "code",
   "execution_count": 36,
   "metadata": {},
   "outputs": [
    {
     "name": "stdout",
     "output_type": "stream",
     "text": [
      "<class 'dict'>\n",
      "<class 'dict'>\n",
      "<class 'set'>\n"
     ]
    }
   ],
   "source": [
    "d = {}\n",
    "print(type(d))\n",
    "d = dict()\n",
    "print(type(d))\n",
    "# two ways all the dict\n",
    "\n",
    "s = set()\n",
    "print(type(s))"
   ]
  },
  {
   "attachments": {},
   "cell_type": "markdown",
   "metadata": {},
   "source": [
    "__Exercise__: Determine the number of unique letters in \"supercalifragilisticexpialidocious\" using a set."
   ]
  },
  {
   "cell_type": "code",
   "execution_count": 14,
   "metadata": {},
   "outputs": [
    {
     "name": "stdout",
     "output_type": "stream",
     "text": [
      "['s', 'u', 'p', 'e', 'r', 'c', 'a', 'l', 'i', 'f', 'r', 'a', 'g', 'i', 'l', 'i', 's', 't', 'i', 'c', 'e', 'x', 'p', 'i', 'a', 'l', 'i', 'd', 'o', 'c', 'i', 'o', 'u', 's']\n",
      "{'f', 'a', 'o', 'c', 'u', 't', 's', 'x', 'd', 'i', 'l', 'r', 'g', 'p', 'e'}\n",
      "15\n"
     ]
    }
   ],
   "source": [
    "word = \"supercalifragilisticexpialidocious\"\n",
    "print(list(word))\n",
    "print(set(word))\n",
    "print(len(set(word)))"
   ]
  }
 ],
 "metadata": {
  "kernelspec": {
   "display_name": "16A",
   "language": "python",
   "name": "python3"
  },
  "language_info": {
   "codemirror_mode": {
    "name": "ipython",
    "version": 3
   },
   "file_extension": ".py",
   "mimetype": "text/x-python",
   "name": "python",
   "nbconvert_exporter": "python",
   "pygments_lexer": "ipython3",
   "version": "3.9.15"
  },
  "orig_nbformat": 4,
  "vscode": {
   "interpreter": {
    "hash": "bb173175969092e51690acb81bac0b96cd35590774203fe88d94a5a082f2cb75"
   }
  }
 },
 "nbformat": 4,
 "nbformat_minor": 2
}
