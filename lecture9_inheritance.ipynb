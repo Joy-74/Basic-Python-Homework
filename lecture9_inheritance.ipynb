{
 "cells": [
  {
   "attachments": {},
   "cell_type": "markdown",
   "metadata": {},
   "source": [
    "# Inheritance and Super"
   ]
  },
  {
   "cell_type": "markdown",
   "metadata": {},
   "source": [
    "## Inheritance"
   ]
  },
  {
   "cell_type": "markdown",
   "metadata": {},
   "source": [
    "It is best to explain the reason one might want to use *inheritance* with an example.\n",
    "\n",
    "Consider the following two classes."
   ]
  },
  {
   "cell_type": "code",
   "execution_count": 1,
   "metadata": {},
   "outputs": [],
   "source": [
    "class Rectangle:\n",
    "    def __init__(self, len1, len2):\n",
    "        self.len1 = len1\n",
    "        self.len2 = len2\n",
    "    \n",
    "    def area(self):\n",
    "        return self.len1 * self.len2\n",
    "    \n",
    "    def perimeter(self):\n",
    "        return 2 * (self.len1 + self.len2)\n",
    "\n",
    "class Square:\n",
    "    def __init__(self, length):\n",
    "        self.len = length\n",
    "    \n",
    "    def area(self):\n",
    "        return self.len * self.len\n",
    "    \n",
    "    def perimeter(self):\n",
    "        return 4 * self.len"
   ]
  },
  {
   "attachments": {},
   "cell_type": "markdown",
   "metadata": {},
   "source": [
    "We have two shapes that are related to each other: a square is a special kind of rectangle.\n",
    "\n",
    "我们有两种相互关联的形状：正方形是一种特殊的矩形。\n",
    "\n",
    "The code, however, doesn’t reflect that relationship and so we end up repeating ourselves.\n",
    "\n",
    "然而，代码并没有反映出这种关系，所以我们最终会重复自己。\n",
    "\n",
    "By using inheritance, we can reduce the amount of code we write \n",
    "and simultaneously highlight the relationship between rectangles and squares.\n",
    "\n",
    "通过使用继承，我们可以减少我们编写的代码量\n",
    "同时突出了长方形和正方形的关系。"
   ]
  },
  {
   "cell_type": "code",
   "execution_count": 2,
   "metadata": {},
   "outputs": [],
   "source": [
    "class Rectangle:\n",
    "    def __init__(self, len1, len2):\n",
    "        self.len1 = len1\n",
    "        self.len2 = len2\n",
    "    \n",
    "    def area(self):\n",
    "        return self.len1 * self.len2\n",
    "    \n",
    "    def perimeter(self):\n",
    "        return 2 * (self.len1 + self.len2)\n",
    "\n",
    "class Square(Rectangle):\n",
    "    def __init__(self, length):\n",
    "        super().__init__(length, length)"
   ]
  },
  {
   "cell_type": "code",
   "execution_count": 3,
   "metadata": {},
   "outputs": [
    {
     "name": "stdout",
     "output_type": "stream",
     "text": [
      "8 9\n"
     ]
    }
   ],
   "source": [
    "r = Rectangle(2, 4)\n",
    "s = Square(3)\n",
    "\n",
    "print(r.area(), s.area())"
   ]
  },
  {
   "cell_type": "markdown",
   "metadata": {},
   "source": [
    "Let's understand how inheritance works gradually."
   ]
  },
  {
   "cell_type": "code",
   "execution_count": 4,
   "metadata": {},
   "outputs": [],
   "source": [
    "class A:\n",
    "    class_var = 0\n",
    "\n",
    "class B(A):\n",
    "    pass"
   ]
  },
  {
   "cell_type": "markdown",
   "metadata": {},
   "source": [
    "`B`'s inheritance of `class_var` feels very similar to how instance variables of an instance of a class interact with the class variables."
   ]
  },
  {
   "cell_type": "code",
   "execution_count": 5,
   "metadata": {},
   "outputs": [
    {
     "name": "stdout",
     "output_type": "stream",
     "text": [
      "0 0\n"
     ]
    }
   ],
   "source": [
    "print(A.class_var, B.class_var) # B uses A's class_var"
   ]
  },
  {
   "cell_type": "code",
   "execution_count": 6,
   "metadata": {},
   "outputs": [
    {
     "name": "stdout",
     "output_type": "stream",
     "text": [
      "1 1\n"
     ]
    }
   ],
   "source": [
    "A.class_var = 1\n",
    "print(A.class_var, B.class_var) # B uses A's class_var"
   ]
  },
  {
   "cell_type": "code",
   "execution_count": 7,
   "metadata": {},
   "outputs": [
    {
     "name": "stdout",
     "output_type": "stream",
     "text": [
      "1 2\n"
     ]
    }
   ],
   "source": [
    "B.class_var = 2  # create a new variable B\n",
    "print(A.class_var, B.class_var) # B has its own class_var now"
   ]
  },
  {
   "cell_type": "code",
   "execution_count": 8,
   "metadata": {},
   "outputs": [
    {
     "name": "stdout",
     "output_type": "stream",
     "text": [
      "0 2\n"
     ]
    }
   ],
   "source": [
    "A.class_var = 0\n",
    "print(A.class_var, B.class_var) # B has its own class_var now"
   ]
  },
  {
   "cell_type": "code",
   "execution_count": 9,
   "metadata": {},
   "outputs": [
    {
     "name": "stdout",
     "output_type": "stream",
     "text": [
      "0 0\n"
     ]
    }
   ],
   "source": [
    "del B.class_var\n",
    "print(A.class_var, B.class_var) # B uses A's class_var"
   ]
  },
  {
   "cell_type": "code",
   "execution_count": 10,
   "metadata": {},
   "outputs": [
    {
     "ename": "AttributeError",
     "evalue": "class_var",
     "output_type": "error",
     "traceback": [
      "\u001b[0;31m---------------------------------------------------------------------------\u001b[0m",
      "\u001b[0;31mAttributeError\u001b[0m                            Traceback (most recent call last)",
      "Cell \u001b[0;32mIn[10], line 1\u001b[0m\n\u001b[0;32m----> 1\u001b[0m \u001b[39mdel\u001b[39;00m B\u001b[39m.\u001b[39mclass_var\n",
      "\u001b[0;31mAttributeError\u001b[0m: class_var"
     ]
    }
   ],
   "source": [
    "del B.class_var                 # there's nothing to delete"
   ]
  },
  {
   "cell_type": "markdown",
   "metadata": {},
   "source": [
    "Function objects are inherited in the same way."
   ]
  },
  {
   "cell_type": "code",
   "execution_count": 1,
   "metadata": {},
   "outputs": [],
   "source": [
    "class A:\n",
    "    def f():\n",
    "        print(\"A's function object called\")\n",
    "\n",
    "class B(A):\n",
    "    pass"
   ]
  },
  {
   "cell_type": "code",
   "execution_count": 2,
   "metadata": {},
   "outputs": [
    {
     "name": "stdout",
     "output_type": "stream",
     "text": [
      "A's function object called\n",
      "A's function object called\n"
     ]
    }
   ],
   "source": [
    "A.f()\n",
    "B.f()"
   ]
  },
  {
   "cell_type": "code",
   "execution_count": 3,
   "metadata": {},
   "outputs": [],
   "source": [
    "def new_func():\n",
    "    print(\"B's function object called\")\n",
    "\n",
    "B.f = new_func"
   ]
  },
  {
   "cell_type": "code",
   "execution_count": 4,
   "metadata": {},
   "outputs": [
    {
     "name": "stdout",
     "output_type": "stream",
     "text": [
      "A's function object called\n",
      "B's function object called\n"
     ]
    }
   ],
   "source": [
    "A.f()\n",
    "B.f()"
   ]
  },
  {
   "cell_type": "code",
   "execution_count": 5,
   "metadata": {},
   "outputs": [],
   "source": [
    "del B.f"
   ]
  },
  {
   "cell_type": "code",
   "execution_count": 6,
   "metadata": {},
   "outputs": [
    {
     "name": "stdout",
     "output_type": "stream",
     "text": [
      "A's function object called\n",
      "A's function object called\n"
     ]
    }
   ],
   "source": [
    "A.f()\n",
    "B.f()"
   ]
  },
  {
   "cell_type": "markdown",
   "metadata": {},
   "source": [
    "In both cases, we could have overridden the attributes in the parent class at the moment of definition."
   ]
  },
  {
   "cell_type": "code",
   "execution_count": 1,
   "metadata": {},
   "outputs": [],
   "source": [
    "class A:\n",
    "    class_var = 0\n",
    "\n",
    "    def f():\n",
    "        print(\"A's function object called\")\n",
    "\n",
    "class B(A):\n",
    "    class_var = 1\n",
    "\n",
    "    def f():\n",
    "        print(\"B's function object called\")"
   ]
  },
  {
   "cell_type": "code",
   "execution_count": 2,
   "metadata": {},
   "outputs": [
    {
     "name": "stdout",
     "output_type": "stream",
     "text": [
      "0\n",
      "1\n",
      "A's function object called\n",
      "B's function object called\n"
     ]
    }
   ],
   "source": [
    "print(A.class_var)\n",
    "print(B.class_var)\n",
    "A.f()\n",
    "B.f()"
   ]
  },
  {
   "cell_type": "markdown",
   "metadata": {},
   "source": [
    "Now let's think about what to do with initializers."
   ]
  },
  {
   "cell_type": "code",
   "execution_count": 3,
   "metadata": {},
   "outputs": [],
   "source": [
    "class A:\n",
    "    def __init__(self):\n",
    "        print(\"Initializing A\")\n",
    "        print(type(self))\n",
    "        self.instance_var = 0\n",
    "\n",
    "class B(A):\n",
    "    pass"
   ]
  },
  {
   "cell_type": "code",
   "execution_count": 4,
   "metadata": {},
   "outputs": [
    {
     "name": "stdout",
     "output_type": "stream",
     "text": [
      "Initializing A\n",
      "<class '__main__.B'>\n",
      "0\n"
     ]
    }
   ],
   "source": [
    "b = B()  # reference class b, create the instance variable\n",
    "print(b.instance_var)"
   ]
  },
  {
   "attachments": {},
   "cell_type": "markdown",
   "metadata": {},
   "source": [
    "Since `__init__` is a function object belonging to `A`, `B` inherits it.\n",
    "\n",
    "由于 __init__ 是属于 `A` 的函数对象，因此 `B` 继承了它。"
   ]
  },
  {
   "attachments": {},
   "cell_type": "markdown",
   "metadata": {},
   "source": [
    "Here's my thinking on resolving `b = B()`.\n",
    "\n",
    " - `b` is made to reference an instance object of type `B`.\n",
    " - Then `b.__init__()` is called.\n",
    " - Normally we'd say this is the same as `B.__init__(b)`.\n",
    " - Since `B` inherits `__init__` from `A`, this is resolved as `A.__init__(b)`.\n",
    " - Thus,\n",
    " ```\n",
    "            print(\"Initializing A\")\n",
    "            print(type(b))\n",
    "            b.instance_var = 0\n",
    " ```\n",
    "   is executed.\n",
    "\n",
    "这是我对解析 `b = B()` 的想法。\n",
    "\n",
    "  - `b` 用于引用类型为 `B` 的实例对象。\n",
    "  - 然后调用 `b.__init__()`。\n",
    "  - 通常我们会说这与 `B.__init__(b)` 相同。\n",
    "  - 因为 `B` 从 `A` 继承了 `__init__`，所以这被解析为 `A.__init__(b)`。\n",
    "  - 因此，\n",
    "  ```\n",
    "             print(\"初始化A\")\n",
    "             打印（类型（b））\n",
    "             b.instance_var = 0\n",
    "  ```\n",
    "    被执行。"
   ]
  },
  {
   "cell_type": "markdown",
   "metadata": {},
   "source": [
    "However, we might want to initialize instances of `B` differently."
   ]
  },
  {
   "cell_type": "code",
   "execution_count": 7,
   "metadata": {},
   "outputs": [],
   "source": [
    "class A:\n",
    "    def __init__(self):\n",
    "        print(\"Initializing A\")\n",
    "        print(type(self))\n",
    "        self.instance_var = 0\n",
    "\n",
    "class B(A):\n",
    "    def __init__(self):\n",
    "        print(\"Initializing B\")"
   ]
  },
  {
   "cell_type": "code",
   "execution_count": 8,
   "metadata": {},
   "outputs": [
    {
     "name": "stdout",
     "output_type": "stream",
     "text": [
      "Initializing B\n"
     ]
    },
    {
     "ename": "AttributeError",
     "evalue": "'B' object has no attribute 'instance_var'",
     "output_type": "error",
     "traceback": [
      "\u001b[0;31m---------------------------------------------------------------------------\u001b[0m",
      "\u001b[0;31mAttributeError\u001b[0m                            Traceback (most recent call last)",
      "Cell \u001b[0;32mIn[8], line 2\u001b[0m\n\u001b[1;32m      1\u001b[0m b \u001b[39m=\u001b[39m B()\n\u001b[0;32m----> 2\u001b[0m \u001b[39mprint\u001b[39m(b\u001b[39m.\u001b[39;49minstance_var)\n",
      "\u001b[0;31mAttributeError\u001b[0m: 'B' object has no attribute 'instance_var'"
     ]
    }
   ],
   "source": [
    "b = B()\n",
    "print(b.instance_var)"
   ]
  },
  {
   "attachments": {},
   "cell_type": "markdown",
   "metadata": {},
   "source": [
    "In this case, `B` has its own `__init__`, so `A`'s  `__init__` is not called,\n",
    "so `b` does not inherit `instance_var`.\n",
    "\n",
    "We can call `A`'s `__init__` by using `super()`.\n",
    "\n",
    "在这种情况下，`B` 有自己的`__init__`，所以`A` 的`__init__` 不会被调用，\n",
    "所以 `b` 不继承 `instance_var`。\n",
    "\n",
    "我们可以使用 super() 来调用 A 的 __init__ 。"
   ]
  },
  {
   "cell_type": "code",
   "execution_count": 1,
   "metadata": {},
   "outputs": [],
   "source": [
    "class A:\n",
    "    def __init__(self):\n",
    "        print(\"Initializing A\")\n",
    "        print(type(self))\n",
    "        self.instance_var = 0\n",
    "        self.instance_var2 = 0\n",
    "\n",
    "class B(A):\n",
    "    def __init__(self):\n",
    "        print(\"Initializing B\")\n",
    "        super().__init__()\n",
    "        self.instance_var2 = 1"
   ]
  },
  {
   "cell_type": "code",
   "execution_count": 2,
   "metadata": {},
   "outputs": [
    {
     "name": "stdout",
     "output_type": "stream",
     "text": [
      "Initializing B\n",
      "Initializing A\n",
      "<class '__main__.B'>\n",
      "0\n",
      "0 1\n"
     ]
    }
   ],
   "source": [
    "b = B()\n",
    "print(b.instance_var)\n",
    "print(b.instance_var, b.instance_var2)"
   ]
  },
  {
   "attachments": {},
   "cell_type": "markdown",
   "metadata": {},
   "source": [
    "`super()` is actually quite complicated,\n",
    "but in this case `super().__init__()` is equivalent to `A.__init__(self)`.\n",
    "\n",
    "`super()` 实际上相当复杂，\n",
    "但在这种情况下，`super().__init__()` 等同于 `A.__init__(self)`。"
   ]
  },
  {
   "attachments": {},
   "cell_type": "markdown",
   "metadata": {},
   "source": [
    "Here's my thinking on resolving `b = B()`.\n",
    "\n",
    " - `b` is made to reference an instance object of type `B`.\n",
    " - Then `b.__init__()` is called.\n",
    " - This is the same as `B.__init__(b)`.\n",
    " - So `print(\"Initializing B\")` is executed and then `A.__init__(b)`.\n",
    " - Thus,\n",
    " ```\n",
    "            print(\"Initializing A\")\n",
    "            print(type(b))\n",
    "            b.instance_var = 0\n",
    " ```\n",
    "   is executed.\n",
    "\n",
    "   \n",
    "这是我对解析 `b = B()` 的想法。\n",
    "\n",
    "  - `b` 用于引用类型为 `B` 的实例对象。\n",
    "  - 然后调用 `b.__init__()`。\n",
    "  - 这与 `B.__init__(b)` 相同。\n",
    "  - 因此执行 `print(\"Initializing B\")`，然后执行 `A.__init__(b)`。\n",
    "  - 因此，\n",
    "  ```\n",
    "             print(\"初始化A\")\n",
    "             打印（类型（b））\n",
    "             b.instance_var = 0\n",
    "  ```\n",
    "    被执行。"
   ]
  },
  {
   "attachments": {},
   "cell_type": "markdown",
   "metadata": {},
   "source": [
    "------"
   ]
  },
  {
   "attachments": {},
   "cell_type": "markdown",
   "metadata": {},
   "source": [
    "`super()` returns a proxy object that delegates calls to the correct class methods.\n",
    "\n",
    "The simplest two sentence explanation I can provide: \n",
    "\n",
    " - `super().f(arg1, arg2)` is like `self.f(arg1, arg2)` \n",
    " \n",
    "   but for the purpose of function resolution, we view `self` as an instance of a parent class; \n",
    " - however, as an explicit parameter, it should still be viewed an instance of the child class.\n",
    "\n",
    " `super()` 返回一个代理对象，它将调用委托给正确的类方法。\n",
    "\n",
    "我能提供的最简单的两句话解释：\n",
    "\n",
    "  - `super().f(arg1, arg2)` 类似于 `self.f(arg1, arg2)`\n",
    " \n",
    "    但是出于函数解析的目的，我们将 self 视为父类的实例；\n",
    "  - 但是，作为显式参数，它仍应被视为子类的实例。"
   ]
  },
  {
   "cell_type": "markdown",
   "metadata": {},
   "source": [
    "----"
   ]
  },
  {
   "cell_type": "markdown",
   "metadata": {},
   "source": [
    "Here's another example of using `super()`."
   ]
  },
  {
   "cell_type": "code",
   "execution_count": 14,
   "metadata": {},
   "outputs": [],
   "source": [
    "class A:\n",
    "    def __init__(self):\n",
    "        print(\"Initializing A\")\n",
    "\n",
    "    def method(self):\n",
    "        print(\"A's method called\")\n",
    "\n",
    "    def display(self):\n",
    "        print(\"A's display\")\n",
    "        self.display()\n",
    "\n",
    "class B(A):\n",
    "    def __init__(self):\n",
    "        print(\"Initializing B\")\n",
    "        super().__init__() \n",
    "\n",
    "    def method(self):\n",
    "        print(\"B's method called\")\n",
    "\n",
    "    def super_method(self):\n",
    "        super().method()\n",
    "\n",
    "    def dispaly(self):\n",
    "        print(\"B's dispaly\")"
   ]
  },
  {
   "cell_type": "code",
   "execution_count": 15,
   "metadata": {},
   "outputs": [
    {
     "name": "stdout",
     "output_type": "stream",
     "text": [
      "Initializing B\n",
      "Initializing A\n",
      "B's method called\n",
      "A's method called\n"
     ]
    }
   ],
   "source": [
    "b = B()\n",
    "b.method()\n",
    "b.super_method()"
   ]
  },
  {
   "cell_type": "markdown",
   "metadata": {},
   "source": [
    "One more example..."
   ]
  },
  {
   "cell_type": "code",
   "execution_count": 9,
   "metadata": {},
   "outputs": [],
   "source": [
    "class A:\n",
    "    def __init__(self):\n",
    "        print(\"Initializing A\")\n",
    "        self.method()\n",
    "\n",
    "    def method(self):\n",
    "        print(\"A's method called\")\n",
    "\n",
    "class B(A):\n",
    "    def __init__(self):\n",
    "        print(\"Initializing B\")\n",
    "        super().__init__()   # call here: print(\"Initializing A\")\n",
    "\n",
    "    def method(self):\n",
    "        print(\"B's method called\")"
   ]
  },
  {
   "cell_type": "markdown",
   "metadata": {},
   "source": [
    "Can you guess the ouput of the following?"
   ]
  },
  {
   "cell_type": "code",
   "execution_count": 10,
   "metadata": {},
   "outputs": [
    {
     "name": "stdout",
     "output_type": "stream",
     "text": [
      "Initializing A\n",
      "A's method called\n",
      "\n",
      "Initializing B\n",
      "Initializing A\n",
      "A's method called\n"
     ]
    }
   ],
   "source": [
    "a = A()\n",
    "print('')\n",
    "b = B()"
   ]
  },
  {
   "cell_type": "markdown",
   "metadata": {},
   "source": [
    "Chase through the function calls carefully to understand why `B`'s `method` is used at the end."
   ]
  }
 ],
 "metadata": {
  "kernelspec": {
   "display_name": "16A",
   "language": "python",
   "name": "python3"
  },
  "language_info": {
   "codemirror_mode": {
    "name": "ipython",
    "version": 3
   },
   "file_extension": ".py",
   "mimetype": "text/x-python",
   "name": "python",
   "nbconvert_exporter": "python",
   "pygments_lexer": "ipython3",
   "version": "3.9.15"
  },
  "orig_nbformat": 4,
  "vscode": {
   "interpreter": {
    "hash": "bb173175969092e51690acb81bac0b96cd35590774203fe88d94a5a082f2cb75"
   }
  }
 },
 "nbformat": 4,
 "nbformat_minor": 2
}
