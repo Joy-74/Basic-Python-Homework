{
 "cells": [
  {
   "attachments": {},
   "cell_type": "markdown",
   "metadata": {},
   "source": [
    "# Lecture 5\n",
    "\n",
    "- Modules\n",
    "- Functions\n",
    "- Functions with default argument values\n",
    "- Keyword arguments\n",
    "- Lambda expression\n",
    "- Excercise\n",
    "\n",
    "Reading material: [Python tutorial](https://docs.python.org/3.9/tutorial/)  4.6, 4.7. "
   ]
  },
  {
   "attachments": {},
   "cell_type": "markdown",
   "metadata": {},
   "source": [
    "## Modules"
   ]
  },
  {
   "attachments": {},
   "cell_type": "markdown",
   "metadata": {},
   "source": [
    "Modules are packages with extra variable classes and functions. You need to import a module in order to use it. Some modules need to be installed (in your current environment) before importing. As an example, we import the module random. If we execute\n",
    "\n",
    "模块是带有额外变量类和函数的包。 您需要导入一个模块才能使用它。 在导入之前需要安装一些模块（在您当前的环境中）。 例如，我们导入模块 random。 如果我们执行"
   ]
  },
  {
   "cell_type": "code",
   "execution_count": 1,
   "metadata": {},
   "outputs": [],
   "source": [
    "import random"
   ]
  },
  {
   "cell_type": "code",
   "execution_count": 1,
   "metadata": {},
   "outputs": [
    {
     "ename": "NameError",
     "evalue": "name 'randint' is not defined",
     "output_type": "error",
     "traceback": [
      "\u001b[0;31m---------------------------------------------------------------------------\u001b[0m",
      "\u001b[0;31mNameError\u001b[0m                                 Traceback (most recent call last)",
      "Cell \u001b[0;32mIn[1], line 1\u001b[0m\n\u001b[0;32m----> 1\u001b[0m randint(\u001b[39m1\u001b[39m,\u001b[39m3\u001b[39m)\n",
      "\u001b[0;31mNameError\u001b[0m: name 'randint' is not defined"
     ]
    }
   ],
   "source": [
    "randint(1,3)  # confusing, cause we need to use random.randint()"
   ]
  },
  {
   "cell_type": "code",
   "execution_count": 4,
   "metadata": {},
   "outputs": [
    {
     "data": {
      "text/plain": [
       "2"
      ]
     },
     "execution_count": 4,
     "metadata": {},
     "output_type": "execute_result"
    }
   ],
   "source": [
    "random.randint(1,3) #uniform integer in {1,2,3}"
   ]
  },
  {
   "cell_type": "code",
   "execution_count": 7,
   "metadata": {},
   "outputs": [
    {
     "data": {
      "text/plain": [
       "0.2256441725017635"
      ]
     },
     "execution_count": 7,
     "metadata": {},
     "output_type": "execute_result"
    }
   ],
   "source": [
    "random.random() #uniform real in [0,1] 第二个random不是package而是function\n",
    "# random.random() * 2"
   ]
  },
  {
   "cell_type": "code",
   "execution_count": 2,
   "metadata": {},
   "outputs": [
    {
     "name": "stdout",
     "output_type": "stream",
     "text": [
      "[4, 5, 3]\n"
     ]
    }
   ],
   "source": [
    "L=[3,4,5]\n",
    "random.shuffle(L) #uniform shuffle of a list, shuffle()函数是将列表的所有元素随机排序\n",
    "print(L)"
   ]
  },
  {
   "cell_type": "code",
   "execution_count": 11,
   "metadata": {},
   "outputs": [
    {
     "data": {
      "text/plain": [
       "[5, 3]"
      ]
     },
     "execution_count": 11,
     "metadata": {},
     "output_type": "execute_result"
    }
   ],
   "source": [
    "random.sample(L,2) #uniform sampling"
   ]
  },
  {
   "cell_type": "markdown",
   "metadata": {},
   "source": [
    "The random module has many other built-in distributions, such as normal, geometric, Poisson,... If we plan to use a module often, we can shorten the name. For example:"
   ]
  },
  {
   "cell_type": "code",
   "execution_count": 12,
   "metadata": {},
   "outputs": [],
   "source": [
    "import random as rand\n"
   ]
  },
  {
   "cell_type": "code",
   "execution_count": 13,
   "metadata": {},
   "outputs": [
    {
     "data": {
      "text/plain": [
       "0.6788697049475744"
      ]
     },
     "execution_count": 13,
     "metadata": {},
     "output_type": "execute_result"
    }
   ],
   "source": [
    "rand.random()\n"
   ]
  },
  {
   "cell_type": "markdown",
   "metadata": {},
   "source": [
    "It is also possible to import everything from a module, and use the functions directly without having to specify the module. I think this is very bad practice, because we completely lose track of where thefunctions come from, and, more importantly, we run the risk of function definitions clashing between modules or with standard python functions."
   ]
  },
  {
   "cell_type": "code",
   "execution_count": 14,
   "metadata": {},
   "outputs": [
    {
     "data": {
      "text/plain": [
       "0.8993164942152312"
      ]
     },
     "execution_count": 14,
     "metadata": {},
     "output_type": "execute_result"
    }
   ],
   "source": [
    "from random import * #this is bad\n",
    "random()"
   ]
  },
  {
   "attachments": {},
   "cell_type": "markdown",
   "metadata": {},
   "source": [
    "## Functions"
   ]
  },
  {
   "cell_type": "markdown",
   "metadata": {},
   "source": [
    "To understand functions we show a few examples. The following function takes as input an integer n, and outputs an integer equal to n + 1."
   ]
  },
  {
   "cell_type": "code",
   "execution_count": 3,
   "metadata": {},
   "outputs": [],
   "source": [
    "def nplusone(n):\n",
    "    m=n+1\n",
    "    return m"
   ]
  },
  {
   "cell_type": "code",
   "execution_count": 4,
   "metadata": {},
   "outputs": [],
   "source": [
    "def nplusone_bad(n):\n",
    "    m=n+1\n",
    "    print(m)"
   ]
  },
  {
   "attachments": {},
   "cell_type": "markdown",
   "metadata": {},
   "source": [
    "We call the function as follows:\n"
   ]
  },
  {
   "cell_type": "code",
   "execution_count": 6,
   "metadata": {},
   "outputs": [
    {
     "data": {
      "text/plain": [
       "7"
      ]
     },
     "execution_count": 6,
     "metadata": {},
     "output_type": "execute_result"
    }
   ],
   "source": [
    "nplusone(6)  # equal to \n",
    "print(nplusone(6)) "
   ]
  },
  {
   "cell_type": "code",
   "execution_count": 24,
   "metadata": {},
   "outputs": [
    {
     "name": "stdout",
     "output_type": "stream",
     "text": [
      "7\n",
      "None\n"
     ]
    }
   ],
   "source": [
    "a = nplusone_bad(6)  # 7 from function\n",
    "print(a)  # bc nplusone_bad function didn't return anything, so print(a) is none."
   ]
  },
  {
   "cell_type": "markdown",
   "metadata": {},
   "source": [
    "The following function tells us whether a number n is big or not. Finish it yourself."
   ]
  },
  {
   "cell_type": "code",
   "execution_count": 26,
   "metadata": {},
   "outputs": [
    {
     "name": "stdout",
     "output_type": "stream",
     "text": [
      "True\n",
      "False\n"
     ]
    }
   ],
   "source": [
    "def isbig(n):\n",
    "    if n>10:\n",
    "        return True\n",
    "    else:\n",
    "        return False\n",
    "\n",
    "print(isbig(100))\n",
    "print(isbig(0))"
   ]
  },
  {
   "attachments": {},
   "cell_type": "markdown",
   "metadata": {},
   "source": [
    "## Passing arguments to functions\n",
    "## 将参数传递给函数\n",
    "Python uses a mechanism known as \"call-by-object\". \n",
    "\n",
    "Python 使用一种称为“按对象调用”的机制。\n",
    "\n",
    "If you pass immutable arguments like integers, strings or tuples to a function, the passing acts like pass-by-value. They can't be changed within the function, because they can't be changed at all, i.e. they are immutable. \n",
    "\n",
    "如果将整数、字符串或元组等不可变参数传递给函数，则传递就像按值传递一样。 它们不能在函数内更改，因为它们根本无法更改，即它们是不可变的。\n",
    "\n",
    "In the following example, we use the __id__ function. __id(obj)__ returns the \"identity\" of the object, which is unique and constant for the object during its lifetime.\n",
    "\n",
    "在下面的示例中，我们使用 __id__ 函数。 __id(obj)__ 返回对象的“身份”，该身份在对象的生命周期内是唯一且不变的。"
   ]
  },
  {
   "cell_type": "code",
   "execution_count": 7,
   "metadata": {},
   "outputs": [],
   "source": [
    "def f(x):\n",
    "    print(\"x=\",x,\" id=\",id(x))\n",
    "    x=42\n",
    "    print(\"x=\",x,\" id=\",id(x))"
   ]
  },
  {
   "cell_type": "code",
   "execution_count": 8,
   "metadata": {},
   "outputs": [
    {
     "data": {
      "text/plain": [
       "4369213872"
      ]
     },
     "execution_count": 8,
     "metadata": {},
     "output_type": "execute_result"
    }
   ],
   "source": [
    "x = 5\n",
    "id(x)"
   ]
  },
  {
   "cell_type": "code",
   "execution_count": 9,
   "metadata": {},
   "outputs": [
    {
     "name": "stdout",
     "output_type": "stream",
     "text": [
      "x= 5  id= 4369213872\n",
      "x= 42  id= 4369215056\n"
     ]
    }
   ],
   "source": [
    "f(x)"
   ]
  },
  {
   "cell_type": "code",
   "execution_count": 10,
   "metadata": {},
   "outputs": [
    {
     "data": {
      "text/plain": [
       "(5, 4369213872)"
      ]
     },
     "execution_count": 10,
     "metadata": {},
     "output_type": "execute_result"
    }
   ],
   "source": [
    "id(x)\n",
    "x, id(x)"
   ]
  },
  {
   "cell_type": "code",
   "execution_count": 27,
   "metadata": {},
   "outputs": [
    {
     "name": "stdout",
     "output_type": "stream",
     "text": [
      "Initially, a was [1, 2, 3] id 4587309760\n",
      "4587309760\n",
      "4587309760\n",
      "Now, a is [1, 1000, 3] id 4587309760\n"
     ]
    }
   ],
   "source": [
    "def f(x):\n",
    "    print(id(x))\n",
    "    x[1] = 1000  # 元素替换但地址无法更改\n",
    "    print(id(x))\n",
    "\n",
    "a= [1, 2, 3]\n",
    "print(\"Initially, a was\", a, \"id\", id(a))\n",
    "f(a)\n",
    "print(\"Now, a is\",a, \"id\", id(a))\n"
   ]
  },
  {
   "cell_type": "code",
   "execution_count": 33,
   "metadata": {},
   "outputs": [
    {
     "name": "stdout",
     "output_type": "stream",
     "text": [
      "Initially, b was [1, 2, 3] id 4574130432\n",
      "4574130432\n",
      "4574130432 4574130816\n",
      "4574130432 4574130816\n",
      "b is still [1, 2, 3] id 4574130432\n",
      "c is [1, 1000, 3] id 4574130816\n"
     ]
    }
   ],
   "source": [
    "def g(x):\n",
    "    print(id(x))\n",
    "    y = x[:] # creates a copy \n",
    "    print(id(x), id(y))\n",
    "    y[1] = 1000\n",
    "    print(id(x), id(y))\n",
    "    return y\n",
    "\n",
    "b = [1, 2, 3]\n",
    "print(\"Initially, b was\", b, \"id\", id(b))\n",
    "c = g(b)\n",
    "print(\"b is still\",b,\"id\", id(b))  # same as id(x)\n",
    "print(\"c is\",c, \"id\", id(c))  # same as id(y)\n",
    "\n"
   ]
  },
  {
   "cell_type": "code",
   "execution_count": 37,
   "metadata": {},
   "outputs": [
    {
     "name": "stdout",
     "output_type": "stream",
     "text": [
      "Initially, d was [1, 2, 3] id 4588776384\n",
      "4588776384\n",
      "4587480192\n",
      "Now, d is still [1, 2, 3] id 4588776384\n"
     ]
    }
   ],
   "source": [
    "def h(x):\n",
    "    print(id(x)) \n",
    "    x = [1]   \n",
    "    print(id(x))\n",
    "\n",
    "d = [1,2,3]\n",
    "print(\"Initially, d was\", d, \"id\", id(d))\n",
    "h(d)\n",
    "print(\"Now, d is still\", d, \"id\", id(d))"
   ]
  },
  {
   "attachments": {},
   "cell_type": "markdown",
   "metadata": {},
   "source": [
    "## Functions with default argument values\n",
    "Consider the function"
   ]
  },
  {
   "cell_type": "code",
   "execution_count": 39,
   "metadata": {},
   "outputs": [],
   "source": [
    "def my_fun(a, b = 10, c = 20):\n",
    "    return (a, b, c)  # group a,b,c(加括号不重要,都表示list)"
   ]
  },
  {
   "attachments": {},
   "cell_type": "markdown",
   "metadata": {},
   "source": [
    "Predict the output of the following:\n",
    "-    my_fun( )\n",
    "-    my_fun(1)\n",
    "-    my_fun(1,2)\n",
    "-    my_fun(1,2,3)"
   ]
  },
  {
   "cell_type": "code",
   "execution_count": 40,
   "metadata": {},
   "outputs": [
    {
     "name": "stdout",
     "output_type": "stream",
     "text": [
      "(1, 10, 20)\n",
      "(1, 2, 20)\n",
      "(1, 2, 3)\n"
     ]
    }
   ],
   "source": [
    "#out = my_fun()  # error: 没有定义a\n",
    "#print(out)\n",
    "out = my_fun(1)\n",
    "print(out)\n",
    "out = my_fun(1,2)\n",
    "print(out)\n",
    "out = my_fun(1,2,3)\n",
    "print(out)"
   ]
  },
  {
   "cell_type": "code",
   "execution_count": 45,
   "metadata": {},
   "outputs": [
    {
     "ename": "SyntaxError",
     "evalue": "non-default argument follows default argument (4277287867.py, line 2)",
     "output_type": "error",
     "traceback": [
      "\u001b[0;36m  Cell \u001b[0;32mIn[45], line 2\u001b[0;36m\u001b[0m\n\u001b[0;31m    def my_fun2(b = 10, c = 20, a):\u001b[0m\n\u001b[0m                                 ^\u001b[0m\n\u001b[0;31mSyntaxError\u001b[0m\u001b[0;31m:\u001b[0m non-default argument follows default argument\n"
     ]
    }
   ],
   "source": [
    "# error\n",
    "def my_fun2(b = 10, c = 20, a):\n",
    "    return(a, b, c)"
   ]
  },
  {
   "attachments": {},
   "cell_type": "markdown",
   "metadata": {},
   "source": [
    "### Important:\n",
    "The default value for a function argument is only evaluated once, at the time that the function is defined. \n",
    "\n",
    "函数参数的默认值仅在定义函数时计算一次。\n",
    "\n",
    "__Common mistake:__ misusing mutable default arguments 滥用可变默认参数"
   ]
  },
  {
   "cell_type": "code",
   "execution_count": 46,
   "metadata": {},
   "outputs": [],
   "source": [
    "def foo(bar=[]):        # bar is optional and defaults to [] if not specified\n",
    "    bar.append(\"PIC16\")    # but this line could be problematic, as we'll see...\n",
    "    return bar"
   ]
  },
  {
   "cell_type": "code",
   "execution_count": 47,
   "metadata": {},
   "outputs": [
    {
     "data": {
      "text/plain": [
       "['PIC16']"
      ]
     },
     "execution_count": 47,
     "metadata": {},
     "output_type": "execute_result"
    }
   ],
   "source": [
    "foo()"
   ]
  },
  {
   "cell_type": "code",
   "execution_count": 48,
   "metadata": {},
   "outputs": [
    {
     "data": {
      "text/plain": [
       "['PIC16', 'PIC16']"
      ]
     },
     "execution_count": 48,
     "metadata": {},
     "output_type": "execute_result"
    }
   ],
   "source": [
    "foo()"
   ]
  },
  {
   "cell_type": "code",
   "execution_count": 49,
   "metadata": {},
   "outputs": [
    {
     "data": {
      "text/plain": [
       "['PIC16', 'PIC16', 'PIC16']"
      ]
     },
     "execution_count": 49,
     "metadata": {},
     "output_type": "execute_result"
    }
   ],
   "source": [
    "foo()"
   ]
  },
  {
   "cell_type": "markdown",
   "metadata": {},
   "source": [
    "To fix this, we can do"
   ]
  },
  {
   "cell_type": "code",
   "execution_count": 66,
   "metadata": {},
   "outputs": [],
   "source": [
    "def foo(bar=None):\n",
    "    if bar is None:\n",
    "        bar = []\n",
    "    bar.append(\"PIC16\")\n",
    "    return bar"
   ]
  },
  {
   "cell_type": "code",
   "execution_count": 70,
   "metadata": {},
   "outputs": [
    {
     "data": {
      "text/plain": [
       "['PIC16', 'PIC16']"
      ]
     },
     "execution_count": 70,
     "metadata": {},
     "output_type": "execute_result"
    }
   ],
   "source": [
    "foo(foo())"
   ]
  },
  {
   "cell_type": "code",
   "execution_count": 68,
   "metadata": {},
   "outputs": [
    {
     "data": {
      "text/plain": [
       "['PIC16']"
      ]
     },
     "execution_count": 68,
     "metadata": {},
     "output_type": "execute_result"
    }
   ],
   "source": [
    "foo()"
   ]
  },
  {
   "cell_type": "code",
   "execution_count": 69,
   "metadata": {},
   "outputs": [
    {
     "data": {
      "text/plain": [
       "['PIC16']"
      ]
     },
     "execution_count": 69,
     "metadata": {},
     "output_type": "execute_result"
    }
   ],
   "source": [
    "foo()"
   ]
  },
  {
   "attachments": {},
   "cell_type": "markdown",
   "metadata": {},
   "source": [
    "## Keyword arguments\n",
    "Functions can also be called using keyword arguments of the form kwarg=value. \n",
    "\n",
    "也可以使用 kwarg=value 形式的关键字参数调用函数。\n",
    "\n",
    "Consider the function"
   ]
  },
  {
   "cell_type": "code",
   "execution_count": 50,
   "metadata": {},
   "outputs": [],
   "source": [
    "def my_fun2(a, b = 10, c = 20, d = 30):\n",
    "    return a, b, c, d"
   ]
  },
  {
   "cell_type": "markdown",
   "metadata": {},
   "source": [
    "It could be called like this:"
   ]
  },
  {
   "cell_type": "code",
   "execution_count": 51,
   "metadata": {},
   "outputs": [
    {
     "name": "stdout",
     "output_type": "stream",
     "text": [
      "(1, 10, 30, 30)\n"
     ]
    }
   ],
   "source": [
    "print(my_fun2(1, c = 30)) # 1 positional argument, 1 keyword argument"
   ]
  },
  {
   "cell_type": "code",
   "execution_count": 52,
   "metadata": {},
   "outputs": [
    {
     "name": "stdout",
     "output_type": "stream",
     "text": [
      "(100, 10, 30, 30)\n"
     ]
    }
   ],
   "source": [
    "print(my_fun2(c = 30, a = 100)) # two keyword arguments"
   ]
  },
  {
   "attachments": {},
   "cell_type": "markdown",
   "metadata": {},
   "source": [
    "The following calls would be invalid:\n",
    "\n",
    "my_fun2(5, a = 100) # duplicate value for the same argument\n",
    "\n",
    "my_fun2(c = 100, 10) # non-keyword argument after a keyword argument"
   ]
  },
  {
   "cell_type": "code",
   "execution_count": 27,
   "metadata": {},
   "outputs": [
    {
     "ename": "NameError",
     "evalue": "name 'my_fun2' is not defined",
     "output_type": "error",
     "traceback": [
      "\u001b[1;31m---------------------------------------------------------------------------\u001b[0m",
      "\u001b[1;31mNameError\u001b[0m                                 Traceback (most recent call last)",
      "\u001b[1;32m~\\AppData\\Local\\Temp/ipykernel_12124/2091468803.py\u001b[0m in \u001b[0;36m<module>\u001b[1;34m\u001b[0m\n\u001b[1;32m----> 1\u001b[1;33m \u001b[0mmy_fun2\u001b[0m\u001b[1;33m(\u001b[0m\u001b[1;36m5\u001b[0m\u001b[1;33m,\u001b[0m \u001b[0ma\u001b[0m \u001b[1;33m=\u001b[0m \u001b[1;36m100\u001b[0m\u001b[1;33m)\u001b[0m \u001b[1;31m# error\u001b[0m\u001b[1;33m\u001b[0m\u001b[1;33m\u001b[0m\u001b[0m\n\u001b[0m",
      "\u001b[1;31mNameError\u001b[0m: name 'my_fun2' is not defined"
     ]
    }
   ],
   "source": [
    "my_fun2(5, a = 100) # error"
   ]
  },
  {
   "attachments": {},
   "cell_type": "markdown",
   "metadata": {},
   "source": [
    "## Lambda expression\n",
    "We can create lambda expressions to compactly define simple functions.\n",
    "\n",
    "我们可以创建 lambda 表达式来紧凑地定义简单的函数。"
   ]
  },
  {
   "attachments": {},
   "cell_type": "markdown",
   "metadata": {},
   "source": [
    "format:\n",
    "function_name = lambda input : output"
   ]
  },
  {
   "cell_type": "code",
   "execution_count": 53,
   "metadata": {},
   "outputs": [
    {
     "data": {
      "text/plain": [
       "2"
      ]
     },
     "execution_count": 53,
     "metadata": {},
     "output_type": "execute_result"
    }
   ],
   "source": [
    "f = lambda x, y : x + y\n",
    "f(1,1)"
   ]
  },
  {
   "cell_type": "code",
   "execution_count": 54,
   "metadata": {},
   "outputs": [
    {
     "data": {
      "text/plain": [
       "2"
      ]
     },
     "execution_count": 54,
     "metadata": {},
     "output_type": "execute_result"
    }
   ],
   "source": [
    "# equivalent to\n",
    "def f2(x, y):\n",
    "    return x + y\n",
    "f2(1,1)"
   ]
  },
  {
   "cell_type": "code",
   "execution_count": 7,
   "metadata": {},
   "outputs": [
    {
     "name": "stdout",
     "output_type": "stream",
     "text": [
      "4407889792\n",
      "[[-1, 'a'], [1, 'a'], [1, 'd'], [2, 'e'], [3, 'c']]\n",
      "4407889792\n"
     ]
    }
   ],
   "source": [
    "data = [[1,'d'], [3,'c'], [2,'e'], [1,'a'], [-1,'a']]\n",
    "print(id(data))\n",
    "data.sort() \n",
    "# sorted(data) # return a separate object that contains all the elements in order\n",
    "print(data)\n",
    "print(id(data))\n"
   ]
  },
  {
   "cell_type": "code",
   "execution_count": 10,
   "metadata": {},
   "outputs": [
    {
     "name": "stdout",
     "output_type": "stream",
     "text": [
      "4407938496\n",
      "[[-1, 'a'], [1, 'a'], [1, 'd'], [2, 'e'], [3, 'c']] 4407898624\n"
     ]
    }
   ],
   "source": [
    "data = [[1,'d'], [3,'c'], [2,'e'], [1,'a'], [-1,'a']]\n",
    "print(id(data))\n",
    "new_data = sorted(data) # return a separate object that contains all the elements in order\n",
    "# print(data, id(data))\n",
    "print(new_data, id(new_data))"
   ]
  },
  {
   "cell_type": "code",
   "execution_count": 12,
   "metadata": {},
   "outputs": [
    {
     "name": "stdout",
     "output_type": "stream",
     "text": [
      "[[3, 'c'], [2, 'e'], [1, 'd'], [1, 'a'], [-1, 'a']]\n"
     ]
    }
   ],
   "source": [
    "data = [[1,'d'], [3,'c'], [2,'e'], [1,'a'], [-1,'a']]\n",
    "data.sort(reverse = True) \n",
    "print(data)"
   ]
  },
  {
   "cell_type": "code",
   "execution_count": 12,
   "metadata": {},
   "outputs": [
    {
     "name": "stdout",
     "output_type": "stream",
     "text": [
      "[[2, 'e'], [1, 'd'], [3, 'c'], [1, 'a'], [-1, 'a']]\n"
     ]
    }
   ],
   "source": [
    "data = [[1,'d'], [3,'c'], [2,'e'], [1,'a'], [-1,'a']]\n",
    "#data.sort(key = lambda x : x[1])  # 注意index来进行排序\n",
    "data.sort(key = lambda x : x[-1], reverse = True)  # key: A function to specify the sorting criteria(s)\n",
    "# 倒叙也可以在x[0]前加负号变为: key = lambda x : -x[0]\n",
    "print(data)"
   ]
  },
  {
   "cell_type": "code",
   "execution_count": 75,
   "metadata": {},
   "outputs": [
    {
     "name": "stdout",
     "output_type": "stream",
     "text": [
      "[[-1, 'a'], [1, 'a'], [1, 'd'], [2, 'e'], [3, 'c']]\n"
     ]
    }
   ],
   "source": [
    "data = [[1,'d'], [3,'c'], [2,'e'], [1,'a'], [-1,'a']]\n",
    "data.sort(key = lambda x : (x[0],x[1]))  # key: A function to specify the sorting criteria(s)\n",
    "# x[0]是按照数组中第一个元素的大小,升序。x[1]是按照数组中第二个元素(字母)升序\n",
    "print(data)"
   ]
  },
  {
   "attachments": {},
   "cell_type": "markdown",
   "metadata": {},
   "source": [
    "data.sort(key = f)  # f is function\n",
    "we will sort data according to f(d) for d in data"
   ]
  },
  {
   "cell_type": "markdown",
   "metadata": {},
   "source": [
    "## Exercises:"
   ]
  },
  {
   "cell_type": "markdown",
   "metadata": {},
   "source": [
    "- Python has a built in len() function for lists. Write one yourself."
   ]
  },
  {
   "cell_type": "code",
   "execution_count": 29,
   "metadata": {},
   "outputs": [
    {
     "name": "stdout",
     "output_type": "stream",
     "text": [
      "3\n"
     ]
    }
   ],
   "source": [
    "L = [1, 2, 3]\n",
    "print(len(L))"
   ]
  },
  {
   "cell_type": "code",
   "execution_count": 30,
   "metadata": {},
   "outputs": [
    {
     "name": "stdout",
     "output_type": "stream",
     "text": [
      "[1, 1, 1]\n",
      "3\n"
     ]
    }
   ],
   "source": [
    "def myLen(L):\n",
    "    print([1 for _ in L])\n",
    "    return sum([1 for _ in L])\n",
    "L = [1, 2, 3]\n",
    "print(myLen(L))"
   ]
  },
  {
   "cell_type": "code",
   "execution_count": 31,
   "metadata": {},
   "outputs": [
    {
     "name": "stdout",
     "output_type": "stream",
     "text": [
      "3\n"
     ]
    }
   ],
   "source": [
    "def mylen2(L):\n",
    "    count = 0\n",
    "    for i in L:\n",
    "        count += 1\n",
    "    return count\n",
    "L = [1, 2, 3]\n",
    "print(mylen2(L))"
   ]
  },
  {
   "cell_type": "code",
   "execution_count": 37,
   "metadata": {},
   "outputs": [
    {
     "data": {
      "text/plain": [
       "[1, 3]"
      ]
     },
     "execution_count": 37,
     "metadata": {},
     "output_type": "execute_result"
    }
   ],
   "source": [
    "random.sample(L,2)"
   ]
  }
 ],
 "metadata": {
  "kernelspec": {
   "display_name": "16A",
   "language": "python",
   "name": "python3"
  },
  "language_info": {
   "codemirror_mode": {
    "name": "ipython",
    "version": 3
   },
   "file_extension": ".py",
   "mimetype": "text/x-python",
   "name": "python",
   "nbconvert_exporter": "python",
   "pygments_lexer": "ipython3",
   "version": "3.9.15"
  },
  "orig_nbformat": 4,
  "vscode": {
   "interpreter": {
    "hash": "bb173175969092e51690acb81bac0b96cd35590774203fe88d94a5a082f2cb75"
   }
  }
 },
 "nbformat": 4,
 "nbformat_minor": 2
}
