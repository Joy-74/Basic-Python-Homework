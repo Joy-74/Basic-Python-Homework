{
 "cells": [
  {
   "cell_type": "markdown",
   "metadata": {},
   "source": [
    "## Exceptions"
   ]
  },
  {
   "attachments": {},
   "cell_type": "markdown",
   "metadata": {},
   "source": [
    "Reading Materials:\n",
    "\n",
    "https://docs.python.org/3.9/tutorial/errors.html#handling-exceptions"
   ]
  },
  {
   "cell_type": "markdown",
   "metadata": {},
   "source": [
    "It is easy to give examples of *exceptions*.\n",
    "\n",
    "The following bits of code show:\n",
    " - `NameError`;\n",
    " - `ZeroDivisionError`;\n",
    " - `TypeError`;\n",
    " - `IndexError`;\n",
    " - `UnboundLocalError`;\n",
    " - `KeyError`;\n",
    " - `AttributeError`;\n",
    " - `AssertionError`."
   ]
  },
  {
   "cell_type": "code",
   "execution_count": 1,
   "metadata": {},
   "outputs": [
    {
     "ename": "NameError",
     "evalue": "name 'undefined' is not defined",
     "output_type": "error",
     "traceback": [
      "\u001b[0;31m---------------------------------------------------------------------------\u001b[0m",
      "\u001b[0;31mNameError\u001b[0m                                 Traceback (most recent call last)",
      "Cell \u001b[0;32mIn[1], line 1\u001b[0m\n\u001b[0;32m----> 1\u001b[0m undefined\n",
      "\u001b[0;31mNameError\u001b[0m: name 'undefined' is not defined"
     ]
    }
   ],
   "source": [
    "undefined"
   ]
  },
  {
   "cell_type": "code",
   "execution_count": 2,
   "metadata": {},
   "outputs": [
    {
     "ename": "ZeroDivisionError",
     "evalue": "division by zero",
     "output_type": "error",
     "traceback": [
      "\u001b[0;31m---------------------------------------------------------------------------\u001b[0m",
      "\u001b[0;31mZeroDivisionError\u001b[0m                         Traceback (most recent call last)",
      "Cell \u001b[0;32mIn[2], line 1\u001b[0m\n\u001b[0;32m----> 1\u001b[0m \u001b[39m1\u001b[39;49m\u001b[39m/\u001b[39;49m\u001b[39m0\u001b[39;49m\n",
      "\u001b[0;31mZeroDivisionError\u001b[0m: division by zero"
     ]
    }
   ],
   "source": [
    "1/0"
   ]
  },
  {
   "cell_type": "code",
   "execution_count": 3,
   "metadata": {},
   "outputs": [
    {
     "ename": "TypeError",
     "evalue": "unsupported operand type(s) for +: 'int' and 'str'",
     "output_type": "error",
     "traceback": [
      "\u001b[0;31m---------------------------------------------------------------------------\u001b[0m",
      "\u001b[0;31mTypeError\u001b[0m                                 Traceback (most recent call last)",
      "Cell \u001b[0;32mIn[3], line 1\u001b[0m\n\u001b[0;32m----> 1\u001b[0m \u001b[39m0\u001b[39;49m \u001b[39m+\u001b[39;49m \u001b[39m'\u001b[39;49m\u001b[39m0\u001b[39;49m\u001b[39m'\u001b[39;49m\n",
      "\u001b[0;31mTypeError\u001b[0m: unsupported operand type(s) for +: 'int' and 'str'"
     ]
    }
   ],
   "source": [
    "0 + '0'"
   ]
  },
  {
   "cell_type": "code",
   "execution_count": 4,
   "metadata": {},
   "outputs": [
    {
     "ename": "IndexError",
     "evalue": "list index out of range",
     "output_type": "error",
     "traceback": [
      "\u001b[0;31m---------------------------------------------------------------------------\u001b[0m",
      "\u001b[0;31mIndexError\u001b[0m                                Traceback (most recent call last)",
      "Cell \u001b[0;32mIn[4], line 2\u001b[0m\n\u001b[1;32m      1\u001b[0m L \u001b[39m=\u001b[39m []\n\u001b[0;32m----> 2\u001b[0m L[\u001b[39m0\u001b[39;49m]\n",
      "\u001b[0;31mIndexError\u001b[0m: list index out of range"
     ]
    }
   ],
   "source": [
    "L = []\n",
    "L[0]"
   ]
  },
  {
   "cell_type": "code",
   "execution_count": 5,
   "metadata": {},
   "outputs": [
    {
     "ename": "UnboundLocalError",
     "evalue": "local variable 'i' referenced before assignment",
     "output_type": "error",
     "traceback": [
      "\u001b[0;31m---------------------------------------------------------------------------\u001b[0m",
      "\u001b[0;31mUnboundLocalError\u001b[0m                         Traceback (most recent call last)",
      "Cell \u001b[0;32mIn[5], line 5\u001b[0m\n\u001b[1;32m      2\u001b[0m     i \u001b[39m=\u001b[39m i \u001b[39m+\u001b[39m \u001b[39m1\u001b[39m\n\u001b[1;32m      4\u001b[0m i \u001b[39m=\u001b[39m \u001b[39m0\u001b[39m\n\u001b[0;32m----> 5\u001b[0m f()\n",
      "Cell \u001b[0;32mIn[5], line 2\u001b[0m, in \u001b[0;36mf\u001b[0;34m()\u001b[0m\n\u001b[1;32m      1\u001b[0m \u001b[39mdef\u001b[39;00m \u001b[39mf\u001b[39m():\n\u001b[0;32m----> 2\u001b[0m     i \u001b[39m=\u001b[39m i \u001b[39m+\u001b[39m \u001b[39m1\u001b[39m\n",
      "\u001b[0;31mUnboundLocalError\u001b[0m: local variable 'i' referenced before assignment"
     ]
    }
   ],
   "source": [
    "def f():\n",
    "    i = i + 1\n",
    "\n",
    "i = 0\n",
    "f()"
   ]
  },
  {
   "cell_type": "code",
   "execution_count": 6,
   "metadata": {},
   "outputs": [
    {
     "ename": "KeyError",
     "evalue": "'not_a_key'",
     "output_type": "error",
     "traceback": [
      "\u001b[0;31m---------------------------------------------------------------------------\u001b[0m",
      "\u001b[0;31mKeyError\u001b[0m                                  Traceback (most recent call last)",
      "Cell \u001b[0;32mIn[6], line 2\u001b[0m\n\u001b[1;32m      1\u001b[0m d \u001b[39m=\u001b[39m {}\n\u001b[0;32m----> 2\u001b[0m d[\u001b[39m'\u001b[39;49m\u001b[39mnot_a_key\u001b[39;49m\u001b[39m'\u001b[39;49m]\n",
      "\u001b[0;31mKeyError\u001b[0m: 'not_a_key'"
     ]
    }
   ],
   "source": [
    "d = {}\n",
    "d['not_a_key']"
   ]
  },
  {
   "cell_type": "code",
   "execution_count": 7,
   "metadata": {},
   "outputs": [
    {
     "ename": "AttributeError",
     "evalue": "'list' object has no attribute 'attribute'",
     "output_type": "error",
     "traceback": [
      "\u001b[0;31m---------------------------------------------------------------------------\u001b[0m",
      "\u001b[0;31mAttributeError\u001b[0m                            Traceback (most recent call last)",
      "Cell \u001b[0;32mIn[7], line 2\u001b[0m\n\u001b[1;32m      1\u001b[0m L \u001b[39m=\u001b[39m []\n\u001b[0;32m----> 2\u001b[0m L\u001b[39m.\u001b[39;49mattribute\n",
      "\u001b[0;31mAttributeError\u001b[0m: 'list' object has no attribute 'attribute'"
     ]
    }
   ],
   "source": [
    "L = []\n",
    "L.attribute"
   ]
  },
  {
   "cell_type": "code",
   "execution_count": 8,
   "metadata": {},
   "outputs": [
    {
     "ename": "AssertionError",
     "evalue": "",
     "output_type": "error",
     "traceback": [
      "\u001b[0;31m---------------------------------------------------------------------------\u001b[0m",
      "\u001b[0;31mAssertionError\u001b[0m                            Traceback (most recent call last)",
      "Cell \u001b[0;32mIn[8], line 1\u001b[0m\n\u001b[0;32m----> 1\u001b[0m \u001b[39massert\u001b[39;00m \u001b[39m0\u001b[39m \u001b[39m==\u001b[39m \u001b[39m1\u001b[39m\n",
      "\u001b[0;31mAssertionError\u001b[0m: "
     ]
    }
   ],
   "source": [
    "assert 0 == 1"
   ]
  },
  {
   "cell_type": "markdown",
   "metadata": {},
   "source": [
    "------"
   ]
  },
  {
   "attachments": {},
   "cell_type": "markdown",
   "metadata": {},
   "source": [
    "A `try`-`except` statement can be used to handle errors.\n",
    "\n",
    " - In the first example below, \n",
    "   no error occurs while executing the `try` clause, \n",
    "   so the `except` clause is not executed.\n",
    "   \n",
    " - In the second example below,\n",
    "   an error occurs while executing the `try` clause.\n",
    "   \n",
    "   At this point, execution of the `try` clause stops\n",
    "   and the `except` clause is executed.\n",
    "\n",
    "`try`-`except` 语句可用于处理错误。\n",
    "\n",
    "  - 在下面的第一个例子中，\n",
    "    执行 try 子句时没有发生错误，\n",
    "    所以 `except` 子句不会被执行。\n",
    "   \n",
    "  - 在下面的第二个例子中，\n",
    "    执行 try 子句时发生错误。\n",
    "   \n",
    "    此时，`try` 子句的执行停止\n",
    "    并执行 `except` 子句。"
   ]
  },
  {
   "cell_type": "code",
   "execution_count": 9,
   "metadata": {},
   "outputs": [
    {
     "name": "stdout",
     "output_type": "stream",
     "text": [
      "Before the try-except statement.\n",
      "No errors here.\n",
      "After the try-except statement.\n"
     ]
    }
   ],
   "source": [
    "print(\"Before the try-except statement.\")\n",
    "\n",
    "try:\n",
    "    print(\"No errors here.\")\n",
    "\n",
    "except:\n",
    "    print(\"There was an error.\")\n",
    "\n",
    "print(\"After the try-except statement.\")"
   ]
  },
  {
   "cell_type": "code",
   "execution_count": 10,
   "metadata": {},
   "outputs": [
    {
     "name": "stdout",
     "output_type": "stream",
     "text": [
      "Before the try-except statement.\n",
      "Before 1/0.\n",
      "There was an error.\n",
      "After the try-except statement.\n"
     ]
    }
   ],
   "source": [
    "print(\"Before the try-except statement.\")\n",
    "\n",
    "try:\n",
    "    print(\"Before 1/0.\")\n",
    "    1/0  # bc error here, so print except\n",
    "    print(\"After 1/0.\")\n",
    "\n",
    "except:\n",
    "    print(\"There was an error.\")\n",
    "\n",
    "print(\"After the try-except statement.\")"
   ]
  },
  {
   "attachments": {},
   "cell_type": "markdown",
   "metadata": {},
   "source": [
    "-----"
   ]
  },
  {
   "attachments": {},
   "cell_type": "markdown",
   "metadata": {},
   "source": [
    "A `try`-`except` statement like the one above accepts any exception.\n",
    "\n",
    "We can be more precise about the errors which we *handle*\n",
    "(and it is encouraged that you try to be precise).\n",
    "\n",
    " - In the first example below, \n",
    "   a `ZeroDivisionError` error occurs while executing the `try` clause.\n",
    "   \n",
    "   At this point, execution of the `try` clause stops\n",
    "   and the `except` clause is executed.\n",
    "   \n",
    " - In the second example below, \n",
    "   a `TypeError` error occurs while executing the `try` clause.\n",
    "   \n",
    "   The `except` statement only handles `ZeroDivisionError`s, \n",
    "   so the exception is *raised* as it would be without the `try`-`except` statement:\n",
    "   execution halts.\n",
    "\n",
    "类似上面的 `try`-`except` 语句接受任何异常。\n",
    "\n",
    "我们可以更准确地了解我们*处理*的错误\n",
    "（我们鼓励您尽量做到精确）。\n",
    "\n",
    "  - 在下面的第一个例子中，\n",
    "    执行 try 子句时发生 `ZeroDivisionError` 错误。\n",
    "   \n",
    "    此时，`try` 子句的执行停止\n",
    "    并执行 `except` 子句。\n",
    "   \n",
    "  - 在下面的第二个例子中，\n",
    "    执行 try 子句时发生 TypeError 错误。\n",
    "   \n",
    "    `except` 语句只处理 `ZeroDivisionError`，\n",
    "    所以异常被 *raised* 就像没有 `try`-`except` 语句一样：\n",
    "    执行停止。"
   ]
  },
  {
   "cell_type": "code",
   "execution_count": 11,
   "metadata": {},
   "outputs": [
    {
     "name": "stdout",
     "output_type": "stream",
     "text": [
      "Before the try-except statement.\n",
      "Before 1/0.\n",
      "There was an error.\n",
      "After the try-except statement.\n"
     ]
    }
   ],
   "source": [
    "print(\"Before the try-except statement.\")\n",
    "\n",
    "try:\n",
    "    print(\"Before 1/0.\")\n",
    "    1/0\n",
    "    print(\"After 1/0.\")\n",
    "\n",
    "except ZeroDivisionError:\n",
    "    print(\"There was an error.\")\n",
    "\n",
    "print(\"After the try-except statement.\")"
   ]
  },
  {
   "cell_type": "code",
   "execution_count": 12,
   "metadata": {},
   "outputs": [
    {
     "name": "stdout",
     "output_type": "stream",
     "text": [
      "Before the try-except statement.\n",
      "Before 0 + '0'.\n"
     ]
    },
    {
     "ename": "TypeError",
     "evalue": "unsupported operand type(s) for +: 'int' and 'str'",
     "output_type": "error",
     "traceback": [
      "\u001b[0;31m---------------------------------------------------------------------------\u001b[0m",
      "\u001b[0;31mTypeError\u001b[0m                                 Traceback (most recent call last)",
      "Cell \u001b[0;32mIn[12], line 5\u001b[0m\n\u001b[1;32m      3\u001b[0m \u001b[39mtry\u001b[39;00m:\n\u001b[1;32m      4\u001b[0m     \u001b[39mprint\u001b[39m(\u001b[39m\"\u001b[39m\u001b[39mBefore 0 + \u001b[39m\u001b[39m'\u001b[39m\u001b[39m0\u001b[39m\u001b[39m'\u001b[39m\u001b[39m.\u001b[39m\u001b[39m\"\u001b[39m)\n\u001b[0;32m----> 5\u001b[0m     \u001b[39m0\u001b[39;49m \u001b[39m+\u001b[39;49m \u001b[39m'\u001b[39;49m\u001b[39m0\u001b[39;49m\u001b[39m'\u001b[39;49m\n\u001b[1;32m      6\u001b[0m     \u001b[39mprint\u001b[39m(\u001b[39m\"\u001b[39m\u001b[39mAfter 0 + \u001b[39m\u001b[39m'\u001b[39m\u001b[39m0\u001b[39m\u001b[39m'\u001b[39m\u001b[39m.\u001b[39m\u001b[39m\"\u001b[39m)\n\u001b[1;32m      8\u001b[0m \u001b[39mexcept\u001b[39;00m \u001b[39mZeroDivisionError\u001b[39;00m:\n",
      "\u001b[0;31mTypeError\u001b[0m: unsupported operand type(s) for +: 'int' and 'str'"
     ]
    }
   ],
   "source": [
    "print(\"Before the try-except statement.\")\n",
    "\n",
    "try:\n",
    "    print(\"Before 0 + '0'.\")\n",
    "    0 + '0'  # Type error: int + 'str'\n",
    "    print(\"After 0 + '0'.\")\n",
    "\n",
    "except ZeroDivisionError:\n",
    "    print(\"There was an error.\")\n",
    "\n",
    "print(\"After the try-except statement.\")"
   ]
  },
  {
   "cell_type": "markdown",
   "metadata": {},
   "source": [
    "We can handle multiple types of exception."
   ]
  },
  {
   "cell_type": "code",
   "execution_count": 13,
   "metadata": {},
   "outputs": [
    {
     "name": "stdout",
     "output_type": "stream",
     "text": [
      "Before the try-except statement.\n",
      "Before 0 + '0'.\n",
      "There was an error.\n",
      "After the try-except statement.\n"
     ]
    }
   ],
   "source": [
    "print(\"Before the try-except statement.\")\n",
    "\n",
    "try:\n",
    "    print(\"Before 0 + '0'.\")\n",
    "    0 + '0'\n",
    "    print(\"After 0 + '0'.\")\n",
    "\n",
    "except (ZeroDivisionError, TypeError):\n",
    "    print(\"There was an error.\")\n",
    "\n",
    "print(\"After the try-except statement.\")"
   ]
  },
  {
   "cell_type": "markdown",
   "metadata": {},
   "source": [
    "We can handle different exceptions differently using multiple `except` clauses."
   ]
  },
  {
   "cell_type": "code",
   "execution_count": 14,
   "metadata": {},
   "outputs": [
    {
     "name": "stdout",
     "output_type": "stream",
     "text": [
      "Before the try-except statement.\n",
      "Before 1/0.\n",
      "There was a ZeroDivisionError.\n",
      "After the try-except statement.\n"
     ]
    }
   ],
   "source": [
    "print(\"Before the try-except statement.\")\n",
    "\n",
    "try:\n",
    "    print(\"Before 1/0.\")\n",
    "    1/0\n",
    "    print(\"After 1/0.\")\n",
    "\n",
    "except ZeroDivisionError:\n",
    "    print(\"There was a ZeroDivisionError.\")\n",
    "\n",
    "except TypeError:\n",
    "    print(\"There was a TypeError.\")\n",
    "\n",
    "print(\"After the try-except statement.\")"
   ]
  },
  {
   "cell_type": "code",
   "execution_count": 15,
   "metadata": {},
   "outputs": [
    {
     "name": "stdout",
     "output_type": "stream",
     "text": [
      "Before the try-except statement.\n",
      "Before 0 + '0'.\n",
      "There was a TypeError.\n",
      "After the try-except statement.\n"
     ]
    }
   ],
   "source": [
    "print(\"Before the try-except statement.\")\n",
    "\n",
    "try:\n",
    "    print(\"Before 0 + '0'.\")\n",
    "    0 + '0'\n",
    "    print(\"After 0 + '0'.\")\n",
    "\n",
    "except ZeroDivisionError:\n",
    "    print(\"There was a ZeroDivisionError.\")\n",
    "\n",
    "except TypeError:\n",
    "    print(\"There was a TypeError.\")\n",
    "\n",
    "print(\"After the try-except statement.\")"
   ]
  },
  {
   "attachments": {},
   "cell_type": "markdown",
   "metadata": {},
   "source": [
    "The Python tutorial says, \n",
    "\n",
    "\"A `try` statement may have more than one `except` clause, \n",
    "\n",
    "to specify handlers for different exceptions.\" \n",
    "\n",
    "We have just seen this.\n",
    "\n",
    "Python教程说，\n",
    "\n",
    "“一个 try 语句可能有多个 except 子句，\n",
    "\n",
    "为不同的异常指定处理程序。”\n",
    "\n",
    "我们刚刚看到了这一点。"
   ]
  },
  {
   "attachments": {},
   "cell_type": "markdown",
   "metadata": {},
   "source": [
    "It goes on to say, \"At most one handler will be executed. \n",
    "\n",
    "Handlers only handle exceptions that occur in the corresponding `try` clause, \n",
    "\n",
    "not in other handlers of the same `try` statement.\"\n",
    "\n",
    "Here's an example of what it's talking about: \n",
    "\n",
    "the `TypeError` created in the first `except` clause is NOT handled by the second `except` clause.\n",
    "\n",
    "它接着说，“最多将执行一个处理程序。\n",
    "\n",
    "处理程序只处理相应的 try 子句中发生的异常，\n",
    "\n",
    "不在同一 `try` 语句的其他处理程序中。”\n",
    "\n",
    "这是它正在谈论的一个例子：\n",
    "\n",
    "在第一个 except 子句中创建的 TypeError 不会由第二个 except 子句处理。"
   ]
  },
  {
   "cell_type": "code",
   "execution_count": 1,
   "metadata": {},
   "outputs": [
    {
     "name": "stdout",
     "output_type": "stream",
     "text": [
      "Before the try-except statement.\n",
      "Before 1/0.\n",
      "There was a ZeroDivisionError.\n",
      "Before 0 + '0'.\n"
     ]
    },
    {
     "ename": "TypeError",
     "evalue": "unsupported operand type(s) for +: 'int' and 'str'",
     "output_type": "error",
     "traceback": [
      "\u001b[0;31m---------------------------------------------------------------------------\u001b[0m",
      "\u001b[0;31mZeroDivisionError\u001b[0m                         Traceback (most recent call last)",
      "Cell \u001b[0;32mIn[1], line 5\u001b[0m\n\u001b[1;32m      4\u001b[0m \u001b[39mprint\u001b[39m(\u001b[39m\"\u001b[39m\u001b[39mBefore 1/0.\u001b[39m\u001b[39m\"\u001b[39m)\n\u001b[0;32m----> 5\u001b[0m \u001b[39m1\u001b[39;49m\u001b[39m/\u001b[39;49m\u001b[39m0\u001b[39;49m\n\u001b[1;32m      6\u001b[0m \u001b[39mprint\u001b[39m(\u001b[39m\"\u001b[39m\u001b[39mAfter 1/0.\u001b[39m\u001b[39m\"\u001b[39m)\n",
      "\u001b[0;31mZeroDivisionError\u001b[0m: division by zero",
      "\nDuring handling of the above exception, another exception occurred:\n",
      "\u001b[0;31mTypeError\u001b[0m                                 Traceback (most recent call last)",
      "Cell \u001b[0;32mIn[1], line 12\u001b[0m\n\u001b[1;32m      9\u001b[0m     \u001b[39mprint\u001b[39m(\u001b[39m\"\u001b[39m\u001b[39mThere was a ZeroDivisionError.\u001b[39m\u001b[39m\"\u001b[39m)\n\u001b[1;32m     11\u001b[0m     \u001b[39mprint\u001b[39m(\u001b[39m\"\u001b[39m\u001b[39mBefore 0 + \u001b[39m\u001b[39m'\u001b[39m\u001b[39m0\u001b[39m\u001b[39m'\u001b[39m\u001b[39m.\u001b[39m\u001b[39m\"\u001b[39m)  \n\u001b[0;32m---> 12\u001b[0m     \u001b[39m0\u001b[39;49m \u001b[39m+\u001b[39;49m \u001b[39m'\u001b[39;49m\u001b[39m0\u001b[39;49m\u001b[39m'\u001b[39;49m  \u001b[39m# During handling of the \u001b[39;00m\n\u001b[1;32m     13\u001b[0m     \u001b[39mprint\u001b[39m(\u001b[39m\"\u001b[39m\u001b[39mAfter 0 + \u001b[39m\u001b[39m'\u001b[39m\u001b[39m0\u001b[39m\u001b[39m'\u001b[39m\u001b[39m.\u001b[39m\u001b[39m\"\u001b[39m)\n\u001b[1;32m     15\u001b[0m \u001b[39mexcept\u001b[39;00m \u001b[39mTypeError\u001b[39;00m:\n",
      "\u001b[0;31mTypeError\u001b[0m: unsupported operand type(s) for +: 'int' and 'str'"
     ]
    }
   ],
   "source": [
    "print(\"Before the try-except statement.\")\n",
    "\n",
    "try:\n",
    "    print(\"Before 1/0.\")\n",
    "    1/0\n",
    "    print(\"After 1/0.\")\n",
    "\n",
    "except ZeroDivisionError:\n",
    "    print(\"There was a ZeroDivisionError.\")\n",
    "\n",
    "    print(\"Before 0 + '0'.\")  \n",
    "    0 + '0'  # During handling of the above exception, type error exception occurred.\n",
    "    print(\"After 0 + '0'.\")\n",
    "\n",
    "except TypeError:\n",
    "    print(\"There was a TypeError.\")\n",
    "\n",
    "print(\"After the try-except statement.\")"
   ]
  },
  {
   "attachments": {},
   "cell_type": "markdown",
   "metadata": {},
   "source": [
    "A good coding practice is to try to predict what errors might arise, \n",
    "and to use `except` without a specific exception fleetingly.\n",
    "\n",
    "Alternatively, you could use `except` without a specific exception,\n",
    "print some message, and then re-raise the exception using the `raise` keyword.\n",
    "\n",
    "一个好的编码习惯是尝试预测可能出现的错误，\n",
    "并在没有特定异常的情况下快速使用 `except`。\n",
    "\n",
    "或者，您可以在没有特定异常的情况下使用 `except`，\n",
    "打印一些消息，然后使用 `raise` 关键字重新引发异常。"
   ]
  },
  {
   "cell_type": "code",
   "execution_count": 2,
   "metadata": {},
   "outputs": [
    {
     "name": "stdout",
     "output_type": "stream",
     "text": [
      "Before the try-except statement.\n",
      "Before assert 0 == 1 .\n",
      "An error I did not predict occurred.\n"
     ]
    },
    {
     "ename": "AssertionError",
     "evalue": "",
     "output_type": "error",
     "traceback": [
      "\u001b[0;31m---------------------------------------------------------------------------\u001b[0m",
      "\u001b[0;31mAssertionError\u001b[0m                            Traceback (most recent call last)",
      "Cell \u001b[0;32mIn[2], line 5\u001b[0m\n\u001b[1;32m      3\u001b[0m \u001b[39mtry\u001b[39;00m:\n\u001b[1;32m      4\u001b[0m     \u001b[39mprint\u001b[39m(\u001b[39m\"\u001b[39m\u001b[39mBefore assert 0 == 1 .\u001b[39m\u001b[39m\"\u001b[39m)\n\u001b[0;32m----> 5\u001b[0m     \u001b[39massert\u001b[39;00m \u001b[39m0\u001b[39m \u001b[39m==\u001b[39m \u001b[39m1\u001b[39m\n\u001b[1;32m      6\u001b[0m     \u001b[39mprint\u001b[39m(\u001b[39m\"\u001b[39m\u001b[39mAfter assert 0 == 1.\u001b[39m\u001b[39m\"\u001b[39m)\n\u001b[1;32m      8\u001b[0m \u001b[39mexcept\u001b[39;00m \u001b[39mZeroDivisionError\u001b[39;00m:\n",
      "\u001b[0;31mAssertionError\u001b[0m: "
     ]
    }
   ],
   "source": [
    "print(\"Before the try-except statement.\")\n",
    "\n",
    "try:\n",
    "    print(\"Before assert 0 == 1 .\")\n",
    "    assert 0 == 1\n",
    "    print(\"After assert 0 == 1.\")\n",
    "\n",
    "except ZeroDivisionError:\n",
    "    print(\"There was a ZeroDivisionError.\")\n",
    "\n",
    "except TypeError:\n",
    "    print(\"There was a TypeError.\")\n",
    "\n",
    "except:\n",
    "    print(\"An error I did not predict occurred.\")\n",
    "    raise\n",
    "\n",
    "print(\"After the try-except statement.\")"
   ]
  },
  {
   "attachments": {},
   "cell_type": "markdown",
   "metadata": {},
   "source": [
    "`try` clauses can be nested.\n",
    "\n",
    " - In the first example below, the inner `try`-`except` statement handles the exception.\n",
    " - In the second example, the inner `try`-`except` statement cannot handle the exception,\n",
    " \n",
    "   so it is passed to the outer `try`-`except` statement,\n",
    "   and `\"After inner try-except statement.\"` is never printed.\n",
    "\n",
    "`try` 子句可以嵌套。\n",
    "\n",
    "  - 在下面的第一个示例中，内部 `try`-`except` 语句处理异常。\n",
    "  - 在第二个例子中，内部的 `try`-`except` 语句无法处理异常，\n",
    " \n",
    "    所以它被传递给外部的`try`-`except`语句，\n",
    "    并且永远不会打印“在内部 try-except 语句之后。”。"
   ]
  },
  {
   "cell_type": "code",
   "execution_count": 5,
   "metadata": {},
   "outputs": [
    {
     "name": "stdout",
     "output_type": "stream",
     "text": [
      "Before outer try-except statement.\n",
      "Before inner try-except statement.\n",
      "Before 1/0.\n",
      "There was a ZeroDivisionError.\n",
      "After inner try-except statement.\n",
      "After outer try-except statement.\n"
     ]
    }
   ],
   "source": [
    "print(\"Before outer try-except statement.\")\n",
    "\n",
    "try:\n",
    "    print(\"Before inner try-except statement.\")\n",
    "\n",
    "    try:\n",
    "        print(\"Before 1/0.\")\n",
    "        1/0\n",
    "        print(\"After 1/0.\")\n",
    "\n",
    "    except ZeroDivisionError:\n",
    "        print(\"There was a ZeroDivisionError.\")\n",
    "\n",
    "    print(\"After inner try-except statement.\")\n",
    "\n",
    "except TypeError:\n",
    "    print(\"There was a TypeError.\")\n",
    "\n",
    "print(\"After outer try-except statement.\")"
   ]
  },
  {
   "cell_type": "code",
   "execution_count": 19,
   "metadata": {},
   "outputs": [
    {
     "name": "stdout",
     "output_type": "stream",
     "text": [
      "Before outer try-except statement.\n",
      "Before inner try-except statement.\n",
      "Before 0 + '0'.\n",
      "There was a TypeError.\n",
      "After outer try-except statement.\n"
     ]
    }
   ],
   "source": [
    "print(\"Before outer try-except statement.\")\n",
    "\n",
    "try:\n",
    "    print(\"Before inner try-except statement.\")\n",
    "\n",
    "    try:\n",
    "        print(\"Before 0 + '0'.\")\n",
    "        0 + '0'\n",
    "        print(\"After 0 + '0'.\")\n",
    "\n",
    "    except ZeroDivisionError:\n",
    "        print(\"There was a ZeroDivisionError.\")\n",
    "\n",
    "    print(\"After inner try-except statement.\")\n",
    "\n",
    "except TypeError:\n",
    "    print(\"There was a TypeError.\")\n",
    "\n",
    "print(\"After outer try-except statement.\")"
   ]
  },
  {
   "cell_type": "markdown",
   "metadata": {},
   "source": [
    "`try`-`except` statements also support an `else` clause. \n",
    "Here's an example."
   ]
  },
  {
   "cell_type": "code",
   "execution_count": 20,
   "metadata": {},
   "outputs": [
    {
     "name": "stdout",
     "output_type": "stream",
     "text": [
      "Cannot open file.txt\n"
     ]
    }
   ],
   "source": [
    "filename = 'file.txt' \n",
    "\n",
    "try:\n",
    "    f = open(filename, encoding='utf-8')\n",
    "    \n",
    "except OSError:\n",
    "    # OSError allows for FileExistsError, FileNotFoundError, PermissionError\n",
    "    # https://docs.python.org/3/library/exceptions.html#exception-hierarchy\n",
    "\n",
    "    print('Cannot open', filename)\n",
    "    \n",
    "else:\n",
    "    print(\"read the file\")"
   ]
  },
  {
   "attachments": {},
   "cell_type": "markdown",
   "metadata": {},
   "source": [
    "They also support a `finally` clause. \n",
    "Ignoring `break`, `continue` and `return` statements, here is the functionality of `finally`.\n",
    "\n",
    " - When the `try`-`except` results in no errors left unhandled, \n",
    "   the `finally` clause is executed last.\n",
    " - When there is an unhandled exception, \n",
    "   the `finally` statement is executed just before the exception is raised.\n",
    " \n",
    "他们还支持 `finally` 子句。\n",
    "忽略 `break`、`continue` 和 `return` 语句，这里是 `finally` 的功能。\n",
    "\n",
    "  - 当 `try`-`except` 导致没有未处理的错误时，\n",
    "    `finally` 子句最后执行。\n",
    "  - 当出现未处理的异常时，\n",
    "    `finally` 语句在引发异常之前执行。\n",
    "    \n",
    "This example is lifted straight from the Python tutorial."
   ]
  },
  {
   "cell_type": "code",
   "execution_count": 1,
   "metadata": {},
   "outputs": [],
   "source": [
    "def divide(x, y):\n",
    "    try:\n",
    "        result = x / y\n",
    "    \n",
    "    except ZeroDivisionError:\n",
    "        print(\"You tried to divide by zero.\")\n",
    "    \n",
    "    else:\n",
    "        print(\"Result is\", result)\n",
    "        \n",
    "    finally:\n",
    "        print(\"Executing finally clause.\")"
   ]
  },
  {
   "cell_type": "code",
   "execution_count": 2,
   "metadata": {},
   "outputs": [
    {
     "name": "stdout",
     "output_type": "stream",
     "text": [
      "Result is 0.5\n",
      "Executing finally clause.\n",
      "\n",
      "You tried to divide by zero.\n",
      "Executing finally clause.\n",
      "\n",
      "Executing finally clause.\n"
     ]
    },
    {
     "ename": "TypeError",
     "evalue": "unsupported operand type(s) for /: 'str' and 'str'",
     "output_type": "error",
     "traceback": [
      "\u001b[0;31m---------------------------------------------------------------------------\u001b[0m",
      "\u001b[0;31mTypeError\u001b[0m                                 Traceback (most recent call last)",
      "Cell \u001b[0;32mIn[2], line 7\u001b[0m\n\u001b[1;32m      4\u001b[0m divide(\u001b[39m1\u001b[39m,\u001b[39m0\u001b[39m)\n\u001b[1;32m      5\u001b[0m \u001b[39mprint\u001b[39m(\u001b[39m'\u001b[39m\u001b[39m'\u001b[39m)\n\u001b[0;32m----> 7\u001b[0m divide(\u001b[39m'\u001b[39;49m\u001b[39m1\u001b[39;49m\u001b[39m'\u001b[39;49m,\u001b[39m'\u001b[39;49m\u001b[39m1\u001b[39;49m\u001b[39m'\u001b[39;49m)\n",
      "Cell \u001b[0;32mIn[1], line 3\u001b[0m, in \u001b[0;36mdivide\u001b[0;34m(x, y)\u001b[0m\n\u001b[1;32m      1\u001b[0m \u001b[39mdef\u001b[39;00m \u001b[39mdivide\u001b[39m(x, y):\n\u001b[1;32m      2\u001b[0m     \u001b[39mtry\u001b[39;00m:\n\u001b[0;32m----> 3\u001b[0m         result \u001b[39m=\u001b[39m x \u001b[39m/\u001b[39;49m y\n\u001b[1;32m      5\u001b[0m     \u001b[39mexcept\u001b[39;00m \u001b[39mZeroDivisionError\u001b[39;00m:\n\u001b[1;32m      6\u001b[0m         \u001b[39mprint\u001b[39m(\u001b[39m\"\u001b[39m\u001b[39mYou tried to divide by zero.\u001b[39m\u001b[39m\"\u001b[39m)\n",
      "\u001b[0;31mTypeError\u001b[0m: unsupported operand type(s) for /: 'str' and 'str'"
     ]
    }
   ],
   "source": [
    "divide(1,2)\n",
    "print('')\n",
    "\n",
    "divide(1,0)\n",
    "print('')\n",
    "\n",
    "divide('1','1')  # type error"
   ]
  },
  {
   "cell_type": "markdown",
   "metadata": {},
   "source": [
    "\"In real world applications, \n",
    "the `finally` clause is useful for releasing external resources \n",
    "(such as files or network connections), \n",
    "regardless of whether the use of the resource was successful.\""
   ]
  },
  {
   "cell_type": "markdown",
   "metadata": {},
   "source": [
    "# `raise`, user-defined exceptions"
   ]
  },
  {
   "cell_type": "markdown",
   "metadata": {},
   "source": [
    "It is possible to raise exceptions directly using the `raise` keyword."
   ]
  },
  {
   "cell_type": "code",
   "execution_count": 23,
   "metadata": {},
   "outputs": [
    {
     "ename": "NameError",
     "evalue": "",
     "output_type": "error",
     "traceback": [
      "\u001b[0;31m---------------------------------------------------------------------------\u001b[0m",
      "\u001b[0;31mNameError\u001b[0m                                 Traceback (most recent call last)",
      "Cell \u001b[0;32mIn[23], line 1\u001b[0m\n\u001b[0;32m----> 1\u001b[0m \u001b[39mraise\u001b[39;00m \u001b[39mNameError\u001b[39;00m\n",
      "\u001b[0;31mNameError\u001b[0m: "
     ]
    }
   ],
   "source": [
    "raise NameError # the same as raise NameError()"
   ]
  },
  {
   "cell_type": "markdown",
   "metadata": {},
   "source": [
    "We can also give `NameError` an argument for it to print."
   ]
  },
  {
   "cell_type": "code",
   "execution_count": 24,
   "metadata": {},
   "outputs": [
    {
     "ename": "NameError",
     "evalue": "PIC16A",
     "output_type": "error",
     "traceback": [
      "\u001b[0;31m---------------------------------------------------------------------------\u001b[0m",
      "\u001b[0;31mNameError\u001b[0m                                 Traceback (most recent call last)",
      "Cell \u001b[0;32mIn[24], line 1\u001b[0m\n\u001b[0;32m----> 1\u001b[0m \u001b[39mraise\u001b[39;00m \u001b[39mNameError\u001b[39;00m(\u001b[39m\"\u001b[39m\u001b[39mPIC16A\u001b[39m\u001b[39m\"\u001b[39m)\n",
      "\u001b[0;31mNameError\u001b[0m: PIC16A"
     ]
    }
   ],
   "source": [
    "raise NameError(\"PIC16A\")"
   ]
  },
  {
   "cell_type": "markdown",
   "metadata": {},
   "source": [
    "Other than being useful to `raise` genuine errors, \n",
    "raising our own exceptions allows us to test our `try`-`except` statements."
   ]
  },
  {
   "cell_type": "code",
   "execution_count": 25,
   "metadata": {},
   "outputs": [
    {
     "name": "stdout",
     "output_type": "stream",
     "text": [
      "We handled the NameError that we just raised.\n"
     ]
    }
   ],
   "source": [
    "try:\n",
    "    raise NameError\n",
    "\n",
    "except NameError:\n",
    "    print(\"We handled the NameError that we just raised.\")"
   ]
  },
  {
   "cell_type": "markdown",
   "metadata": {},
   "source": [
    "If we make a new class (or module), we may want to raise our own exceptions.\n",
    "\n",
    "To make a new exception, we write a class which inherits from `Exception`."
   ]
  },
  {
   "cell_type": "code",
   "execution_count": 26,
   "metadata": {},
   "outputs": [],
   "source": [
    "class MyException(Exception):\n",
    "    pass"
   ]
  },
  {
   "cell_type": "code",
   "execution_count": 27,
   "metadata": {},
   "outputs": [
    {
     "ename": "MyException",
     "evalue": "My Message.",
     "output_type": "error",
     "traceback": [
      "\u001b[0;31m---------------------------------------------------------------------------\u001b[0m",
      "\u001b[0;31mMyException\u001b[0m                               Traceback (most recent call last)",
      "Cell \u001b[0;32mIn[27], line 1\u001b[0m\n\u001b[0;32m----> 1\u001b[0m \u001b[39mraise\u001b[39;00m MyException(\u001b[39m\"\u001b[39m\u001b[39mMy Message.\u001b[39m\u001b[39m\"\u001b[39m)\n",
      "\u001b[0;31mMyException\u001b[0m: My Message."
     ]
    }
   ],
   "source": [
    "raise MyException(\"My Message.\")"
   ]
  },
  {
   "cell_type": "code",
   "execution_count": 28,
   "metadata": {},
   "outputs": [
    {
     "name": "stdout",
     "output_type": "stream",
     "text": [
      "We handled the MyException that we just raised.\n"
     ]
    }
   ],
   "source": [
    "try:\n",
    "    raise MyException\n",
    "\n",
    "except MyException:\n",
    "    print(\"We handled the MyException that we just raised.\")"
   ]
  },
  {
   "attachments": {},
   "cell_type": "markdown",
   "metadata": {},
   "source": [
    "We can override `__init__` and `__str__` for our exceptions to make them more useful.\n",
    "\n",
    "Here is a exception that demonstrates functionality."
   ]
  },
  {
   "cell_type": "code",
   "execution_count": 3,
   "metadata": {},
   "outputs": [],
   "source": [
    "class MyException(Exception):\n",
    "    def __init__(self, i, j):\n",
    "        self.i = i\n",
    "        self.j = j\n",
    "    \n",
    "    def __str__(self):\n",
    "        s = 'A custom message for MyException: '\n",
    "        s += repr(self.i) + ' * ' + repr(self.j) + ' = ' + repr(self.i * self.j)\n",
    "        return s"
   ]
  },
  {
   "cell_type": "code",
   "execution_count": 30,
   "metadata": {},
   "outputs": [
    {
     "ename": "MyException",
     "evalue": "A custom message for MyException: 2 * 4 = 8",
     "output_type": "error",
     "traceback": [
      "\u001b[0;31m---------------------------------------------------------------------------\u001b[0m",
      "\u001b[0;31mMyException\u001b[0m                               Traceback (most recent call last)",
      "Cell \u001b[0;32mIn[30], line 1\u001b[0m\n\u001b[0;32m----> 1\u001b[0m \u001b[39mraise\u001b[39;00m MyException(\u001b[39m2\u001b[39m, \u001b[39m4\u001b[39m)\n",
      "\u001b[0;31mMyException\u001b[0m: A custom message for MyException: 2 * 4 = 8"
     ]
    }
   ],
   "source": [
    "raise MyException(2, 4)"
   ]
  },
  {
   "cell_type": "markdown",
   "metadata": {},
   "source": [
    "Notice the message printed out."
   ]
  },
  {
   "attachments": {},
   "cell_type": "markdown",
   "metadata": {},
   "source": [
    "We can now understand the syntax a little better.\n",
    "\n",
    "When we type `raise NameError` this is shorthand for `raise NameError()`, \n",
    "\n",
    "which is really creating an instance of a class which inherits from `Exception`.\n",
    "\n",
    "我们现在可以更好地理解语法了。\n",
    "\n",
    "当我们输入 `raise NameError` 时，这是 `raise NameError()` 的简写，\n",
    "\n",
    "这实际上是在创建一个继承自 Exception 的类的实例。"
   ]
  },
  {
   "attachments": {},
   "cell_type": "markdown",
   "metadata": {},
   "source": [
    "When we handle an exception (an instance of a class which inherits from `Exception`), \n",
    "\n",
    "we can assign it to a variable using the syntax `except MyException as ...`\n",
    "\n",
    "当我们处理异常（继承自 Exception 的类的实例）时，\n",
    "\n",
    "我们可以使用语法 `except MyException as ...` 将它分配给一个变量"
   ]
  },
  {
   "cell_type": "code",
   "execution_count": 4,
   "metadata": {},
   "outputs": [
    {
     "name": "stdout",
     "output_type": "stream",
     "text": [
      "e.i == 2\n",
      "e.j == 4\n",
      "A custom message for MyException: 2 * 4 = 8\n"
     ]
    }
   ],
   "source": [
    "try:\n",
    "    raise MyException(2, 4)\n",
    "\n",
    "except MyException as e:\n",
    "    print(\"e.i ==\", e.i)\n",
    "    print(\"e.j ==\", e.j)\n",
    "    print(e)"
   ]
  },
  {
   "cell_type": "code",
   "execution_count": 3,
   "metadata": {},
   "outputs": [
    {
     "name": "stdout",
     "output_type": "stream",
     "text": [
      "1\n",
      "B\n",
      "2\n",
      "C\n",
      "3\n",
      "D\n"
     ]
    }
   ],
   "source": [
    "class B(Exception):\n",
    "    pass\n",
    "\n",
    "class C(B):\n",
    "    pass\n",
    "\n",
    "class D(C):\n",
    "    pass\n",
    "\n",
    "i = 0\n",
    "for cls in [B, C, D]:\n",
    "    try:\n",
    "        i+=1\n",
    "        print(i)\n",
    "        raise cls\n",
    "\n",
    "    except D:\n",
    "        print('D')\n",
    "\n",
    "    except C:\n",
    "        print('C')\n",
    "\n",
    "    except B:\n",
    "        print('B')"
   ]
  },
  {
   "cell_type": "code",
   "execution_count": 7,
   "metadata": {},
   "outputs": [
    {
     "name": "stdout",
     "output_type": "stream",
     "text": [
      "1\n",
      "B\n",
      "2\n",
      "B\n",
      "3\n",
      "B\n"
     ]
    }
   ],
   "source": [
    "class B(Exception):\n",
    "    pass\n",
    "\n",
    "class C(B):\n",
    "    pass\n",
    "\n",
    "class D(C):\n",
    "    pass\n",
    "\n",
    "i = 0\n",
    "for cls in [B, C, D]:\n",
    "    try:\n",
    "        i+=1\n",
    "        print(i)\n",
    "        raise cls\n",
    "\n",
    "    except B:\n",
    "        print('B')  # 抛异常时, 被父类接收则不进行执行子类\n",
    "\n",
    "    except C:\n",
    "        print('C')\n",
    "\n",
    "    except D:\n",
    "        print('D')"
   ]
  },
  {
   "attachments": {},
   "cell_type": "markdown",
   "metadata": {},
   "source": [
    "------------\n",
    "## Example\n",
    "\n",
    "-----------"
   ]
  },
  {
   "cell_type": "markdown",
   "metadata": {},
   "source": [
    "Here's some code I wrote when I first learned about exceptions.\n",
    "\n",
    "My goal was to make a class that can perform modular arithmetic.\n",
    "`https://en.wikipedia.org/wiki/Modular_arithmetic`\n",
    "\n",
    "Working modulo `24` is what we do when we work in the `24` hour format:\n",
    " - `11 + 17 = 4` (modulo `24`);\n",
    " - `3 - 11 = 16` (modulo `24`);\n",
    " - `5 * 9 = 21` (modulo `24`).\n",
    "\n",
    "Division is most complicated. Modulo `24` we can divide by \n",
    "`1`, `5`, `7`, `11`, `13`, `17`, `19`, `23`. \n",
    "\n",
    "We cannot divide by `8` because:\n",
    " - `8 * 0 = 0` (modulo `24`);\n",
    " - `8 * 3 = 0` (modulo `24`);\n",
    " - `8 * 6 = 0` (modulo `24`);\n",
    " - `...`\n",
    " - `8 * 21 = 0` (modulo `24`).\n",
    "\n",
    "I made my own exception so that when you try to do illegal divisions it explains why it is not allowed.\n",
    "\n",
    "Rather than understand the math, I'd just run the code to see what it does."
   ]
  },
  {
   "cell_type": "code",
   "execution_count": 6,
   "metadata": {},
   "outputs": [],
   "source": [
    "def extended_Euclidean_algorithm(m, n):\n",
    "    # https://en.wikipedia.org/wiki/Extended_Euclidean_algorithm\n",
    "\n",
    "    r_prev, r_next = m, n\n",
    "    s_prev, s_next = 1, 0\n",
    "\n",
    "    while r_next != 0:\n",
    "        q = r_prev // r_next\n",
    "\n",
    "        r_prev, r_next = r_next, r_prev - q * r_next\n",
    "        s_prev, s_next = s_next, s_prev - q * s_next\n",
    "\n",
    "    return r_prev, s_prev\n",
    "\n",
    "\n",
    "class UnitError(Exception):\n",
    "    def __init__(self, m, n, r, s):\n",
    "        self.m = m\n",
    "        self.n = n\n",
    "        self.r = r\n",
    "        self.s = s\n",
    "        self.t = (r - s * m) // n\n",
    "\n",
    "    def __str__(self):\n",
    "        s = ''\n",
    "\n",
    "        s += repr(self.m) + ' is not a unit modulo ' + repr(self.n) + ' because '\n",
    "        s += \"gcd(\" + repr(self.m) + ', ' + repr(self.n) + ') = ' + repr(self.r) + ' != 1.\\n'\n",
    "        \n",
    "        s += 'Moreover, the extended Euclidean algorithm gives '        \n",
    "        s += repr(self.s) + ' * ' + repr(self.m) + ' + ' + repr(self.t) + ' * ' + repr(self.n)\n",
    "        s += ' = ' + repr(self.r) + '.'\n",
    "\n",
    "        return s\n",
    "\n",
    "\n",
    "def multiplicative_inverse_mod_n(m, n):\n",
    "    r, s = extended_Euclidean_algorithm(m, n)\n",
    "\n",
    "    if r != 1:\n",
    "        raise UnitError(m, n, r, s)\n",
    "\n",
    "    return s % n\n",
    "\n",
    "\n",
    "class Mod:\n",
    "    n = None # the modulus\n",
    "\n",
    "    def __init__(self, i):\n",
    "        self.i = (i % Mod.n)\n",
    "\n",
    "    def __repr__(self):\n",
    "        return 'Mod(' + repr(self.i) + ')'\n",
    "    \n",
    "    def __eq__(self, other):\n",
    "        return self.i == other.i\n",
    "\n",
    "    def __add__(self, other):\n",
    "        return Mod(self.i + other.i)\n",
    "\n",
    "    def __sub__(self, other):\n",
    "        return Mod(self.i - other.i)\n",
    "\n",
    "    def __mul__(self, other):\n",
    "        return Mod(self.i * other.i)\n",
    "\n",
    "    def __truediv__(self, other):\n",
    "        return Mod(self.i * multiplicative_inverse_mod_n(other.i, Mod.n))"
   ]
  },
  {
   "cell_type": "code",
   "execution_count": 7,
   "metadata": {},
   "outputs": [
    {
     "name": "stdout",
     "output_type": "stream",
     "text": [
      "Mod(11) + Mod(17) == Mod(4)\n",
      "Mod(3) - Mod(11) == Mod(16)\n",
      "Mod(5) * Mod(9) == Mod(21)\n"
     ]
    }
   ],
   "source": [
    "Mod.n = 24\n",
    "print('Mod(11) + Mod(17) ==', Mod(11) + Mod(17))\n",
    "print('Mod(3) - Mod(11) ==', Mod(3) - Mod(11))\n",
    "print('Mod(5) * Mod(9) ==', Mod(5) * Mod(9))"
   ]
  },
  {
   "cell_type": "code",
   "execution_count": 35,
   "metadata": {},
   "outputs": [
    {
     "name": "stdout",
     "output_type": "stream",
     "text": [
      "Mod(21) / Mod(5) == Mod(9)\n"
     ]
    }
   ],
   "source": [
    "print('Mod(21) / Mod(5) ==', Mod(21) / Mod(5)) # consistent with last equation above."
   ]
  },
  {
   "cell_type": "code",
   "execution_count": 36,
   "metadata": {},
   "outputs": [
    {
     "ename": "UnitError",
     "evalue": "9 is not a unit modulo 24 because gcd(9, 24) = 3 != 1.\nMoreover, the extended Euclidean algorithm gives 3 * 9 + -1 * 24 = 3.",
     "output_type": "error",
     "traceback": [
      "\u001b[0;31m---------------------------------------------------------------------------\u001b[0m",
      "\u001b[0;31mUnitError\u001b[0m                                 Traceback (most recent call last)",
      "Cell \u001b[0;32mIn[36], line 1\u001b[0m\n\u001b[0;32m----> 1\u001b[0m \u001b[39mprint\u001b[39m(\u001b[39m'\u001b[39m\u001b[39mMod(21) / Mod(9) ==\u001b[39m\u001b[39m'\u001b[39m, Mod(\u001b[39m21\u001b[39;49m) \u001b[39m/\u001b[39;49m Mod(\u001b[39m9\u001b[39;49m))\n",
      "Cell \u001b[0;32mIn[33], line 68\u001b[0m, in \u001b[0;36mMod.__truediv__\u001b[0;34m(self, other)\u001b[0m\n\u001b[1;32m     67\u001b[0m \u001b[39mdef\u001b[39;00m \u001b[39m__truediv__\u001b[39m(\u001b[39mself\u001b[39m, other):\n\u001b[0;32m---> 68\u001b[0m     \u001b[39mreturn\u001b[39;00m Mod(\u001b[39mself\u001b[39m\u001b[39m.\u001b[39mi \u001b[39m*\u001b[39m multiplicative_inverse_mod_n(other\u001b[39m.\u001b[39;49mi, Mod\u001b[39m.\u001b[39;49mn))\n",
      "Cell \u001b[0;32mIn[33], line 41\u001b[0m, in \u001b[0;36mmultiplicative_inverse_mod_n\u001b[0;34m(m, n)\u001b[0m\n\u001b[1;32m     38\u001b[0m r, s \u001b[39m=\u001b[39m extended_Euclidean_algorithm(m, n)\n\u001b[1;32m     40\u001b[0m \u001b[39mif\u001b[39;00m r \u001b[39m!=\u001b[39m \u001b[39m1\u001b[39m:\n\u001b[0;32m---> 41\u001b[0m     \u001b[39mraise\u001b[39;00m UnitError(m, n, r, s)\n\u001b[1;32m     43\u001b[0m \u001b[39mreturn\u001b[39;00m s \u001b[39m%\u001b[39m n\n",
      "\u001b[0;31mUnitError\u001b[0m: 9 is not a unit modulo 24 because gcd(9, 24) = 3 != 1.\nMoreover, the extended Euclidean algorithm gives 3 * 9 + -1 * 24 = 3."
     ]
    }
   ],
   "source": [
    "print('Mod(21) / Mod(9) ==', Mod(21) / Mod(9))"
   ]
  }
 ],
 "metadata": {
  "kernelspec": {
   "display_name": "16A",
   "language": "python",
   "name": "python3"
  },
  "language_info": {
   "codemirror_mode": {
    "name": "ipython",
    "version": 3
   },
   "file_extension": ".py",
   "mimetype": "text/x-python",
   "name": "python",
   "nbconvert_exporter": "python",
   "pygments_lexer": "ipython3",
   "version": "3.9.15"
  },
  "orig_nbformat": 4,
  "vscode": {
   "interpreter": {
    "hash": "bb173175969092e51690acb81bac0b96cd35590774203fe88d94a5a082f2cb75"
   }
  }
 },
 "nbformat": 4,
 "nbformat_minor": 2
}
