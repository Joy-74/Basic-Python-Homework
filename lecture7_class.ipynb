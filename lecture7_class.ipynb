{
 "cells": [
  {
   "attachments": {},
   "cell_type": "markdown",
   "metadata": {},
   "source": [
    "# Lecture 7\n",
    "\n",
    "- Class variables and instance variables\n",
    "- More Examples\n",
    "- Creates new attributes on the fly\n",
    "- Name mangling"
   ]
  },
  {
   "attachments": {},
   "cell_type": "markdown",
   "metadata": {},
   "source": [
    "### Recap: Class Variables vs Instance Variables"
   ]
  },
  {
   "cell_type": "code",
   "execution_count": 3,
   "metadata": {},
   "outputs": [],
   "source": [
    "class MyClass:\n",
    "    '''this is a class demo'''\n",
    "    count = [] # class variable\n",
    "    def __init__(self, name):\n",
    "        self.name = name # instance variable\n",
    "        MyClass.count.append(0) # updating class variable\n",
    "        print(\"inner\", self.name, id(self.name))\n",
    "        print(\"inner\", MyClass.count, id(MyClass.count))"
   ]
  },
  {
   "cell_type": "code",
   "execution_count": 4,
   "metadata": {},
   "outputs": [
    {
     "name": "stdout",
     "output_type": "stream",
     "text": [
      "inner v1 4424526896\n",
      "inner [0] 4424526208\n",
      "[0] 4424526208\n",
      "[0] 4424526208\n"
     ]
    }
   ],
   "source": [
    "v1 = MyClass(\"v1\")  # instance object\n",
    "print(MyClass.count, id(MyClass.count))\n",
    "print(v1.count, id(v1.count))"
   ]
  },
  {
   "cell_type": "code",
   "execution_count": 3,
   "metadata": {},
   "outputs": [
    {
     "name": "stdout",
     "output_type": "stream",
     "text": [
      "inner v2 4426189040\n",
      "inner [0, 0] 4426259648\n",
      "[0, 0] 4426259648\n",
      "[0, 0] 4426259648\n"
     ]
    }
   ],
   "source": [
    "v2 = MyClass(\"v2\")  # instance object\n",
    "print(MyClass.count, id(MyClass.count))\n",
    "print(v2.count, id(v2.count))"
   ]
  },
  {
   "cell_type": "code",
   "execution_count": 4,
   "metadata": {},
   "outputs": [
    {
     "name": "stdout",
     "output_type": "stream",
     "text": [
      "inner v3 4426252336\n",
      "inner [0, 0, 0] 4426259648\n",
      "[0, 0, 0] 4426259648\n",
      "[0, 0, 0] 4426259648\n"
     ]
    }
   ],
   "source": [
    "v3 = MyClass(\"v3\")\n",
    "print(MyClass.count, id(MyClass.count))\n",
    "print(v3.count, id(v3.count))"
   ]
  },
  {
   "cell_type": "code",
   "execution_count": 5,
   "metadata": {},
   "outputs": [],
   "source": [
    "class MyClass2:\n",
    "    '''this is a class demo'''\n",
    "    def __init__(self, name):\n",
    "        name = 2 # a local variable\n",
    "        self.name = name # instance variable\n",
    "\n",
    "    def double(self):\n",
    "        name += 1 # local variable\n",
    "        self.name=2*self.name"
   ]
  },
  {
   "cell_type": "code",
   "execution_count": 6,
   "metadata": {},
   "outputs": [
    {
     "ename": "UnboundLocalError",
     "evalue": "local variable 'name' referenced before assignment",
     "output_type": "error",
     "traceback": [
      "\u001b[0;31m---------------------------------------------------------------------------\u001b[0m",
      "\u001b[0;31mUnboundLocalError\u001b[0m                         Traceback (most recent call last)",
      "Cell \u001b[0;32mIn[6], line 2\u001b[0m\n\u001b[1;32m      1\u001b[0m d \u001b[39m=\u001b[39m MyClass2(\u001b[39m'\u001b[39m\u001b[39mabc\u001b[39m\u001b[39m'\u001b[39m)\n\u001b[0;32m----> 2\u001b[0m d\u001b[39m.\u001b[39;49mdouble()\n",
      "Cell \u001b[0;32mIn[5], line 8\u001b[0m, in \u001b[0;36mMyClass2.double\u001b[0;34m(self)\u001b[0m\n\u001b[1;32m      7\u001b[0m \u001b[39mdef\u001b[39;00m \u001b[39mdouble\u001b[39m(\u001b[39mself\u001b[39m):\n\u001b[0;32m----> 8\u001b[0m     name \u001b[39m+\u001b[39m\u001b[39m=\u001b[39m \u001b[39m1\u001b[39m \u001b[39m# local variable\u001b[39;00m\n\u001b[1;32m      9\u001b[0m     \u001b[39mself\u001b[39m\u001b[39m.\u001b[39mname\u001b[39m=\u001b[39m\u001b[39m2\u001b[39m\u001b[39m*\u001b[39m\u001b[39mself\u001b[39m\u001b[39m.\u001b[39mname\n",
      "\u001b[0;31mUnboundLocalError\u001b[0m: local variable 'name' referenced before assignment"
     ]
    }
   ],
   "source": [
    "d = MyClass2('abc')\n",
    "d.double()"
   ]
  },
  {
   "cell_type": "code",
   "execution_count": 2,
   "metadata": {},
   "outputs": [],
   "source": [
    "class MyClass3:\n",
    "    '''this is a class demo'''\n",
    "    def __init__(self, name):\n",
    "        self.name = name # instance variable\n",
    "    def double(self):\n",
    "        self.name=2*self.name\n",
    "        self.value = -100 # allowed but not recommended"
   ]
  },
  {
   "cell_type": "code",
   "execution_count": 3,
   "metadata": {},
   "outputs": [],
   "source": [
    "d = MyClass3('abc')"
   ]
  },
  {
   "cell_type": "code",
   "execution_count": 9,
   "metadata": {},
   "outputs": [
    {
     "ename": "AttributeError",
     "evalue": "'MyClass3' object has no attribute 'value'",
     "output_type": "error",
     "traceback": [
      "\u001b[0;31m---------------------------------------------------------------------------\u001b[0m",
      "\u001b[0;31mAttributeError\u001b[0m                            Traceback (most recent call last)",
      "Cell \u001b[0;32mIn[9], line 1\u001b[0m\n\u001b[0;32m----> 1\u001b[0m \u001b[39mprint\u001b[39m(d\u001b[39m.\u001b[39;49mvalue)\n",
      "\u001b[0;31mAttributeError\u001b[0m: 'MyClass3' object has no attribute 'value'"
     ]
    }
   ],
   "source": [
    "print(d.value)"
   ]
  },
  {
   "cell_type": "code",
   "execution_count": 4,
   "metadata": {},
   "outputs": [],
   "source": [
    "d.double()"
   ]
  },
  {
   "cell_type": "code",
   "execution_count": 5,
   "metadata": {},
   "outputs": [
    {
     "name": "stdout",
     "output_type": "stream",
     "text": [
      "-100\n"
     ]
    }
   ],
   "source": [
    "print(d.value)"
   ]
  },
  {
   "attachments": {},
   "cell_type": "markdown",
   "metadata": {},
   "source": [
    "### More examples"
   ]
  },
  {
   "cell_type": "code",
   "execution_count": 5,
   "metadata": {},
   "outputs": [],
   "source": [
    "class MyClass:\n",
    "    classVar1 = 8\n",
    "    classVar2 = [88]\n",
    "    \n",
    "    def __init__(self, aSet, aDict):\n",
    "        self.instanceVar1 = aSet\n",
    "        self.instanceVar2 = aDict\n",
    "    \n",
    "    def get_info(self):\n",
    "        return MyClass.classVar1, MyClass.classVar2, self.instanceVar1, self.instanceVar2\n",
    "    \n",
    "    def add_to_set(self, val):\n",
    "        self.instanceVar1.add(val)  # add val to instanceVar1\n",
    "        \n",
    "    def update_dict(self, key, val):\n",
    "        self.instanceVar2[key] = val"
   ]
  },
  {
   "attachments": {},
   "cell_type": "markdown",
   "metadata": {},
   "source": [
    "There's now a *class object* referenced by `MyClass`.\n",
    "We've defined 6 *attributes*:\n",
    " - `classVar1` and `classVar2` are *class variables*;\n",
    " - `__init__`, `get_info`, `add_to_set`, `update_dict` are *function objects*.\n",
    "\n",
    " 现在有一个 *class object* 被 `MyClass` 引用。\n",
    "我们定义了 6 个*属性*：\n",
    "  - `classVar1` 和 `classVar2` 是*类变量*；\n",
    "  - `__init__`、`get_info`、`add_to_set`、`update_dict` 是*函数对象*。"
   ]
  },
  {
   "cell_type": "code",
   "execution_count": 6,
   "metadata": {},
   "outputs": [],
   "source": [
    "instance1 = MyClass({1}, {1:1})\n",
    "instance2 = MyClass({2}, {2:2})"
   ]
  },
  {
   "attachments": {},
   "cell_type": "markdown",
   "metadata": {},
   "source": [
    "There are now two *instance objects* referenced by `instance1` and `instance2`. They have attributes:\n",
    " - `instanceVar1` and `instanceVar2` are *instance variables*;\n",
    " - `__init__`, `get_info`, `add_to_set`, `update_dict` are *methods*.\n",
    "\n",
    "Running `instance1 = MyClass({1}, {1:1})` did a few things:\n",
    " - made a variable `instance1`;\n",
    " - had it reference a newly made instance object;\n",
    " - called `instance1.__init__({1}, {1:1})`\n",
    "   which is the same as `MyClass.__init__(instance1, {1}, {1:1})`.\n",
    "\n",
    "现在有两个 *instance objects* 被 `instance1` 和 `instance2` 引用。 他们有属性：\n",
    "  - `instanceVar1` 和 `instanceVar2` 是*实例变量*；\n",
    "  - `__init__`、`get_info`、`add_to_set`、`update_dict` 是*方法*。\n",
    "\n",
    "运行 `instance1 = MyClass({1}, {1:1})` 做了一些事情：\n",
    "  - 创建了一个变量“instance1”；\n",
    "  - 让它引用一个新创建的实例对象；\n",
    "  - 称为 `instance1.__init__({1}, {1:1})`\n",
    "    这与 MyClass.__init__(instance1, {1}, {1:1}) 相同。"
   ]
  },
  {
   "cell_type": "code",
   "execution_count": 14,
   "metadata": {},
   "outputs": [
    {
     "name": "stdout",
     "output_type": "stream",
     "text": [
      "8 [88]\n"
     ]
    }
   ],
   "source": [
    "print(MyClass.classVar1, MyClass.classVar2)"
   ]
  },
  {
   "cell_type": "code",
   "execution_count": 7,
   "metadata": {},
   "outputs": [
    {
     "name": "stdout",
     "output_type": "stream",
     "text": [
      "(8, [88], {1}, {1: 1})\n"
     ]
    }
   ],
   "source": [
    "print(instance1.get_info()) # instance1.get_info() is same as MyClass.get_info(instance1)"
   ]
  },
  {
   "cell_type": "code",
   "execution_count": 16,
   "metadata": {},
   "outputs": [
    {
     "name": "stdout",
     "output_type": "stream",
     "text": [
      "(8, [88], {2}, {2: 2})\n"
     ]
    }
   ],
   "source": [
    "print(instance2.get_info()) # instance2.get_info() is same as MyClass.get_info(instance2)"
   ]
  },
  {
   "cell_type": "code",
   "execution_count": 17,
   "metadata": {},
   "outputs": [
    {
     "name": "stdout",
     "output_type": "stream",
     "text": [
      "(8, [88], {0, 1}, {1: 1})\n",
      "(8, [88], {2}, {2: 2, 0: 0})\n"
     ]
    }
   ],
   "source": [
    "instance1.add_to_set(0)     # same as MyClass.add_to_set(instance1, 0)\n",
    "instance2.update_dict(0,0)  # same as MyClass.update_dict(instance2, 0, 0)\n",
    "print(instance1.get_info())\n",
    "print(instance2.get_info())"
   ]
  },
  {
   "cell_type": "markdown",
   "metadata": {},
   "source": [
    "Something we touched on fleetingly last time:\n",
    "an instance of a class knows about the class that gave birth to it, \n",
    "so it can use its class variables."
   ]
  },
  {
   "cell_type": "code",
   "execution_count": 18,
   "metadata": {},
   "outputs": [
    {
     "name": "stdout",
     "output_type": "stream",
     "text": [
      "8 [88]\n",
      "8 [88]\n"
     ]
    }
   ],
   "source": [
    "print(instance1.classVar1, instance1.classVar2)\n",
    "print(instance2.classVar1, instance2.classVar2)"
   ]
  },
  {
   "cell_type": "markdown",
   "metadata": {},
   "source": [
    "We'll see below that this is discouraged."
   ]
  },
  {
   "cell_type": "markdown",
   "metadata": {},
   "source": [
    "## Playing Further"
   ]
  },
  {
   "cell_type": "markdown",
   "metadata": {},
   "source": [
    "Class objects and instance objects behave a lot like dictionaries: we can create new attributes on the fly."
   ]
  },
  {
   "cell_type": "code",
   "execution_count": 6,
   "metadata": {},
   "outputs": [],
   "source": [
    "class MyClass:\n",
    "    pass"
   ]
  },
  {
   "cell_type": "code",
   "execution_count": 7,
   "metadata": {},
   "outputs": [],
   "source": [
    "MyClass.newClassVar = 8"
   ]
  },
  {
   "cell_type": "code",
   "execution_count": 8,
   "metadata": {},
   "outputs": [],
   "source": [
    "instance = MyClass()"
   ]
  },
  {
   "cell_type": "code",
   "execution_count": 9,
   "metadata": {},
   "outputs": [],
   "source": [
    "instance.newInstanceVar = 88"
   ]
  },
  {
   "cell_type": "markdown",
   "metadata": {},
   "source": [
    "and delete them..."
   ]
  },
  {
   "cell_type": "code",
   "execution_count": 10,
   "metadata": {},
   "outputs": [],
   "source": [
    "del MyClass.newClassVar\n",
    "del instance.newInstanceVar"
   ]
  },
  {
   "attachments": {},
   "cell_type": "markdown",
   "metadata": {},
   "source": [
    "There's something to note about the interaction between class variables and instance variables.\n",
    " - If an instance `i` of a class `C` has an instance variable `v`, \n",
    "   then `i.v` will access the instance variable \n",
    "   regardless of whether `C` has a class variable `v` or not.\n",
    "\n",
    "关于类变量和实例变量之间的交互，有一些需要注意的地方。\n",
    "  - 如果类 `C` 的实例 `i` 有一个实例变量 `v`，\n",
    "    然后 `i.v` 将访问实例变量\n",
    "    不管“C”是否有类变量“v”。\n",
    "\n",
    " - Suppose an instance `i` of a class `C` does *not* have an instance variable `v`, \n",
    "   but `C` does have a class variable `v`. \n",
    "\n",
    "   - Referencing `i.v` will access the class variable;\n",
    "   - Assigning to `i.v` will create an instance variable;\n",
    "   - Deleting `i.v` will cause an error.\n",
    "\n",
    "  - 假设类 `C` 的实例 `i` *没* 有实例变量 `v`，\n",
    "    但是 `C` 确实有一个类变量 `v`。\n",
    "\n",
    "    - 引用 `i.v` 将访问类变量；\n",
    "    - 分配给 `i.v` 将创建一个实例变量；\n",
    "    - 删除 `i.v` 会导致错误。"
   ]
  },
  {
   "cell_type": "code",
   "execution_count": 8,
   "metadata": {},
   "outputs": [
    {
     "name": "stdout",
     "output_type": "stream",
     "text": [
      "1 1\n",
      "1 2\n",
      "3 2\n",
      "3 3\n"
     ]
    }
   ],
   "source": [
    "class MyClass:\n",
    "    v = 1             # there is a class variable v throughout\n",
    "\n",
    "i = MyClass()         # i does not have an instance variable v  创建一个i的对象\n",
    "print(MyClass.v, i.v) # i.v accesses the class variable\n",
    "\n",
    "i.v = 2               # assignment creates an instance variable\n",
    "print(MyClass.v, i.v) # i.v accesses the new instance variable\n",
    "\n",
    "MyClass.v = 3         # assignment changes the class variable\n",
    "print(MyClass.v, i.v) # i.v accesses the instance variable\n",
    "\n",
    "del i.v               # del deletes the instance variable 删掉的是i.v=2的对象, 因此指向的是MyClass.v=3的对象\n",
    "print(MyClass.v, i.v) # i.v access the class variable"
   ]
  },
  {
   "cell_type": "code",
   "execution_count": 9,
   "metadata": {},
   "outputs": [
    {
     "ename": "AttributeError",
     "evalue": "v",
     "output_type": "error",
     "traceback": [
      "\u001b[0;31m---------------------------------------------------------------------------\u001b[0m",
      "\u001b[0;31mAttributeError\u001b[0m                            Traceback (most recent call last)",
      "Cell \u001b[0;32mIn[9], line 1\u001b[0m\n\u001b[0;32m----> 1\u001b[0m \u001b[39mdel\u001b[39;00m i\u001b[39m.\u001b[39mv\n",
      "\u001b[0;31mAttributeError\u001b[0m: v"
     ]
    }
   ],
   "source": [
    "del i.v               # there's no instance variable to delete"
   ]
  },
  {
   "attachments": {},
   "cell_type": "markdown",
   "metadata": {},
   "source": [
    "Tips for good code:\n",
    "\n",
    " - Write class variables as attributes of class objects, e.g. `MyClass.classVar`.\n",
    " - Write instance variables as attributes of instance objects, e.g. `instance.instanceVar`.\n",
    " - Avoid writing a class variable as an attribute of an instance object \n",
    "   unless you have a good reason for doing so, \n",
    "   i.e. avoid `instance.classVar`.\n",
    "\n",
    "  - 将类变量写成类对象的属性，例如 `MyClass.classVar`。\n",
    "  - 将实例变量写成实例对象的属性，例如 `instance.instanceVar`。\n",
    "  - 避免将类变量写成实例对象的属性\n",
    "    除非你有充分的理由这样做，\n",
    "    即避免 `instance.classVar`。"
   ]
  },
  {
   "cell_type": "markdown",
   "metadata": {},
   "source": [
    "---------------"
   ]
  },
  {
   "attachments": {},
   "cell_type": "markdown",
   "metadata": {},
   "source": [
    "One should be careful about defining functions on the fly.\n",
    "\n",
    "Probably it's just best to avoid this, but if you want to, you need to ask:\n",
    " - are you defining a function as an instance variable of a single instance,\n",
    " - or creating a function object for the class object to be called as a method for all instances of the class?\n",
    "\n",
    "在动态定义函数时应该小心。\n",
    "\n",
    "可能最好避免这种情况，但如果你想，你需要问：\n",
    "  - 您是否将函数定义为单个实例的实例变量，\n",
    "  - 或者为类对象创建一个函数对象作为类的所有实例的方法调用？"
   ]
  },
  {
   "cell_type": "code",
   "execution_count": 26,
   "metadata": {},
   "outputs": [],
   "source": [
    "class MyClass:\n",
    "    pass"
   ]
  },
  {
   "cell_type": "code",
   "execution_count": 11,
   "metadata": {},
   "outputs": [],
   "source": [
    "def regular_func():\n",
    "    print(\"regular function called\")\n",
    "\n",
    "def intended_to_be_a_method(self):\n",
    "    print(\"method called\")"
   ]
  },
  {
   "cell_type": "code",
   "execution_count": 12,
   "metadata": {},
   "outputs": [],
   "source": [
    "instance1 = MyClass()\n",
    "instance2 = MyClass()"
   ]
  },
  {
   "cell_type": "code",
   "execution_count": 13,
   "metadata": {},
   "outputs": [],
   "source": [
    "instance1.instanceThing = regular_func"
   ]
  },
  {
   "cell_type": "code",
   "execution_count": 14,
   "metadata": {},
   "outputs": [
    {
     "name": "stdout",
     "output_type": "stream",
     "text": [
      "regular function called\n"
     ]
    }
   ],
   "source": [
    "instance1.instanceThing()"
   ]
  },
  {
   "cell_type": "code",
   "execution_count": 15,
   "metadata": {},
   "outputs": [
    {
     "ename": "AttributeError",
     "evalue": "'MyClass' object has no attribute 'instanceThing'",
     "output_type": "error",
     "traceback": [
      "\u001b[0;31m---------------------------------------------------------------------------\u001b[0m",
      "\u001b[0;31mAttributeError\u001b[0m                            Traceback (most recent call last)",
      "Cell \u001b[0;32mIn[15], line 1\u001b[0m\n\u001b[0;32m----> 1\u001b[0m instance2\u001b[39m.\u001b[39;49minstanceThing()\n",
      "\u001b[0;31mAttributeError\u001b[0m: 'MyClass' object has no attribute 'instanceThing'"
     ]
    }
   ],
   "source": [
    "instance2.instanceThing()"
   ]
  },
  {
   "cell_type": "code",
   "execution_count": 16,
   "metadata": {},
   "outputs": [],
   "source": [
    "MyClass.classThing = intended_to_be_a_method"
   ]
  },
  {
   "cell_type": "code",
   "execution_count": 17,
   "metadata": {},
   "outputs": [
    {
     "name": "stdout",
     "output_type": "stream",
     "text": [
      "method called\n",
      "method called\n"
     ]
    }
   ],
   "source": [
    "instance1.classThing()\n",
    "instance2.classThing()"
   ]
  },
  {
   "cell_type": "markdown",
   "metadata": {},
   "source": [
    "## Private instance variables"
   ]
  },
  {
   "attachments": {},
   "cell_type": "markdown",
   "metadata": {},
   "source": [
    "If we're being really strict with our language, Python does not have private variables.\n",
    "\n",
    "But there are two things used in Python that serve similar purposes to private variables in C++.\n",
    "\n",
    " - A single underscore at the start of an attribute name (like `_privateVariable`)\n",
    "   indicates that it should be treated as private, \n",
    "   \n",
    "   an implementation detail subject to change without notice.\n",
    " - A double underscore (like `__variableWithCommonName`) \n",
    "   makes an attribute \n",
    "   \n",
    "   behave far more like a private variable\n",
    "   (even though it is still not private). \n",
    "\n",
    "    This is particularly useful for avoiding name clashes if we're subclassing.\n",
    "    \n",
    "    We demonstrate how double underscores work below.\n",
    "\n",
    "如果我们对我们的语言非常严格，Python 就没有私有变量。\n",
    "\n",
    "但是在 Python 中有两个东西与 C++ 中的私有变量有相似的用途。\n",
    "\n",
    "  - 属性名称开头的单个下划线（如 _privateVariable ）\n",
    "    表明它应该被视为私有的，\n",
    "   \n",
    "    实施细节如有更改，恕不另行通知。\n",
    "  - 双下划线（如 `__variableWithCommonName`）\n",
    "    做一个属性\n",
    "   \n",
    "    表现得更像一个私有变量\n",
    "    （即使它仍然不是私有的）。\n",
    "\n",
    "     如果我们正在子类化，这对于避免名称冲突特别有用。\n",
    "    \n",
    "     我们在下面演示双下划线是如何工作的。"
   ]
  },
  {
   "cell_type": "code",
   "execution_count": 1,
   "metadata": {},
   "outputs": [],
   "source": [
    "class MyClass:\n",
    "    def __init__(self, i, j):\n",
    "        self.i = i\n",
    "        self.__j = j\n",
    "        self.j = j\n",
    "    \n",
    "    def get_info(self):\n",
    "        return self.i, self.__j"
   ]
  },
  {
   "cell_type": "code",
   "execution_count": 2,
   "metadata": {},
   "outputs": [],
   "source": [
    "instance = MyClass(1,2)"
   ]
  },
  {
   "cell_type": "code",
   "execution_count": 3,
   "metadata": {},
   "outputs": [
    {
     "name": "stdout",
     "output_type": "stream",
     "text": [
      "1\n"
     ]
    }
   ],
   "source": [
    "print(instance.i)"
   ]
  },
  {
   "cell_type": "code",
   "execution_count": 6,
   "metadata": {},
   "outputs": [
    {
     "name": "stdout",
     "output_type": "stream",
     "text": [
      "2\n"
     ]
    }
   ],
   "source": [
    "print(instance.j)"
   ]
  },
  {
   "cell_type": "code",
   "execution_count": 7,
   "metadata": {},
   "outputs": [
    {
     "ename": "AttributeError",
     "evalue": "'MyClass' object has no attribute '__j'",
     "output_type": "error",
     "traceback": [
      "\u001b[0;31m---------------------------------------------------------------------------\u001b[0m",
      "\u001b[0;31mAttributeError\u001b[0m                            Traceback (most recent call last)",
      "Cell \u001b[0;32mIn[7], line 1\u001b[0m\n\u001b[0;32m----> 1\u001b[0m \u001b[39mprint\u001b[39m(instance\u001b[39m.\u001b[39;49m__j)\n",
      "\u001b[0;31mAttributeError\u001b[0m: 'MyClass' object has no attribute '__j'"
     ]
    }
   ],
   "source": [
    "print(instance.__j)"
   ]
  },
  {
   "cell_type": "markdown",
   "metadata": {},
   "source": [
    "So we cannot access the instance variable `__j` in the usual way. It is there however..."
   ]
  },
  {
   "cell_type": "code",
   "execution_count": 8,
   "metadata": {},
   "outputs": [
    {
     "name": "stdout",
     "output_type": "stream",
     "text": [
      "(1, 2)\n"
     ]
    }
   ],
   "source": [
    "print(instance.get_info())"
   ]
  },
  {
   "attachments": {},
   "cell_type": "markdown",
   "metadata": {},
   "source": [
    "Something called *name mangling* has occurred. If we want to access it directly...\n",
    "发生了称为 *name mangling* 的事情。 如果我们想直接访问它......"
   ]
  },
  {
   "cell_type": "code",
   "execution_count": 40,
   "metadata": {},
   "outputs": [
    {
     "name": "stdout",
     "output_type": "stream",
     "text": [
      "2\n"
     ]
    }
   ],
   "source": [
    "print(instance._MyClass__j)"
   ]
  },
  {
   "cell_type": "markdown",
   "metadata": {},
   "source": [
    "We replaced `__` with `_MyClass__`. The class behaves as though we typed:\n",
    "\n",
    "```\n",
    "class MyClass:\n",
    "    def __init__(self, i, j):\n",
    "        self.i = i\n",
    "        self._MyClass__j = j\n",
    "    \n",
    "    def get_info(self):\n",
    "        return self.i, self._MyClass__j\n",
    "```\n",
    "\n",
    "In general, we would use the relevant class name instead of `MyClass`."
   ]
  },
  {
   "cell_type": "code",
   "execution_count": 41,
   "metadata": {},
   "outputs": [
    {
     "name": "stdout",
     "output_type": "stream",
     "text": [
      "88\n"
     ]
    }
   ],
   "source": [
    "class AnotherClass:\n",
    "    def __init__(self, i, j):\n",
    "        self.i = i\n",
    "        self.__j = j\n",
    "    \n",
    "    def get_info(self):\n",
    "        return self.i, self.__j\n",
    "\n",
    "anotherInstance = AnotherClass(8,88)\n",
    "print(anotherInstance._AnotherClass__j)"
   ]
  },
  {
   "cell_type": "markdown",
   "metadata": {},
   "source": [
    "We can even edit it."
   ]
  },
  {
   "cell_type": "code",
   "execution_count": 42,
   "metadata": {},
   "outputs": [
    {
     "name": "stdout",
     "output_type": "stream",
     "text": [
      "(8, 888)\n"
     ]
    }
   ],
   "source": [
    "anotherInstance._AnotherClass__j = 888\n",
    "print(anotherInstance.get_info())"
   ]
  },
  {
   "cell_type": "markdown",
   "metadata": {},
   "source": [
    "Finally, a weird thing..."
   ]
  },
  {
   "cell_type": "code",
   "execution_count": 43,
   "metadata": {},
   "outputs": [
    {
     "name": "stdout",
     "output_type": "stream",
     "text": [
      "666\n",
      "(8, 888)\n"
     ]
    }
   ],
   "source": [
    "anotherInstance.__j = 666\n",
    "print(anotherInstance.__j)\n",
    "print(anotherInstance.get_info())"
   ]
  },
  {
   "cell_type": "markdown",
   "metadata": {},
   "source": [
    "`anotherInstance` now has attributes `_AnotherClass__j` and `__j`."
   ]
  },
  {
   "cell_type": "code",
   "execution_count": 44,
   "metadata": {},
   "outputs": [
    {
     "name": "stdout",
     "output_type": "stream",
     "text": [
      "['_AnotherClass__j', '__class__', '__delattr__', '__dict__', '__dir__', '__doc__', '__eq__', '__format__', '__ge__', '__getattribute__', '__gt__', '__hash__', '__init__', '__init_subclass__', '__j', '__le__', '__lt__', '__module__', '__ne__', '__new__', '__reduce__', '__reduce_ex__', '__repr__', '__setattr__', '__sizeof__', '__str__', '__subclasshook__', '__weakref__', 'get_info', 'i']\n"
     ]
    }
   ],
   "source": [
    "print(dir(anotherInstance))"
   ]
  },
  {
   "cell_type": "markdown",
   "metadata": {},
   "source": [
    "However, we can't really use functions or methods with `__j` since the class name-mangles, \n",
    "so what we just did is pretty silly!"
   ]
  },
  {
   "cell_type": "markdown",
   "metadata": {},
   "source": [
    "## Testing your understanding\n",
    "\n",
    "Here's some code so you can check your understanding of what we have spoken about so far."
   ]
  },
  {
   "cell_type": "code",
   "execution_count": 4,
   "metadata": {},
   "outputs": [],
   "source": [
    "class MyClass:\n",
    "    a = 1\n",
    "\n",
    "    def __init__(self, x = 2, y = 3):\n",
    "        MyClass.a = x\n",
    "        self.b = y\n",
    "        self.__c = 10\n",
    "\n",
    "    def get__c(self):\n",
    "        return self.__c\n",
    "\n",
    "    def set__c(self, x):\n",
    "        self.__c = x"
   ]
  },
  {
   "cell_type": "code",
   "execution_count": 5,
   "metadata": {},
   "outputs": [
    {
     "name": "stdout",
     "output_type": "stream",
     "text": [
      "1\n"
     ]
    }
   ],
   "source": [
    "print(MyClass.a)  # haven't call function yet, and MyClass.a is initialize value"
   ]
  },
  {
   "cell_type": "code",
   "execution_count": 6,
   "metadata": {},
   "outputs": [
    {
     "name": "stdout",
     "output_type": "stream",
     "text": [
      "2\n",
      "2\n"
     ]
    }
   ],
   "source": [
    "i1 = MyClass()  # create new instance object\n",
    "\n",
    "print(MyClass.a)\n",
    "print(i1.a)  # use the class variable"
   ]
  },
  {
   "cell_type": "code",
   "execution_count": 8,
   "metadata": {},
   "outputs": [
    {
     "name": "stdout",
     "output_type": "stream",
     "text": [
      "4\n",
      "4\n",
      "4\n"
     ]
    }
   ],
   "source": [
    "i2 = MyClass(4)\n",
    "\n",
    "print(MyClass.a)  # a is class variable\n",
    "print(i1.a)\n",
    "print(i2.a)"
   ]
  },
  {
   "cell_type": "code",
   "execution_count": 15,
   "metadata": {},
   "outputs": [
    {
     "name": "stdout",
     "output_type": "stream",
     "text": [
      "5\n",
      "5\n",
      "5\n",
      "5\n",
      "6\n"
     ]
    }
   ],
   "source": [
    "i3 = MyClass(5,6)\n",
    "\n",
    "print(MyClass.a)\n",
    "print(i1.a)\n",
    "print(i2.a)\n",
    "print(i3.a)\n",
    "print(i3.b)"
   ]
  },
  {
   "cell_type": "code",
   "execution_count": 16,
   "metadata": {},
   "outputs": [
    {
     "name": "stdout",
     "output_type": "stream",
     "text": [
      "7\n",
      "7\n",
      "7\n"
     ]
    }
   ],
   "source": [
    "MyClass.a = 7\n",
    "\n",
    "print(i1.a)\n",
    "print(i2.a)\n",
    "print(i3.a)"
   ]
  },
  {
   "cell_type": "code",
   "execution_count": 17,
   "metadata": {},
   "outputs": [
    {
     "name": "stdout",
     "output_type": "stream",
     "text": [
      "7\n",
      "8\n",
      "7\n",
      "7\n"
     ]
    }
   ],
   "source": [
    "i1.a = 8\n",
    "\n",
    "print(MyClass.a)\n",
    "print(i1.a)\n",
    "print(i2.a)\n",
    "print(i3.a)"
   ]
  },
  {
   "cell_type": "code",
   "execution_count": 18,
   "metadata": {},
   "outputs": [
    {
     "name": "stdout",
     "output_type": "stream",
     "text": [
      "7\n",
      "7\n",
      "7\n"
     ]
    }
   ],
   "source": [
    "del i1.a\n",
    "\n",
    "print(i1.a)\n",
    "print(i2.a)\n",
    "print(i3.a)"
   ]
  },
  {
   "cell_type": "code",
   "execution_count": 19,
   "metadata": {},
   "outputs": [
    {
     "ename": "AttributeError",
     "evalue": "type object 'MyClass' has no attribute 'b'",
     "output_type": "error",
     "traceback": [
      "\u001b[0;31m---------------------------------------------------------------------------\u001b[0m",
      "\u001b[0;31mAttributeError\u001b[0m                            Traceback (most recent call last)",
      "Cell \u001b[0;32mIn[19], line 1\u001b[0m\n\u001b[0;32m----> 1\u001b[0m \u001b[39mprint\u001b[39m(MyClass\u001b[39m.\u001b[39;49mb)\n",
      "\u001b[0;31mAttributeError\u001b[0m: type object 'MyClass' has no attribute 'b'"
     ]
    }
   ],
   "source": [
    "print(MyClass.b)"
   ]
  },
  {
   "cell_type": "code",
   "execution_count": 20,
   "metadata": {},
   "outputs": [
    {
     "name": "stdout",
     "output_type": "stream",
     "text": [
      "3\n",
      "3\n",
      "6\n"
     ]
    }
   ],
   "source": [
    "print(i1.b)\n",
    "print(i2.b)\n",
    "print(i3.b)"
   ]
  },
  {
   "cell_type": "code",
   "execution_count": 25,
   "metadata": {},
   "outputs": [
    {
     "name": "stdout",
     "output_type": "stream",
     "text": [
      "9\n",
      "3\n",
      "6\n"
     ]
    }
   ],
   "source": [
    "i1.b = 9\n",
    "\n",
    "print(i1.b)\n",
    "print(i2.b)\n",
    "print(i3.b)"
   ]
  },
  {
   "cell_type": "code",
   "execution_count": 22,
   "metadata": {},
   "outputs": [
    {
     "ename": "AttributeError",
     "evalue": "'MyClass' object has no attribute '__c'",
     "output_type": "error",
     "traceback": [
      "\u001b[0;31m---------------------------------------------------------------------------\u001b[0m",
      "\u001b[0;31mAttributeError\u001b[0m                            Traceback (most recent call last)",
      "Cell \u001b[0;32mIn[22], line 1\u001b[0m\n\u001b[0;32m----> 1\u001b[0m \u001b[39mprint\u001b[39m(i1\u001b[39m.\u001b[39;49m__c)\n",
      "\u001b[0;31mAttributeError\u001b[0m: 'MyClass' object has no attribute '__c'"
     ]
    }
   ],
   "source": [
    "print(i1.__c)"
   ]
  },
  {
   "cell_type": "code",
   "execution_count": 23,
   "metadata": {},
   "outputs": [
    {
     "name": "stdout",
     "output_type": "stream",
     "text": [
      "10\n"
     ]
    }
   ],
   "source": [
    "print(i1.get__c())"
   ]
  },
  {
   "cell_type": "code",
   "execution_count": 58,
   "metadata": {},
   "outputs": [
    {
     "name": "stdout",
     "output_type": "stream",
     "text": [
      "11\n",
      "10\n"
     ]
    }
   ],
   "source": [
    "i1.__c = 11\n",
    "\n",
    "print(i1.__c)\n",
    "print(i1.get__c())"
   ]
  },
  {
   "cell_type": "code",
   "execution_count": 59,
   "metadata": {},
   "outputs": [
    {
     "name": "stdout",
     "output_type": "stream",
     "text": [
      "11\n",
      "12\n"
     ]
    }
   ],
   "source": [
    "i1.set__c(12)\n",
    "\n",
    "print(i1.__c)\n",
    "print(i1.get__c())"
   ]
  },
  {
   "cell_type": "code",
   "execution_count": 60,
   "metadata": {},
   "outputs": [
    {
     "name": "stdout",
     "output_type": "stream",
     "text": [
      "12\n"
     ]
    }
   ],
   "source": [
    "del i1.__c\n",
    "\n",
    "print(i1.get__c())"
   ]
  },
  {
   "cell_type": "code",
   "execution_count": 61,
   "metadata": {},
   "outputs": [
    {
     "name": "stdout",
     "output_type": "stream",
     "text": [
      "13\n"
     ]
    }
   ],
   "source": [
    "i1._MyClass__c = 13\n",
    "\n",
    "print(i1.get__c())"
   ]
  },
  {
   "cell_type": "code",
   "execution_count": null,
   "metadata": {},
   "outputs": [],
   "source": []
  }
 ],
 "metadata": {
  "kernelspec": {
   "display_name": "16A",
   "language": "python",
   "name": "python3"
  },
  "language_info": {
   "codemirror_mode": {
    "name": "ipython",
    "version": 3
   },
   "file_extension": ".py",
   "mimetype": "text/x-python",
   "name": "python",
   "nbconvert_exporter": "python",
   "pygments_lexer": "ipython3",
   "version": "3.9.15"
  },
  "orig_nbformat": 4,
  "vscode": {
   "interpreter": {
    "hash": "bb173175969092e51690acb81bac0b96cd35590774203fe88d94a5a082f2cb75"
   }
  }
 },
 "nbformat": 4,
 "nbformat_minor": 2
}
