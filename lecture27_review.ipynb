{
 "cells": [
  {
   "attachments": {},
   "cell_type": "markdown",
   "metadata": {},
   "source": [
    "# Lecture 27 Review Part 2\n",
    "\n",
    "For the second half of the course, since there are too many materials, I will provide the key points and example problems here. The final will only cover these key points.\n",
    "\n",
    "If other materials need to be used in the final exam, I will provide them as hints."
   ]
  },
  {
   "attachments": {},
   "cell_type": "markdown",
   "metadata": {},
   "source": [
    "### Numpy \n",
    "\n",
    "The functions I find most useful for array creation are:\n",
    " - `np.array`\n",
    " - `np.full`\n",
    " - `np.zeros`\n",
    " - `np.ones`\n",
    " - `np.empty`\n",
    " - `np.full_like`\n",
    " - `np.zeros_like`\n",
    " - `np.ones_like`\n",
    " - `np.empty_like`\n",
    " - `np.fromfunction`\n",
    " - `np.arange`\n",
    " - `np.linspace`\n",
    "\n",
    "You need to know how to write code with these functions."
   ]
  },
  {
   "attachments": {},
   "cell_type": "markdown",
   "metadata": {},
   "source": [
    "这些都是 Python 中 NumPy 库中用于创建 NumPy 数组的函数：\n",
    "\n",
    "- np.array：从 Python 列表或元组创建 NumPy 数组。\n",
    "\n",
    "例子：arr = np.array([1, 2, 3])\n",
    "\n",
    "- np.full：创建一个具有给定形状的 NumPy 数组，并用指定的值填充它。\n",
    "\n",
    "例子：arr = np.full((3, 3), 5)\n",
    "\n",
    "- np.zeros：创建一个具有给定形状的 NumPy 数组并用零填充它。\n",
    "\n",
    "例子：arr = np.zeros((2, 4))\n",
    "\n",
    "- np.ones：创建一个具有给定形状的 NumPy 数组并用 1 填充它。\n",
    "\n",
    "例子：arr = np.ones((3, 3))\n",
    "\n",
    "- np.empty：创建具有给定形状但不初始化其值的 NumPy 数组。这些值是不可预测的，取决于分配时内存的状态。\n",
    "\n",
    "例子：arr = np.empty((2, 2))\n",
    "\n",
    "- np.full_like：创建一个与给定数组具有相同形状和数据类型的 NumPy 数组，并用指定值填充它。\n",
    "\n",
    "例子：arr2 = np.full_like(arr1, 3)\n",
    "\n",
    "- np.zeros_like：创建一个与给定数组具有相同形状和数据类型的 NumPy 数组，并用零填充它。\n",
    "\n",
    "例子：arr2 = np.zeros_like(arr1)\n",
    "\n",
    "- np.ones_like：创建一个与给定数组具有相同形状和数据类型的 NumPy 数组，并用 1 填充它。\n",
    "\n",
    "例子：arr2 = np.ones_like(arr1)\n",
    "\n",
    "- np.empty_like：创建一个与给定数组具有相同形状和数据类型但不初始化其值的 NumPy 数组。\n",
    "\n",
    "例子：arr2 = np.empty_like(arr1)\n",
    "\n",
    "- np.fromfunction：通过根据坐标对每个元素应用一个函数来创建一个 NumPy 数组。\n",
    "\n",
    "例子：arr = np.fromfunction(lambda i, j: i + j, (3, 3))\n",
    "\n",
    "- np.arange：创建一个 NumPy 数组，其值在给定区间内均匀分布。\n",
    "例子：arr = np.arange(0, 10, 2)\n",
    "\n",
    "- np.linspace：创建一个 NumPy 数组，其值在给定区间内均匀分布，包括起点和终点。\n",
    "例子：arr = np.linspace(0, 1, 5)\n",
    "\n"
   ]
  },
  {
   "attachments": {},
   "cell_type": "markdown",
   "metadata": {},
   "source": [
    "converting type (`astype`)\n",
    "- basic types: np.float64, np.float32, np.int32, \n",
    "np.uint32 (nonnegative)\n",
    "\n",
    "addition and multiplication of numpy arrays\n",
    "\n",
    "**The rules of broadcasting**\n",
    "\n",
    " - If the input arrays do not have the same number of axes, \n",
    "\n",
    "   operations will behave as though \n",
    "   a `1` has been repeatedly prepended to the shape of the array with fewer axes.\n",
    "\n",
    " - If an array has an axis of size `1`, \n",
    "   it behaves as though that axis has size equal to the size of the corresponding axis in the other array;\n",
    "\n",
    "   it does this as though the array elements are the same along that axis.\n",
    "\n",
    "Example questions:\n",
    " - np.ones((2,1,3,5)) + np.ones((4,1,5))\n",
    "\n",
    "Use ``None`` or `np.newaxis` to add an dimension (axis)\n",
    "\n",
    "`a.shape` to get the shape of `a`"
   ]
  },
  {
   "attachments": {},
   "cell_type": "markdown",
   "metadata": {},
   "source": [
    "Everything in lecture 14 will be covered, including\n",
    "- fromfunction\n",
    "- indexing and slicing\n",
    "- view and copy\n",
    "- masking\n",
    "\n",
    "In particular, \n",
    "You should be able to \n",
    "- predict the shape and values of array\n",
    "- write code to solve simple tasks with indexing/slicing/copy/masking\n",
    "\n",
    "Example question:\n",
    "- providing an array `a`, replacing all the entries with value `3` with `5`. solution: `a[a==3]=5`\n",
    "- `a = np.ones((2,3,4)); b = a[1]` what's the shape of b? (3,4)\n",
    "- `a = np.ones((2,3,4)); b = (a==1); c = a[b]` what's the shape of c? (24,)\n"
   ]
  },
  {
   "attachments": {},
   "cell_type": "markdown",
   "metadata": {},
   "source": [
    "Blurring \n",
    "- blurring won't be covered\n",
    "\n",
    "Matplotlib\n",
    "- matplotlib won't be covered"
   ]
  },
  {
   "attachments": {},
   "cell_type": "markdown",
   "metadata": {},
   "source": [
    "Pandas (Lecture 17 + 18)\n",
    "- write code to access a column, e.g. `a['math']` or `a.math`\n",
    "- basic usage of masks, e.g., `lsd[lsd.math>50]`\n",
    "- selection by label\n",
    "- selection by position\n"
   ]
  },
  {
   "attachments": {},
   "cell_type": "markdown",
   "metadata": {},
   "source": [
    "NLTK\n",
    "- NLTK won't be covered"
   ]
  },
  {
   "attachments": {},
   "cell_type": "markdown",
   "metadata": {},
   "source": [
    "Graph\n",
    "- Given a block of code constructing the graph, you need to be able to draw a graph."
   ]
  },
  {
   "attachments": {},
   "cell_type": "markdown",
   "metadata": {},
   "source": [
    "sklearn\n",
    "- What is supervised learning, what is clustering\n",
    "\n",
    "A Cluster can be thought of as comprising a group of data points whose inter-point distances are small compared with the distances to points outside of the cluster.\n",
    "\n",
    "- What is classification (with discrete labels), what is regression (with continuous labels)\n",
    "- You need to know the use cases of knn, k-mean, support vector classifier, Gaussian process regression"
   ]
  },
  {
   "cell_type": "markdown",
   "metadata": {},
   "source": []
  }
 ],
 "metadata": {
  "kernelspec": {
   "display_name": "16A",
   "language": "python",
   "name": "python3"
  },
  "language_info": {
   "codemirror_mode": {
    "name": "ipython",
    "version": 3
   },
   "file_extension": ".py",
   "mimetype": "text/x-python",
   "name": "python",
   "nbconvert_exporter": "python",
   "pygments_lexer": "ipython3",
   "version": "3.9.15"
  },
  "orig_nbformat": 4
 },
 "nbformat": 4,
 "nbformat_minor": 2
}
